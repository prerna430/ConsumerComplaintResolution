{
  "nbformat": 4,
  "nbformat_minor": 0,
  "metadata": {
    "colab": {
      "name": "Consumer_Complaint.ipynb",
      "provenance": [],
      "collapsed_sections": [
        "nzIkb1dqH8sw",
        "ML1LpRI6ccqm",
        "W-qrubcz1GCA",
        "YphNctUxkFYp",
        "i0dhlj5qn6m6",
        "aWTjIf3_OST6",
        "WlX70xuZ1LRC",
        "dEoZ8E1F09Tg"
      ],
      "machine_shape": "hm"
    },
    "kernelspec": {
      "name": "python3",
      "display_name": "Python 3"
    },
    "accelerator": "GPU"
  },
  "cells": [
    {
      "cell_type": "code",
      "metadata": {
        "id": "osumEPmlerLI",
        "colab_type": "code",
        "outputId": "d9ed6dab-b4f3-406e-f503-fbcb7c102f70",
        "colab": {
          "base_uri": "https://localhost:8080/",
          "height": 124
        }
      },
      "source": [
        "from google.colab import drive\n",
        "drive.mount('/content/drive')"
      ],
      "execution_count": 0,
      "outputs": [
        {
          "output_type": "stream",
          "text": [
            "Go to this URL in a browser: https://accounts.google.com/o/oauth2/auth?client_id=947318989803-6bn6qk8qdgf4n4g3pfee6491hc0brc4i.apps.googleusercontent.com&redirect_uri=urn%3aietf%3awg%3aoauth%3a2.0%3aoob&response_type=code&scope=email%20https%3a%2f%2fwww.googleapis.com%2fauth%2fdocs.test%20https%3a%2f%2fwww.googleapis.com%2fauth%2fdrive%20https%3a%2f%2fwww.googleapis.com%2fauth%2fdrive.photos.readonly%20https%3a%2f%2fwww.googleapis.com%2fauth%2fpeopleapi.readonly\n",
            "\n",
            "Enter your authorization code:\n",
            "··········\n",
            "Mounted at /content/drive\n"
          ],
          "name": "stdout"
        }
      ]
    },
    {
      "cell_type": "code",
      "metadata": {
        "id": "z1HPHxWnes0S",
        "colab_type": "code",
        "colab": {}
      },
      "source": [
        "#Importing all the libraries\n",
        "import os\n",
        "import datetime\n",
        "import pandas as pd \n",
        "import numpy as np\n",
        "from sklearn import metrics\n",
        "from sklearn.model_selection import train_test_split\n",
        "from sklearn.model_selection import GridSearchCV\n",
        "from sklearn.ensemble import RandomForestClassifier\n",
        "from sklearn.model_selection import RandomizedSearchCV\n",
        "#Data Visualization\n",
        "import seaborn as sns\n",
        "import matplotlib.pyplot as plt\n",
        "%matplotlib inline\n",
        "#Warnings\n",
        "import warnings\n",
        "warnings.filterwarnings(\"ignore\")"
      ],
      "execution_count": 0,
      "outputs": []
    },
    {
      "cell_type": "code",
      "metadata": {
        "id": "Y82M7L4OfqqJ",
        "colab_type": "code",
        "colab": {}
      },
      "source": [
        "pd.options.display.max_rows = 999"
      ],
      "execution_count": 0,
      "outputs": []
    },
    {
      "cell_type": "markdown",
      "metadata": {
        "id": "nzIkb1dqH8sw",
        "colab_type": "text"
      },
      "source": [
        "# Reading Dataset"
      ]
    },
    {
      "cell_type": "code",
      "metadata": {
        "id": "j13RzlEce3a5",
        "colab_type": "code",
        "outputId": "300c7357-b81d-4b50-809e-680ecd0a7bea",
        "colab": {
          "base_uri": "https://localhost:8080/",
          "height": 52
        }
      },
      "source": [
        "train_file = pd.read_csv('/content/drive/My Drive/Project1_Data/Consumer_Complaints_train.csv')\n",
        "test_file = pd.read_csv('/content/drive/My Drive/Project1_Data/Consumer_Complaints_test_share.csv')\n",
        "\n",
        "print(train_file.shape)\n",
        "print(test_file.shape)"
      ],
      "execution_count": 0,
      "outputs": [
        {
          "output_type": "stream",
          "text": [
            "(472444, 18)\n",
            "(119606, 17)\n"
          ],
          "name": "stdout"
        }
      ]
    },
    {
      "cell_type": "code",
      "metadata": {
        "id": "ATaVs2Z8u3J-",
        "colab_type": "code",
        "outputId": "6f788e07-c2b1-46a9-9d74-76e81419c9c5",
        "colab": {
          "base_uri": "https://localhost:8080/",
          "height": 501
        }
      },
      "source": [
        "train_file.head()"
      ],
      "execution_count": 0,
      "outputs": [
        {
          "output_type": "execute_result",
          "data": {
            "text/html": [
              "<div>\n",
              "<style scoped>\n",
              "    .dataframe tbody tr th:only-of-type {\n",
              "        vertical-align: middle;\n",
              "    }\n",
              "\n",
              "    .dataframe tbody tr th {\n",
              "        vertical-align: top;\n",
              "    }\n",
              "\n",
              "    .dataframe thead th {\n",
              "        text-align: right;\n",
              "    }\n",
              "</style>\n",
              "<table border=\"1\" class=\"dataframe\">\n",
              "  <thead>\n",
              "    <tr style=\"text-align: right;\">\n",
              "      <th></th>\n",
              "      <th>Date received</th>\n",
              "      <th>Product</th>\n",
              "      <th>Sub-product</th>\n",
              "      <th>Issue</th>\n",
              "      <th>Sub-issue</th>\n",
              "      <th>Consumer complaint narrative</th>\n",
              "      <th>Company public response</th>\n",
              "      <th>Company</th>\n",
              "      <th>State</th>\n",
              "      <th>ZIP code</th>\n",
              "      <th>Tags</th>\n",
              "      <th>Consumer consent provided?</th>\n",
              "      <th>Submitted via</th>\n",
              "      <th>Date sent to company</th>\n",
              "      <th>Company response to consumer</th>\n",
              "      <th>Timely response?</th>\n",
              "      <th>Consumer disputed?</th>\n",
              "      <th>Complaint ID</th>\n",
              "    </tr>\n",
              "  </thead>\n",
              "  <tbody>\n",
              "    <tr>\n",
              "      <th>0</th>\n",
              "      <td>15-05-2014</td>\n",
              "      <td>Credit card</td>\n",
              "      <td>NaN</td>\n",
              "      <td>Billing statement</td>\n",
              "      <td>NaN</td>\n",
              "      <td>NaN</td>\n",
              "      <td>NaN</td>\n",
              "      <td>Wells Fargo &amp; Company</td>\n",
              "      <td>MI</td>\n",
              "      <td>48342</td>\n",
              "      <td>Older American</td>\n",
              "      <td>NaN</td>\n",
              "      <td>Web</td>\n",
              "      <td>16-05-2014</td>\n",
              "      <td>Closed with explanation</td>\n",
              "      <td>Yes</td>\n",
              "      <td>No</td>\n",
              "      <td>856103.0</td>\n",
              "    </tr>\n",
              "    <tr>\n",
              "      <th>1</th>\n",
              "      <td>18-09-2014</td>\n",
              "      <td>Bank account or service</td>\n",
              "      <td>(CD) Certificate of deposit</td>\n",
              "      <td>Making/receiving payments, sending money</td>\n",
              "      <td>NaN</td>\n",
              "      <td>NaN</td>\n",
              "      <td>NaN</td>\n",
              "      <td>Santander Bank US</td>\n",
              "      <td>PA</td>\n",
              "      <td>18042</td>\n",
              "      <td>NaN</td>\n",
              "      <td>NaN</td>\n",
              "      <td>Referral</td>\n",
              "      <td>24-09-2014</td>\n",
              "      <td>Closed</td>\n",
              "      <td>Yes</td>\n",
              "      <td>No</td>\n",
              "      <td>1034666.0</td>\n",
              "    </tr>\n",
              "    <tr>\n",
              "      <th>2</th>\n",
              "      <td>13-03-2014</td>\n",
              "      <td>Credit reporting</td>\n",
              "      <td>NaN</td>\n",
              "      <td>Incorrect information on credit report</td>\n",
              "      <td>Account status</td>\n",
              "      <td>NaN</td>\n",
              "      <td>NaN</td>\n",
              "      <td>Equifax</td>\n",
              "      <td>CA</td>\n",
              "      <td>92427</td>\n",
              "      <td>NaN</td>\n",
              "      <td>NaN</td>\n",
              "      <td>Referral</td>\n",
              "      <td>03-04-2014</td>\n",
              "      <td>Closed with non-monetary relief</td>\n",
              "      <td>Yes</td>\n",
              "      <td>No</td>\n",
              "      <td>756363.0</td>\n",
              "    </tr>\n",
              "    <tr>\n",
              "      <th>3</th>\n",
              "      <td>17-07-2015</td>\n",
              "      <td>Credit card</td>\n",
              "      <td>NaN</td>\n",
              "      <td>Billing statement</td>\n",
              "      <td>NaN</td>\n",
              "      <td>My credit card statement from US Bank, XXXX. X...</td>\n",
              "      <td>Company chooses not to provide a public response</td>\n",
              "      <td>U.S. Bancorp</td>\n",
              "      <td>GA</td>\n",
              "      <td>305XX</td>\n",
              "      <td>Older American</td>\n",
              "      <td>Consent provided</td>\n",
              "      <td>Web</td>\n",
              "      <td>17-07-2015</td>\n",
              "      <td>Closed with monetary relief</td>\n",
              "      <td>Yes</td>\n",
              "      <td>No</td>\n",
              "      <td>1474177.0</td>\n",
              "    </tr>\n",
              "    <tr>\n",
              "      <th>4</th>\n",
              "      <td>20-11-2014</td>\n",
              "      <td>Credit card</td>\n",
              "      <td>NaN</td>\n",
              "      <td>Transaction issue</td>\n",
              "      <td>NaN</td>\n",
              "      <td>NaN</td>\n",
              "      <td>NaN</td>\n",
              "      <td>Bank of America</td>\n",
              "      <td>MA</td>\n",
              "      <td>2127</td>\n",
              "      <td>NaN</td>\n",
              "      <td>NaN</td>\n",
              "      <td>Web</td>\n",
              "      <td>28-11-2014</td>\n",
              "      <td>Closed with explanation</td>\n",
              "      <td>Yes</td>\n",
              "      <td>No</td>\n",
              "      <td>1132572.0</td>\n",
              "    </tr>\n",
              "  </tbody>\n",
              "</table>\n",
              "</div>"
            ],
            "text/plain": [
              "  Date received                  Product  ... Consumer disputed? Complaint ID\n",
              "0    15-05-2014              Credit card  ...                 No     856103.0\n",
              "1    18-09-2014  Bank account or service  ...                 No    1034666.0\n",
              "2    13-03-2014         Credit reporting  ...                 No     756363.0\n",
              "3    17-07-2015              Credit card  ...                 No    1474177.0\n",
              "4    20-11-2014              Credit card  ...                 No    1132572.0\n",
              "\n",
              "[5 rows x 18 columns]"
            ]
          },
          "metadata": {
            "tags": []
          },
          "execution_count": 4
        }
      ]
    },
    {
      "cell_type": "code",
      "metadata": {
        "id": "MkWRl3MtINoH",
        "colab_type": "code",
        "outputId": "fa16bc2b-8e24-4618-b333-3d2662faa09b",
        "colab": {
          "base_uri": "https://localhost:8080/",
          "height": 517
        }
      },
      "source": [
        "test_file.head()"
      ],
      "execution_count": 0,
      "outputs": [
        {
          "output_type": "execute_result",
          "data": {
            "text/html": [
              "<div>\n",
              "<style scoped>\n",
              "    .dataframe tbody tr th:only-of-type {\n",
              "        vertical-align: middle;\n",
              "    }\n",
              "\n",
              "    .dataframe tbody tr th {\n",
              "        vertical-align: top;\n",
              "    }\n",
              "\n",
              "    .dataframe thead th {\n",
              "        text-align: right;\n",
              "    }\n",
              "</style>\n",
              "<table border=\"1\" class=\"dataframe\">\n",
              "  <thead>\n",
              "    <tr style=\"text-align: right;\">\n",
              "      <th></th>\n",
              "      <th>Date received</th>\n",
              "      <th>Product</th>\n",
              "      <th>Sub-product</th>\n",
              "      <th>Issue</th>\n",
              "      <th>Sub-issue</th>\n",
              "      <th>Consumer complaint narrative</th>\n",
              "      <th>Company public response</th>\n",
              "      <th>Company</th>\n",
              "      <th>State</th>\n",
              "      <th>ZIP code</th>\n",
              "      <th>Tags</th>\n",
              "      <th>Consumer consent provided?</th>\n",
              "      <th>Submitted via</th>\n",
              "      <th>Date sent to company</th>\n",
              "      <th>Company response to consumer</th>\n",
              "      <th>Timely response?</th>\n",
              "      <th>Complaint ID</th>\n",
              "    </tr>\n",
              "  </thead>\n",
              "  <tbody>\n",
              "    <tr>\n",
              "      <th>0</th>\n",
              "      <td>2014-01-18</td>\n",
              "      <td>Bank account or service</td>\n",
              "      <td>Cashing a check without an account</td>\n",
              "      <td>Deposits and withdrawals</td>\n",
              "      <td>NaN</td>\n",
              "      <td>NaN</td>\n",
              "      <td>NaN</td>\n",
              "      <td>Bank of America</td>\n",
              "      <td>CA</td>\n",
              "      <td>95691</td>\n",
              "      <td>NaN</td>\n",
              "      <td>NaN</td>\n",
              "      <td>Web</td>\n",
              "      <td>2014-01-17</td>\n",
              "      <td>Closed with explanation</td>\n",
              "      <td>Yes</td>\n",
              "      <td>675956</td>\n",
              "    </tr>\n",
              "    <tr>\n",
              "      <th>1</th>\n",
              "      <td>2016-03-31</td>\n",
              "      <td>Debt collection</td>\n",
              "      <td>Credit card</td>\n",
              "      <td>Cont'd attempts collect debt not owed</td>\n",
              "      <td>Debt was paid</td>\n",
              "      <td>NaN</td>\n",
              "      <td>NaN</td>\n",
              "      <td>National Credit Adjusters, LLC</td>\n",
              "      <td>FL</td>\n",
              "      <td>32086</td>\n",
              "      <td>NaN</td>\n",
              "      <td>Consent not provided</td>\n",
              "      <td>Web</td>\n",
              "      <td>2016-03-31</td>\n",
              "      <td>Closed with explanation</td>\n",
              "      <td>Yes</td>\n",
              "      <td>1858795</td>\n",
              "    </tr>\n",
              "    <tr>\n",
              "      <th>2</th>\n",
              "      <td>2012-03-08</td>\n",
              "      <td>Mortgage</td>\n",
              "      <td>Conventional adjustable mortgage (ARM)</td>\n",
              "      <td>Loan servicing, payments, escrow account</td>\n",
              "      <td>NaN</td>\n",
              "      <td>NaN</td>\n",
              "      <td>NaN</td>\n",
              "      <td>Wells Fargo &amp; Company</td>\n",
              "      <td>CA</td>\n",
              "      <td>94618</td>\n",
              "      <td>NaN</td>\n",
              "      <td>NaN</td>\n",
              "      <td>Web</td>\n",
              "      <td>2012-03-09</td>\n",
              "      <td>Closed without relief</td>\n",
              "      <td>Yes</td>\n",
              "      <td>32637</td>\n",
              "    </tr>\n",
              "    <tr>\n",
              "      <th>3</th>\n",
              "      <td>2016-01-07</td>\n",
              "      <td>Credit reporting</td>\n",
              "      <td>NaN</td>\n",
              "      <td>Unable to get credit report/credit score</td>\n",
              "      <td>Problem getting report or credit score</td>\n",
              "      <td>NaN</td>\n",
              "      <td>Company chooses not to provide a public response</td>\n",
              "      <td>TransUnion Intermediate Holdings, Inc.</td>\n",
              "      <td>FL</td>\n",
              "      <td>33584</td>\n",
              "      <td>Older American</td>\n",
              "      <td>NaN</td>\n",
              "      <td>Postal mail</td>\n",
              "      <td>2016-01-12</td>\n",
              "      <td>Closed with non-monetary relief</td>\n",
              "      <td>Yes</td>\n",
              "      <td>1731374</td>\n",
              "    </tr>\n",
              "    <tr>\n",
              "      <th>4</th>\n",
              "      <td>2013-08-23</td>\n",
              "      <td>Mortgage</td>\n",
              "      <td>FHA mortgage</td>\n",
              "      <td>Loan modification,collection,foreclosure</td>\n",
              "      <td>NaN</td>\n",
              "      <td>NaN</td>\n",
              "      <td>NaN</td>\n",
              "      <td>Bank of America</td>\n",
              "      <td>FL</td>\n",
              "      <td>33543</td>\n",
              "      <td>NaN</td>\n",
              "      <td>NaN</td>\n",
              "      <td>Web</td>\n",
              "      <td>2013-08-23</td>\n",
              "      <td>Closed with explanation</td>\n",
              "      <td>Yes</td>\n",
              "      <td>501487</td>\n",
              "    </tr>\n",
              "  </tbody>\n",
              "</table>\n",
              "</div>"
            ],
            "text/plain": [
              "  Date received                  Product  ... Timely response? Complaint ID\n",
              "0    2014-01-18  Bank account or service  ...              Yes       675956\n",
              "1    2016-03-31          Debt collection  ...              Yes      1858795\n",
              "2    2012-03-08                 Mortgage  ...              Yes        32637\n",
              "3    2016-01-07         Credit reporting  ...              Yes      1731374\n",
              "4    2013-08-23                 Mortgage  ...              Yes       501487\n",
              "\n",
              "[5 rows x 17 columns]"
            ]
          },
          "metadata": {
            "tags": []
          },
          "execution_count": 5
        }
      ]
    },
    {
      "cell_type": "code",
      "metadata": {
        "id": "_bj4VxrmeB2o",
        "colab_type": "code",
        "outputId": "5f318f7a-4324-419a-a783-1e29bb64f72f",
        "colab": {
          "base_uri": "https://localhost:8080/",
          "height": 447
        }
      },
      "source": [
        "train_file.info()"
      ],
      "execution_count": 0,
      "outputs": [
        {
          "output_type": "stream",
          "text": [
            "<class 'pandas.core.frame.DataFrame'>\n",
            "RangeIndex: 472444 entries, 0 to 472443\n",
            "Data columns (total 18 columns):\n",
            "Date received                   472444 non-null object\n",
            "Product                         472444 non-null object\n",
            "Sub-product                     335725 non-null object\n",
            "Issue                           472444 non-null object\n",
            "Sub-issue                       183427 non-null object\n",
            "Consumer complaint narrative    74187 non-null object\n",
            "Company public response         89301 non-null object\n",
            "Company                         472443 non-null object\n",
            "State                           468649 non-null object\n",
            "ZIP code                        468640 non-null object\n",
            "Tags                            66364 non-null object\n",
            "Consumer consent provided?      133820 non-null object\n",
            "Submitted via                   472443 non-null object\n",
            "Date sent to company            472443 non-null object\n",
            "Company response to consumer    472443 non-null object\n",
            "Timely response?                472443 non-null object\n",
            "Consumer disputed?              472443 non-null object\n",
            "Complaint ID                    472443 non-null float64\n",
            "dtypes: float64(1), object(17)\n",
            "memory usage: 64.9+ MB\n"
          ],
          "name": "stdout"
        }
      ]
    },
    {
      "cell_type": "markdown",
      "metadata": {
        "id": "1v0rn2x_I4i4",
        "colab_type": "text"
      },
      "source": [
        "Equalizing the columns of train and test file and combining both files into one for Data Preprocessing "
      ]
    },
    {
      "cell_type": "code",
      "metadata": {
        "id": "hGomsG_Te5_q",
        "colab_type": "code",
        "outputId": "3020321e-1b24-4437-be5a-b09a88194e7c",
        "colab": {
          "base_uri": "https://localhost:8080/",
          "height": 35
        }
      },
      "source": [
        "train_file['data'] = 'train'\n",
        "test_file['data'] = 'test'\n",
        "test_file['Consumer disputed?'] = np.nan\n",
        "\n",
        "file = pd.concat([train_file, test_file], axis=0)\n",
        "file.shape"
      ],
      "execution_count": 0,
      "outputs": [
        {
          "output_type": "execute_result",
          "data": {
            "text/plain": [
              "(592050, 19)"
            ]
          },
          "metadata": {
            "tags": []
          },
          "execution_count": 157
        }
      ]
    },
    {
      "cell_type": "markdown",
      "metadata": {
        "id": "ML1LpRI6ccqm",
        "colab_type": "text"
      },
      "source": [
        "# Dealing with Missing Values"
      ]
    },
    {
      "cell_type": "code",
      "metadata": {
        "id": "QlzloZH9IuUN",
        "colab_type": "code",
        "outputId": "fc48a997-1fbd-43d5-81e6-73abe801e1a4",
        "colab": {
          "base_uri": "https://localhost:8080/",
          "height": 364
        }
      },
      "source": [
        "train_file.isnull().sum()"
      ],
      "execution_count": 0,
      "outputs": [
        {
          "output_type": "execute_result",
          "data": {
            "text/plain": [
              "Date received                        0\n",
              "Product                              0\n",
              "Sub-product                     136719\n",
              "Issue                                0\n",
              "Sub-issue                       289017\n",
              "Consumer complaint narrative    398257\n",
              "Company public response         383143\n",
              "Company                              1\n",
              "State                             3795\n",
              "ZIP code                          3804\n",
              "Tags                            406080\n",
              "Consumer consent provided?      338624\n",
              "Submitted via                        1\n",
              "Date sent to company                 1\n",
              "Company response to consumer         1\n",
              "Timely response?                     1\n",
              "Consumer disputed?                   1\n",
              "Complaint ID                         1\n",
              "data                                 0\n",
              "dtype: int64"
            ]
          },
          "metadata": {
            "tags": []
          },
          "execution_count": 5
        }
      ]
    },
    {
      "cell_type": "code",
      "metadata": {
        "id": "-hzqPvuJJF76",
        "colab_type": "code",
        "outputId": "8aa51499-4555-4b55-856c-7c1a81ba964e",
        "colab": {
          "base_uri": "https://localhost:8080/",
          "height": 399
        }
      },
      "source": [
        "file.isnull().sum()"
      ],
      "execution_count": 0,
      "outputs": [
        {
          "output_type": "execute_result",
          "data": {
            "text/plain": [
              "Company                              1\n",
              "Company public response         479973\n",
              "Company response to consumer         1\n",
              "Complaint ID                         1\n",
              "Consumer complaint narrative    499306\n",
              "Consumer consent provided?      424366\n",
              "Consumer disputed?              119607\n",
              "Date received                        0\n",
              "Date sent to company                 1\n",
              "Issue                                0\n",
              "Product                              0\n",
              "State                             4720\n",
              "Sub-issue                       362077\n",
              "Sub-product                     171471\n",
              "Submitted via                        2\n",
              "Tags                            508815\n",
              "Timely response?                     1\n",
              "ZIP code                          4730\n",
              "data                                 0\n",
              "dtype: int64"
            ]
          },
          "metadata": {
            "tags": []
          },
          "execution_count": 6
        }
      ]
    },
    {
      "cell_type": "code",
      "metadata": {
        "id": "d4ibP1EmJgjE",
        "colab_type": "code",
        "outputId": "dbf5761c-67f0-459d-84eb-d8d5f4e16763",
        "colab": {
          "base_uri": "https://localhost:8080/",
          "height": 634
        }
      },
      "source": [
        "fig, ax = plt.subplots(figsize = (12, 8))\n",
        "sns.heatmap(train_file.isna(),\n",
        "           cbar = False,\n",
        "           yticklabels = False,\n",
        "           cmap = 'summer')\n",
        "plt.show()"
      ],
      "execution_count": 0,
      "outputs": [
        {
          "output_type": "display_data",
          "data": {
            "image/png": "[encoded data removed]",
            "text/plain": [
              "<Figure size 864x576 with 1 Axes>"
            ]
          },
          "metadata": {
            "tags": []
          }
        }
      ]
    },
    {
      "cell_type": "markdown",
      "metadata": {
        "id": "dSWsaNoYKEhS",
        "colab_type": "text"
      },
      "source": [
        "Dropping unwanted columns or columns with large number of missing values.\n",
        "Here I have dropped the Consumer complaint narrative column as well,  because we have Issue and Sub Issue which can give us quite good information that people facing which issue are disputing with the company"
      ]
    },
    {
      "cell_type": "code",
      "metadata": {
        "id": "0-SfBvvLKVIc",
        "colab_type": "code",
        "colab": {}
      },
      "source": [
        "train_file.drop(columns=['Complaint ID', 'Consumer complaint narrative', 'ZIP code', 'Company public response'], inplace=True)\n",
        "file.drop(columns=['Complaint ID', 'Consumer complaint narrative', 'ZIP code', 'Company public response'], inplace=True)"
      ],
      "execution_count": 0,
      "outputs": []
    },
    {
      "cell_type": "code",
      "metadata": {
        "id": "kOwpljuCfLza",
        "colab_type": "code",
        "outputId": "ac57950f-8c81-42f7-9c96-bc5f82c4e755",
        "colab": {
          "base_uri": "https://localhost:8080/",
          "height": 141
        }
      },
      "source": [
        "train_file['Consumer complaint narrative'].value_counts()[:5]"
      ],
      "execution_count": 0,
      "outputs": [
        {
          "output_type": "execute_result",
          "data": {
            "text/plain": [
              "This company continues to report on my credit report after I sent them a letter telling them that this account was not mine and I have no idea what it is or who it belongs to! \\n\\nI asked for proof of a signed contract, I asked for a license to collect in my state, I asked for copies of all information referenced for this debt and still to date, I have not received anything but harassment from this company! \\n\\nTHIS IS NOT MY DEBT! \\n\\nI WANT THIS ACCOUNT REMOVED FROM MY CREDIT REPORT AND THIS COMPANY TO STOP CONTACTING ME IMMEDIATELY! \\n                                                                                                                                                                                                            38\n",
              "This company continues to report on my credit report after I sent them a letter telling them that this account was not mine and I have no idea what it is or who it belongs to! \\n\\nI asked for proof of a signed contract, I asked for a license to collect in my state, I asked for copies of all information referenced for this debt and still to date, I have not received anything but harassment from this company! \\n\\nTHIS IS NOT MY DEBT! \\n                                                                                                                                                                                                                                                                                                                      26\n",
              "I have been a victim of Identity Theft. I have been trying to work with the Credit Reporting Agency but they are refusing to honor my valid identity theft case thus these incorrect/fraudulent items are still on my credit report and they must be removed immediately but they are do not belong to me. I have provided all of the proof to show that I was a victim of Identity Theft and that to the best of my knowledge these fraudulent accounts do not belong to me. Please take immediate action on my behalf so I can have these items removed, deleted and permanently blocked from my credit report, so that I can get back on track to a normal life. \\n\\nRegards \\n                                                                                          19\n",
              "I have sent several requests to Experian requesting an investigation of my accounts. It has been months and I still have not received a response to my concerns. The only thing I have received is some automated rejection letter stating that they wo n't do anything to help me ( please see attached ). \\nThis has to be a violation of my rights. I feel like I 've already wasted so much time just trying to get Experian to look at the errors on my credit report and I 'm so frustrated that Experian is intentionally not responding to my inquiries. I need to have this issue resolved immediately. There are many things I need to do with my life and they all involve my credit. But I am not able to move forward all because of this credit bureau! \\n    18\n",
              "This company continues to report on my credit report after I sent them a letter telling them that this account was not mine and I have no idea what it is or who it belongs to! \\n\\nI asked for proof of a signed contract, I asked for a license to collect in my state, I asked for copies of all information referenced for this debt and still to date, I have not received anything but harassment from this company! \\n                                                                                                                                                                                                                                                                                                                                               15\n",
              "Name: Consumer complaint narrative, dtype: int64"
            ]
          },
          "metadata": {
            "tags": []
          },
          "execution_count": 161
        }
      ]
    },
    {
      "cell_type": "code",
      "metadata": {
        "id": "_363nXaMfBnL",
        "colab_type": "code",
        "colab": {}
      },
      "source": [
        "#Function to replace missing values\n",
        "\n",
        "def fill_missing(df):\n",
        "\n",
        "    #fill 'sub-product' with 'No sub-product'\n",
        "    df['Sub-product'].fillna('I do not know', inplace=True)\n",
        "\n",
        "    #fill 'sub-product' with 'No sub-product'\n",
        "    df['Sub-issue'].fillna('No Sub-issue', inplace=True)\n",
        "\n",
        "    #fill 'State' with 'CA' (Most Frequent Value)\n",
        "    df['State'].fillna('CA', inplace=True)\n",
        "\n",
        "    #Combine missing value of \"Issue\" with \"Other\"\n",
        "    df['Issue'].fillna('Loan modification,collection,foreclosure',inplace=True)\n",
        "\n",
        "    # Replace missing vlaues of 'Tags' with 'Unknown'\n",
        "    df['Tags'].fillna('Unknown',inplace=True)\n",
        "\n",
        "    # Replace missing vlaues of 'Submitted via' with 'other'\n",
        "    df['Submitted via'].fillna('Web',inplace=True)\n",
        "\n",
        "    #Combine missing value,other,and withdrawn of \"Consumer consent provided?\" column\n",
        "    #with Consumer consent not provided, since only users's complaints narrative will be provided\n",
        "    #with the type of \"Consumer consent provided\"\n",
        "\n",
        "    df['Consumer consent provided?'].fillna('Consent not provided',inplace=True)\n",
        "\n",
        "    "
      ],
      "execution_count": 0,
      "outputs": []
    },
    {
      "cell_type": "code",
      "metadata": {
        "id": "WLBGrqYkfXpx",
        "colab_type": "code",
        "colab": {}
      },
      "source": [
        "fill_missing(train_file)\n",
        "fill_missing(file)"
      ],
      "execution_count": 0,
      "outputs": []
    },
    {
      "cell_type": "code",
      "metadata": {
        "id": "uMP9rdIs0bwB",
        "colab_type": "code",
        "colab": {}
      },
      "source": [
        "#Replacing NaNs of other columns with forwardfill method\n",
        "file.fillna(method='ffill', inplace=True)\n",
        "train_file.fillna(method='ffill', inplace=True)"
      ],
      "execution_count": 0,
      "outputs": []
    },
    {
      "cell_type": "code",
      "metadata": {
        "id": "mtaVQu3AfbX2",
        "colab_type": "code",
        "outputId": "4c55931b-ab3a-44af-fca4-3b5e80c8e39a",
        "colab": {
          "base_uri": "https://localhost:8080/",
          "height": 295
        }
      },
      "source": [
        "train_file.isnull().sum()"
      ],
      "execution_count": 0,
      "outputs": [
        {
          "output_type": "execute_result",
          "data": {
            "text/plain": [
              "Date received                   0\n",
              "Product                         0\n",
              "Sub-product                     0\n",
              "Issue                           0\n",
              "Sub-issue                       0\n",
              "Company                         0\n",
              "State                           0\n",
              "Tags                            0\n",
              "Consumer consent provided?      0\n",
              "Submitted via                   0\n",
              "Date sent to company            0\n",
              "Company response to consumer    0\n",
              "Timely response?                0\n",
              "Consumer disputed?              0\n",
              "data                            0\n",
              "dtype: int64"
            ]
          },
          "metadata": {
            "tags": []
          },
          "execution_count": 21
        }
      ]
    },
    {
      "cell_type": "code",
      "metadata": {
        "id": "O4LVaO0Yfer4",
        "colab_type": "code",
        "outputId": "1bfaf240-053d-49db-dcbb-edd64628eac3",
        "colab": {
          "base_uri": "https://localhost:8080/",
          "height": 295
        }
      },
      "source": [
        "file.isnull().sum()"
      ],
      "execution_count": 0,
      "outputs": [
        {
          "output_type": "execute_result",
          "data": {
            "text/plain": [
              "Company                         0\n",
              "Company response to consumer    0\n",
              "Consumer consent provided?      0\n",
              "Consumer disputed?              0\n",
              "Date received                   0\n",
              "Date sent to company            0\n",
              "Issue                           0\n",
              "Product                         0\n",
              "State                           0\n",
              "Sub-issue                       0\n",
              "Sub-product                     0\n",
              "Submitted via                   0\n",
              "Tags                            0\n",
              "Timely response?                0\n",
              "data                            0\n",
              "dtype: int64"
            ]
          },
          "metadata": {
            "tags": []
          },
          "execution_count": 22
        }
      ]
    },
    {
      "cell_type": "code",
      "metadata": {
        "id": "Ia8artJrftXp",
        "colab_type": "code",
        "outputId": "f798349a-b1a2-4554-b7e4-e3048dd33475",
        "colab": {
          "base_uri": "https://localhost:8080/",
          "height": 295
        }
      },
      "source": [
        "train_file.nunique()"
      ],
      "execution_count": 0,
      "outputs": [
        {
          "output_type": "execute_result",
          "data": {
            "text/plain": [
              "Date received                   1759\n",
              "Product                           12\n",
              "Sub-product                       47\n",
              "Issue                             95\n",
              "Sub-issue                         69\n",
              "Company                         3266\n",
              "State                             62\n",
              "Tags                               4\n",
              "Consumer consent provided?         4\n",
              "Submitted via                      6\n",
              "Date sent to company            1706\n",
              "Company response to consumer       7\n",
              "Timely response?                   2\n",
              "Consumer disputed?                 2\n",
              "data                               1\n",
              "dtype: int64"
            ]
          },
          "metadata": {
            "tags": []
          },
          "execution_count": 23
        }
      ]
    },
    {
      "cell_type": "markdown",
      "metadata": {
        "id": "3wUMSLahfCSd",
        "colab_type": "text"
      },
      "source": [
        "Replacing \"Yes/No\" values with 1/0"
      ]
    },
    {
      "cell_type": "code",
      "metadata": {
        "id": "ybQGHvFwfwpe",
        "colab_type": "code",
        "colab": {}
      },
      "source": [
        "replace = {'Yes' : 1, 'No' : 0}\n",
        "\n",
        "file['Timely response?'] = file['Timely response?'].apply(lambda x: replace[x])\n",
        "file['Consumer disputed?'] = file['Consumer disputed?'].apply(lambda x: replace[x])\n",
        "\n",
        "train_file['Timely response?'] = train_file['Timely response?'].apply(lambda x: replace[x])\n",
        "train_file['Consumer disputed?'] = train_file['Consumer disputed?'].apply(lambda x: replace[x])"
      ],
      "execution_count": 0,
      "outputs": []
    },
    {
      "cell_type": "code",
      "metadata": {
        "id": "pmPcRHOhb5Iz",
        "colab_type": "code",
        "outputId": "ebfead8c-8cf5-490e-b1f5-72e38cbb8a8b",
        "colab": {
          "base_uri": "https://localhost:8080/",
          "height": 70
        }
      },
      "source": [
        "#Target Variable\n",
        "train_file['Consumer disputed?'].value_counts()"
      ],
      "execution_count": 0,
      "outputs": [
        {
          "output_type": "execute_result",
          "data": {
            "text/plain": [
              "0    372304\n",
              "1    100140\n",
              "Name: Consumer disputed?, dtype: int64"
            ]
          },
          "metadata": {
            "tags": []
          },
          "execution_count": 13
        }
      ]
    },
    {
      "cell_type": "markdown",
      "metadata": {
        "id": "W-qrubcz1GCA",
        "colab_type": "text"
      },
      "source": [
        "# Exploratory Data Analysis\n"
      ]
    },
    {
      "cell_type": "code",
      "metadata": {
        "id": "WSup4rTd1FAe",
        "colab_type": "code",
        "outputId": "8ad52aca-2b33-4ded-8cbf-fbd8c3a1edb6",
        "colab": {
          "base_uri": "https://localhost:8080/",
          "height": 304
        }
      },
      "source": [
        "sns.countplot(train_file['Consumer disputed?'])"
      ],
      "execution_count": 0,
      "outputs": [
        {
          "output_type": "execute_result",
          "data": {
            "text/plain": [
              "<matplotlib.axes._subplots.AxesSubplot at 0x7f1df76fa470>"
            ]
          },
          "metadata": {
            "tags": []
          },
          "execution_count": 49
        },
        {
          "output_type": "display_data",
          "data": {
            "image/png": "[encoded data removed]",
            "text/plain": [
              "<Figure size 432x288 with 1 Axes>"
            ]
          },
          "metadata": {
            "tags": []
          }
        }
      ]
    },
    {
      "cell_type": "markdown",
      "metadata": {
        "id": "8Bew8pGCLPGe",
        "colab_type": "text"
      },
      "source": [
        "Maybe it is an Imbalance dataset problem"
      ]
    },
    {
      "cell_type": "code",
      "metadata": {
        "id": "hlO4FzVI1Z75",
        "colab_type": "code",
        "outputId": "aa316ef5-9104-44a0-f1d2-039065ddb0f3",
        "colab": {
          "base_uri": "https://localhost:8080/",
          "height": 304
        }
      },
      "source": [
        "sns.countplot(train_file['Timely response?'])"
      ],
      "execution_count": 0,
      "outputs": [
        {
          "output_type": "execute_result",
          "data": {
            "text/plain": [
              "<matplotlib.axes._subplots.AxesSubplot at 0x7f1df7630160>"
            ]
          },
          "metadata": {
            "tags": []
          },
          "execution_count": 50
        },
        {
          "output_type": "display_data",
          "data": {
            "image/png": "[encoded data removed]",
            "text/plain": [
              "<Figure size 432x288 with 1 Axes>"
            ]
          },
          "metadata": {
            "tags": []
          }
        }
      ]
    },
    {
      "cell_type": "markdown",
      "metadata": {
        "id": "vHQKlHVoLYrK",
        "colab_type": "text"
      },
      "source": [
        "Almost every companies gives Timely Response to the Consumer"
      ]
    },
    {
      "cell_type": "markdown",
      "metadata": {
        "id": "74oFSyCDfdlj",
        "colab_type": "text"
      },
      "source": [
        "Checking which Product has the maximum complaints"
      ]
    },
    {
      "cell_type": "code",
      "metadata": {
        "id": "Vu-KkmNS3US5",
        "colab_type": "code",
        "outputId": "9c75e764-ff2c-4718-c286-d7899d413738",
        "colab": {
          "base_uri": "https://localhost:8080/",
          "height": 447
        }
      },
      "source": [
        "sns.countplot(train_file['Product'])\n",
        "plt.xticks(rotation=90)"
      ],
      "execution_count": 0,
      "outputs": [
        {
          "output_type": "execute_result",
          "data": {
            "text/plain": [
              "(array([ 0,  1,  2,  3,  4,  5,  6,  7,  8,  9, 10, 11]),\n",
              " <a list of 12 Text xticklabel objects>)"
            ]
          },
          "metadata": {
            "tags": []
          },
          "execution_count": 51
        },
        {
          "output_type": "display_data",
          "data": {
            "image/png": "[encoded data removed]",
            "text/plain": [
              "<Figure size 432x288 with 1 Axes>"
            ]
          },
          "metadata": {
            "tags": []
          }
        }
      ]
    },
    {
      "cell_type": "markdown",
      "metadata": {
        "id": "HRXPkBZkfpAZ",
        "colab_type": "text"
      },
      "source": [
        "Product **Mortgage** has the maximum complaints followed by Debt collection and Credict reporting, \n",
        "Checking what are the issues regarding these products"
      ]
    },
    {
      "cell_type": "markdown",
      "metadata": {
        "id": "oKZ73uf9D4P_",
        "colab_type": "text"
      },
      "source": [
        "1. Issues related to Mortgage"
      ]
    },
    {
      "cell_type": "code",
      "metadata": {
        "id": "LV-uY_R36Z7c",
        "colab_type": "code",
        "outputId": "00b69670-4267-4a7f-d2ee-92411d49b474",
        "colab": {
          "base_uri": "https://localhost:8080/",
          "height": 129
        }
      },
      "source": [
        "set(train_file['Issue'][train_file['Product'] == 'Mortgage'])"
      ],
      "execution_count": 0,
      "outputs": [
        {
          "output_type": "execute_result",
          "data": {
            "text/plain": [
              "{'Application, originator, mortgage broker',\n",
              " 'Credit decision / Underwriting',\n",
              " 'Loan modification,collection,foreclosure',\n",
              " 'Loan servicing, payments, escrow account',\n",
              " 'Other',\n",
              " 'Settlement process and costs'}"
            ]
          },
          "metadata": {
            "tags": []
          },
          "execution_count": 52
        }
      ]
    },
    {
      "cell_type": "code",
      "metadata": {
        "id": "lpd4kxmf6GfW",
        "colab_type": "code",
        "outputId": "1763eecc-4ea9-49cd-fe09-ea62856a72fe",
        "colab": {
          "base_uri": "https://localhost:8080/",
          "height": 681
        }
      },
      "source": [
        "sns.countplot(train_file['Issue'][train_file['Product'] == 'Mortgage'])\n",
        "plt.xticks(rotation=45)\n",
        "sns.set(rc={'figure.figsize':(15.7,8.27)})"
      ],
      "execution_count": 0,
      "outputs": [
        {
          "output_type": "display_data",
          "data": {
            "image/png": "[encoded data removed]",
            "text/plain": [
              "<Figure size 1130.4x595.44 with 1 Axes>"
            ]
          },
          "metadata": {
            "tags": []
          }
        }
      ]
    },
    {
      "cell_type": "markdown",
      "metadata": {
        "id": "kPyksVFIgCb4",
        "colab_type": "text"
      },
      "source": [
        "**Loan modification, collection, foreclosure** is the major issue of the product Mortgage"
      ]
    },
    {
      "cell_type": "code",
      "metadata": {
        "id": "leAGhuVcotev",
        "colab_type": "code",
        "colab": {}
      },
      "source": [
        "file['Loan modification,collection,foreclosure'] = (file['Issue'] == 'Loan modification,collection,foreclosure').astype(int)\n",
        "file['Loan servicing, payments, escrow account'] = (file['Issue'] == 'Loan servicing, payments, escrow account').astype(int)"
      ],
      "execution_count": 0,
      "outputs": []
    },
    {
      "cell_type": "markdown",
      "metadata": {
        "id": "Eut3deJ3gv1P",
        "colab_type": "text"
      },
      "source": [
        "Checking the same for other products"
      ]
    },
    {
      "cell_type": "markdown",
      "metadata": {
        "id": "c20_O1HzEAFR",
        "colab_type": "text"
      },
      "source": [
        "2. Issues related to Debt collection"
      ]
    },
    {
      "cell_type": "code",
      "metadata": {
        "id": "0E0BSSkrh9Al",
        "colab_type": "code",
        "outputId": "42cfca89-f658-4a7f-d428-1d403497c8a8",
        "colab": {
          "base_uri": "https://localhost:8080/",
          "height": 129
        }
      },
      "source": [
        "set(train_file['Issue'][train_file['Product'] == 'Debt collection'])"
      ],
      "execution_count": 0,
      "outputs": [
        {
          "output_type": "execute_result",
          "data": {
            "text/plain": [
              "{'Communication tactics',\n",
              " \"Cont'd attempts collect debt not owed\",\n",
              " 'Disclosure verification of debt',\n",
              " 'False statements or representation',\n",
              " 'Improper contact or sharing of info',\n",
              " 'Taking/threatening an illegal action'}"
            ]
          },
          "metadata": {
            "tags": []
          },
          "execution_count": 55
        }
      ]
    },
    {
      "cell_type": "code",
      "metadata": {
        "id": "-tw6mNXl715H",
        "colab_type": "code",
        "outputId": "2a0ab5a4-893c-4ab1-c28f-58f9e0c88078",
        "colab": {
          "base_uri": "https://localhost:8080/",
          "height": 665
        }
      },
      "source": [
        "sns.countplot(train_file['Issue'][train_file['Product'] == 'Debt collection'])\n",
        "plt.xticks(rotation=45)\n",
        "sns.set(rc={'figure.figsize':(15.7,8.27)})"
      ],
      "execution_count": 0,
      "outputs": [
        {
          "output_type": "display_data",
          "data": {
            "image/png": "[encoded data removed]",
            "text/plain": [
              "<Figure size 1130.4x595.44 with 1 Axes>"
            ]
          },
          "metadata": {
            "tags": []
          }
        }
      ]
    },
    {
      "cell_type": "code",
      "metadata": {
        "id": "b4zs5ZgqpRDL",
        "colab_type": "code",
        "colab": {}
      },
      "source": [
        "file[\"Cont'd attempts collect debt not owed\"] = (file['Issue'] == \"Cont'd attempts collect debt not owed\").astype(int)\n",
        "file['Disclosure verification of debt'] = (file['Issue'] == 'Disclosure verification of debt').astype(int)"
      ],
      "execution_count": 0,
      "outputs": []
    },
    {
      "cell_type": "markdown",
      "metadata": {
        "id": "KR3PCfaoEId_",
        "colab_type": "text"
      },
      "source": [
        "3. Issues related to Credit reporting"
      ]
    },
    {
      "cell_type": "code",
      "metadata": {
        "id": "DTo9FXIALu25",
        "colab_type": "code",
        "outputId": "e195db5c-bc23-4e71-b7ae-efffa3483a54",
        "colab": {
          "base_uri": "https://localhost:8080/",
          "height": 111
        }
      },
      "source": [
        "set(train_file['Issue'][train_file['Product'] == 'Credit reporting'])"
      ],
      "execution_count": 0,
      "outputs": [
        {
          "output_type": "execute_result",
          "data": {
            "text/plain": [
              "{'Credit monitoring or identity protection',\n",
              " \"Credit reporting company's investigation\",\n",
              " 'Improper use of my credit report',\n",
              " 'Incorrect information on credit report',\n",
              " 'Unable to get credit report/credit score'}"
            ]
          },
          "metadata": {
            "tags": []
          },
          "execution_count": 57
        }
      ]
    },
    {
      "cell_type": "code",
      "metadata": {
        "id": "xLqadBpx8RMd",
        "colab_type": "code",
        "outputId": "cb04cd99-e376-47dc-f1de-f842a0559fba",
        "colab": {
          "base_uri": "https://localhost:8080/",
          "height": 674
        }
      },
      "source": [
        "sns.countplot(train_file['Issue'][train_file['Product'] == 'Credit reporting'])\n",
        "plt.xticks(rotation=45)\n",
        "sns.set(rc={'figure.figsize':(15.7,8.27)})"
      ],
      "execution_count": 0,
      "outputs": [
        {
          "output_type": "display_data",
          "data": {
            "image/png": "[encoded data removed]",
            "text/plain": [
              "<Figure size 1130.4x595.44 with 1 Axes>"
            ]
          },
          "metadata": {
            "tags": []
          }
        }
      ]
    },
    {
      "cell_type": "code",
      "metadata": {
        "id": "vV2pOm8Spn_I",
        "colab_type": "code",
        "colab": {}
      },
      "source": [
        "file[\"Incorrect information on credit report\"] = (file['Issue'] == \"Incorrect information on credit report\").astype(int)"
      ],
      "execution_count": 0,
      "outputs": []
    },
    {
      "cell_type": "markdown",
      "metadata": {
        "id": "WtnEEYPrENxX",
        "colab_type": "text"
      },
      "source": [
        "4. Issues related to credit card"
      ]
    },
    {
      "cell_type": "code",
      "metadata": {
        "id": "AJqxZJLNXZRc",
        "colab_type": "code",
        "outputId": "ba0c3c29-874e-4396-9d23-372f3cb1b331",
        "colab": {
          "base_uri": "https://localhost:8080/",
          "height": 633
        }
      },
      "source": [
        "set(train_file['Issue'][train_file['Product'] == 'Credit card'])"
      ],
      "execution_count": 0,
      "outputs": [
        {
          "output_type": "execute_result",
          "data": {
            "text/plain": [
              "{'APR or interest rate',\n",
              " 'Advertising and marketing',\n",
              " 'Application processing delay',\n",
              " 'Arbitration',\n",
              " 'Balance transfer',\n",
              " 'Balance transfer fee',\n",
              " 'Bankruptcy',\n",
              " 'Billing disputes',\n",
              " 'Billing statement',\n",
              " 'Cash advance',\n",
              " 'Cash advance fee',\n",
              " 'Closing/Cancelling account',\n",
              " 'Collection debt dispute',\n",
              " 'Collection practices',\n",
              " 'Convenience checks',\n",
              " 'Credit card protection / Debt protection',\n",
              " 'Credit determination',\n",
              " 'Credit line increase/decrease',\n",
              " 'Credit reporting',\n",
              " 'Customer service / Customer relations',\n",
              " 'Delinquent account',\n",
              " 'Forbearance / Workout plans',\n",
              " 'Identity theft / Fraud / Embezzlement',\n",
              " 'Late fee',\n",
              " 'Other',\n",
              " 'Other fee',\n",
              " 'Overlimit fee',\n",
              " 'Payoff process',\n",
              " 'Privacy',\n",
              " 'Rewards',\n",
              " 'Sale of account',\n",
              " 'Transaction issue',\n",
              " 'Unsolicited issuance of credit card'}"
            ]
          },
          "metadata": {
            "tags": []
          },
          "execution_count": 59
        }
      ]
    },
    {
      "cell_type": "markdown",
      "metadata": {
        "id": "GzCmkKktMDtk",
        "colab_type": "text"
      },
      "source": [
        "There are many issues for these product"
      ]
    },
    {
      "cell_type": "code",
      "metadata": {
        "id": "yLe3nTQFWicP",
        "colab_type": "code",
        "outputId": "de35d1fd-8ba1-4afc-e16f-6cf81754b051",
        "colab": {
          "base_uri": "https://localhost:8080/",
          "height": 727
        }
      },
      "source": [
        "sns.countplot(train_file['Issue'][train_file['Product'] == 'Credit card'])\n",
        "plt.xticks(rotation=90)\n",
        "sns.set(rc={'figure.figsize':(20.7,8.27)})"
      ],
      "execution_count": 0,
      "outputs": [
        {
          "output_type": "display_data",
          "data": {
            "image/png": "[encoded data removed]",
            "text/plain": [
              "<Figure size 1130.4x595.44 with 1 Axes>"
            ]
          },
          "metadata": {
            "tags": []
          }
        }
      ]
    },
    {
      "cell_type": "code",
      "metadata": {
        "id": "lYVh8mlspyDk",
        "colab_type": "code",
        "colab": {}
      },
      "source": [
        "file[\"Billing disputes\"] = (file['Issue'] == \"Billing disputes\").astype(int)"
      ],
      "execution_count": 0,
      "outputs": []
    },
    {
      "cell_type": "markdown",
      "metadata": {
        "id": "8qNsR8wyEXJv",
        "colab_type": "text"
      },
      "source": [
        "5. Issues related to Bank account or service"
      ]
    },
    {
      "cell_type": "code",
      "metadata": {
        "id": "wJpIrEHTMMST",
        "colab_type": "code",
        "outputId": "01553993-2445-4ef1-a8d6-3d6f4a527228",
        "colab": {
          "base_uri": "https://localhost:8080/",
          "height": 111
        }
      },
      "source": [
        "set(train_file['Issue'][train_file['Product'] == 'Bank account or service'])"
      ],
      "execution_count": 0,
      "outputs": [
        {
          "output_type": "execute_result",
          "data": {
            "text/plain": [
              "{'Account opening, closing, or management',\n",
              " 'Deposits and withdrawals',\n",
              " 'Making/receiving payments, sending money',\n",
              " 'Problems caused by my funds being low',\n",
              " 'Using a debit or ATM card'}"
            ]
          },
          "metadata": {
            "tags": []
          },
          "execution_count": 61
        }
      ]
    },
    {
      "cell_type": "code",
      "metadata": {
        "id": "B813hcneXsS8",
        "colab_type": "code",
        "outputId": "feb1b625-5de5-4df7-90ac-f1e86e163785",
        "colab": {
          "base_uri": "https://localhost:8080/",
          "height": 672
        }
      },
      "source": [
        "sns.countplot(train_file['Issue'][train_file['Product'] == 'Bank account or service'])\n",
        "plt.xticks(rotation=40)\n",
        "sns.set(rc={'figure.figsize':(12.7,8.27)})"
      ],
      "execution_count": 0,
      "outputs": [
        {
          "output_type": "display_data",
          "data": {
            "image/png": "[encoded data removed]",
            "text/plain": [
              "<Figure size 914.4x595.44 with 1 Axes>"
            ]
          },
          "metadata": {
            "tags": []
          }
        }
      ]
    },
    {
      "cell_type": "code",
      "metadata": {
        "id": "oTpUT61YqGoL",
        "colab_type": "code",
        "colab": {}
      },
      "source": [
        "file[\"Account opening, closing, or management\"] = (file['Issue'] == \"Account opening, closing, or management\").astype(int)\n",
        "file[\"Deposits and withdrawals\"] = (file['Issue'] == \"Deposits and withdrawals\").astype(int)"
      ],
      "execution_count": 0,
      "outputs": []
    },
    {
      "cell_type": "markdown",
      "metadata": {
        "id": "9-483tjFEgfg",
        "colab_type": "text"
      },
      "source": [
        "6. Issues related to Consumer Loan"
      ]
    },
    {
      "cell_type": "code",
      "metadata": {
        "id": "PTIloc6TMUTc",
        "colab_type": "code",
        "outputId": "d2aa19e2-134b-4437-8c68-053f8a766abf",
        "colab": {
          "base_uri": "https://localhost:8080/",
          "height": 353
        }
      },
      "source": [
        "set(train_file['Issue'][train_file['Product'] == 'Consumer Loan'])"
      ],
      "execution_count": 0,
      "outputs": [
        {
          "output_type": "execute_result",
          "data": {
            "text/plain": [
              "{'Account terms and changes',\n",
              " 'Applied for loan/did not receive money',\n",
              " \"Can't contact lender\",\n",
              " \"Can't stop charges to bank account\",\n",
              " 'Charged bank acct wrong day or amt',\n",
              " \"Charged fees or interest I didn't expect\",\n",
              " 'Lender damaged or destroyed property',\n",
              " 'Lender damaged or destroyed vehicle',\n",
              " 'Lender repossessed or sold the vehicle',\n",
              " 'Lender sold the property',\n",
              " 'Managing the line of credit',\n",
              " 'Managing the loan or lease',\n",
              " 'Payment to acct not credited',\n",
              " 'Problems when you are unable to pay',\n",
              " \"Received a loan I didn't apply for\",\n",
              " 'Shopping for a line of credit',\n",
              " 'Shopping for a loan or lease',\n",
              " 'Taking out the loan or lease'}"
            ]
          },
          "metadata": {
            "tags": []
          },
          "execution_count": 64
        }
      ]
    },
    {
      "cell_type": "code",
      "metadata": {
        "id": "f4rdGfA8YLoN",
        "colab_type": "code",
        "outputId": "fe013dfa-e6af-4b9d-9188-46c28dbfcc3f",
        "colab": {
          "base_uri": "https://localhost:8080/",
          "height": 726
        }
      },
      "source": [
        "sns.countplot(train_file['Issue'][train_file['Product'] == 'Consumer Loan'])\n",
        "plt.xticks(rotation=90)\n",
        "sns.set(rc={'figure.figsize':(20.7,8.27)})"
      ],
      "execution_count": 0,
      "outputs": [
        {
          "output_type": "display_data",
          "data": {
            "image/png": "[encoded data removed]",
            "text/plain": [
              "<Figure size 914.4x595.44 with 1 Axes>"
            ]
          },
          "metadata": {
            "tags": []
          }
        }
      ]
    },
    {
      "cell_type": "code",
      "metadata": {
        "id": "lUqwMiYyqZK8",
        "colab_type": "code",
        "colab": {}
      },
      "source": [
        "file[\"Managing the loan or lease\"] = (file['Issue'] == \"Managing the loan or lease\").astype(int)"
      ],
      "execution_count": 0,
      "outputs": []
    },
    {
      "cell_type": "markdown",
      "metadata": {
        "id": "XCw5XneeEkvl",
        "colab_type": "text"
      },
      "source": [
        "7. Issues related to Student loan"
      ]
    },
    {
      "cell_type": "code",
      "metadata": {
        "id": "j53s4eEJMZJz",
        "colab_type": "code",
        "outputId": "ac5e45a1-783f-4e08-a33a-c9cbfc4b1823",
        "colab": {
          "base_uri": "https://localhost:8080/",
          "height": 111
        }
      },
      "source": [
        "set(train_file['Issue'][train_file['Product'] == 'Student loan'])"
      ],
      "execution_count": 0,
      "outputs": [
        {
          "output_type": "execute_result",
          "data": {
            "text/plain": [
              "{\"Can't repay my loan\",\n",
              " 'Dealing with my lender or servicer',\n",
              " 'Getting a loan',\n",
              " 'Problems when you are unable to pay',\n",
              " 'Repaying your loan'}"
            ]
          },
          "metadata": {
            "tags": []
          },
          "execution_count": 66
        }
      ]
    },
    {
      "cell_type": "code",
      "metadata": {
        "id": "wsS6chXhYvFg",
        "colab_type": "code",
        "outputId": "efaa3238-5aaf-4579-e3c5-a8dc719c8cab",
        "colab": {
          "base_uri": "https://localhost:8080/",
          "height": 662
        }
      },
      "source": [
        "sns.countplot(train_file['Issue'][train_file['Product'] == 'Student loan'])\n",
        "plt.xticks(rotation=45)\n",
        "sns.set(rc={'figure.figsize':(12.7,8.27)})"
      ],
      "execution_count": 0,
      "outputs": [
        {
          "output_type": "display_data",
          "data": {
            "image/png": "[encoded data removed]",
            "text/plain": [
              "<Figure size 914.4x595.44 with 1 Axes>"
            ]
          },
          "metadata": {
            "tags": []
          }
        }
      ]
    },
    {
      "cell_type": "code",
      "metadata": {
        "id": "G0FfSP2sqi5J",
        "colab_type": "code",
        "colab": {}
      },
      "source": [
        "file[\"Dealing with my lender or servicer\"] = (file['Issue'] == \"Dealing with my lender or servicer\").astype(int)"
      ],
      "execution_count": 0,
      "outputs": []
    },
    {
      "cell_type": "markdown",
      "metadata": {
        "id": "z2ubXELrOs_H",
        "colab_type": "text"
      },
      "source": [
        "I thought to make new features from Issue column by selecting the top 2 major issues for every product and making dummies, I had not implemented this because i don't know it will work or not so please help me with this"
      ]
    },
    {
      "cell_type": "markdown",
      "metadata": {
        "id": "Tc1kIYwUi72D",
        "colab_type": "text"
      },
      "source": [
        "Checking for Top 10 companies having maximum complaints of consumers"
      ]
    },
    {
      "cell_type": "code",
      "metadata": {
        "id": "4R-R9SX59Dhn",
        "colab_type": "code",
        "outputId": "481f6173-d9d7-4219-b63d-2b497048d16e",
        "colab": {
          "base_uri": "https://localhost:8080/",
          "height": 650
        }
      },
      "source": [
        "sns.barplot(x=train_file['Company'].value_counts().index[:10], y=train_file['Company'].value_counts()[:10])\n",
        "plt.xticks(rotation=45)\n",
        "sns.set(rc={'figure.figsize':(15.7,8.27)})"
      ],
      "execution_count": 0,
      "outputs": [
        {
          "output_type": "display_data",
          "data": {
            "image/png": "[encoded data removed]",
            "text/plain": [
              "<Figure size 1130.4x595.44 with 1 Axes>"
            ]
          },
          "metadata": {
            "tags": []
          }
        }
      ]
    },
    {
      "cell_type": "code",
      "metadata": {
        "id": "TsQUYzWaMmwc",
        "colab_type": "code",
        "outputId": "a438bc97-b5b2-4dc3-8e50-4cbe64587980",
        "colab": {
          "base_uri": "https://localhost:8080/",
          "height": 223
        }
      },
      "source": [
        "train_file['Company'].value_counts()[:10]"
      ],
      "execution_count": 0,
      "outputs": [
        {
          "output_type": "execute_result",
          "data": {
            "text/plain": [
              "Bank of America                           45791\n",
              "Wells Fargo & Company                     35000\n",
              "JPMorgan Chase & Co.                      28485\n",
              "Equifax                                   28429\n",
              "Experian                                  26483\n",
              "TransUnion Intermediate Holdings, Inc.    22198\n",
              "Citibank                                  21993\n",
              "Ocwen                                     17249\n",
              "Capital One                               13218\n",
              "Nationstar Mortgage                       11158\n",
              "Name: Company, dtype: int64"
            ]
          },
          "metadata": {
            "tags": []
          },
          "execution_count": 72
        }
      ]
    },
    {
      "cell_type": "markdown",
      "metadata": {
        "id": "RiX0inRNjElE",
        "colab_type": "text"
      },
      "source": [
        "Maybe we can consider only these companies as Top 10 worst companies and make dummies"
      ]
    },
    {
      "cell_type": "code",
      "metadata": {
        "id": "VrqD14qBmR3r",
        "colab_type": "code",
        "colab": {}
      },
      "source": [
        "file['Bank of America'] = (file['Company'] == 'Bank of America').astype(int)\n",
        "file['Wells Fargo & Company'] = (file['Company'] == 'Bank of America').astype(int)\n",
        "file['JPMorgan Chase & Co.'] = (file['Company'] == 'JPMorgan Chase & Co.').astype(int)\n",
        "file['Experian'] = (file['Company'] == 'Experian').astype(int)\n",
        "file['TransUnion Intermediate Holdings, Inc.'] = (file['Company'] == 'TransUnion Intermediate Holdings, Inc.').astype(int)\n",
        "file['Citibank'] = (file['Company'] == 'Citibank').astype(int)\n",
        "file['Ocwen'] = (file['Company'] == 'Ocwen').astype(int)\n",
        "file['Capital One'] = (file['Company'] == 'Capital One').astype(int)\n",
        "file['Nationstar Mortgage'] = (file['Company'] == 'Nationstar Mortgage').astype(int)"
      ],
      "execution_count": 0,
      "outputs": []
    },
    {
      "cell_type": "code",
      "metadata": {
        "id": "vHW9Lu9hNNY-",
        "colab_type": "code",
        "outputId": "db3dba69-a25e-49be-d5b2-9d51dcb46556",
        "colab": {
          "base_uri": "https://localhost:8080/",
          "height": 167
        }
      },
      "source": [
        "file.columns"
      ],
      "execution_count": 0,
      "outputs": [
        {
          "output_type": "execute_result",
          "data": {
            "text/plain": [
              "Index(['Company', 'Company public response', 'Company response to consumer',\n",
              "       'Consumer consent provided?', 'Consumer disputed?', 'Date received',\n",
              "       'Date sent to company', 'Issue', 'Product', 'State', 'Sub-product',\n",
              "       'Submitted via', 'Tags', 'Timely response?', 'data', 'Bank of America',\n",
              "       'Wells Fargo & Company', 'JPMorgan Chase & Co.', 'Equifax', 'Experian',\n",
              "       'TransUnion Intermediate Holdings, Inc.', 'Citibank', 'Ocwen',\n",
              "       'Capital One', 'Nationstar Mortgage'],\n",
              "      dtype='object')"
            ]
          },
          "metadata": {
            "tags": []
          },
          "execution_count": 74
        }
      ]
    },
    {
      "cell_type": "markdown",
      "metadata": {
        "id": "n3FtUBxPE02_",
        "colab_type": "text"
      },
      "source": [
        "Checking complaint submission methods"
      ]
    },
    {
      "cell_type": "code",
      "metadata": {
        "id": "nAm0YtFvnlJk",
        "colab_type": "code",
        "outputId": "87000547-0155-4f43-a669-38ffb5ffce8e",
        "colab": {
          "base_uri": "https://localhost:8080/",
          "height": 536
        }
      },
      "source": [
        "sns.countplot(train_file['Submitted via'])"
      ],
      "execution_count": 0,
      "outputs": [
        {
          "output_type": "execute_result",
          "data": {
            "text/plain": [
              "<matplotlib.axes._subplots.AxesSubplot at 0x7f1df56cf7f0>"
            ]
          },
          "metadata": {
            "tags": []
          },
          "execution_count": 75
        },
        {
          "output_type": "display_data",
          "data": {
            "image/png": "[encoded data removed]",
            "text/plain": [
              "<Figure size 1130.4x595.44 with 1 Axes>"
            ]
          },
          "metadata": {
            "tags": []
          }
        }
      ]
    },
    {
      "cell_type": "markdown",
      "metadata": {
        "id": "Jwaiecuvnvt3",
        "colab_type": "text"
      },
      "source": [
        "Most of the complaints are submitted via Web"
      ]
    },
    {
      "cell_type": "markdown",
      "metadata": {
        "id": "YphNctUxkFYp",
        "colab_type": "text"
      },
      "source": [
        "# Feature Encoding \n",
        "\n",
        "I have done Feature Encoding on the combined file having train and test data"
      ]
    },
    {
      "cell_type": "code",
      "metadata": {
        "id": "QQ5u0fBrjctt",
        "colab_type": "code",
        "outputId": "bd4ef07c-cfb3-44c1-98ca-86a791dcfdf7",
        "colab": {
          "base_uri": "https://localhost:8080/",
          "height": 92
        }
      },
      "source": [
        "train_file['Company response to consumer'].unique()"
      ],
      "execution_count": 0,
      "outputs": [
        {
          "output_type": "execute_result",
          "data": {
            "text/plain": [
              "array(['Closed with explanation', 'Closed',\n",
              "       'Closed with non-monetary relief', 'Closed with monetary relief',\n",
              "       'Closed with relief', 'Closed without relief', 'Untimely response'],\n",
              "      dtype=object)"
            ]
          },
          "metadata": {
            "tags": []
          },
          "execution_count": 76
        }
      ]
    },
    {
      "cell_type": "code",
      "metadata": {
        "id": "fdrzwf_XC6sm",
        "colab_type": "code",
        "outputId": "6fa89c45-a6ed-4254-8ce7-c8bc31026424",
        "colab": {
          "base_uri": "https://localhost:8080/",
          "height": 294
        }
      },
      "source": [
        "pd.crosstab(train_file['Company response to consumer'], train_file['Consumer disputed?'], normalize='index').round(2)"
      ],
      "execution_count": 0,
      "outputs": [
        {
          "output_type": "execute_result",
          "data": {
            "text/html": [
              "<div>\n",
              "<style scoped>\n",
              "    .dataframe tbody tr th:only-of-type {\n",
              "        vertical-align: middle;\n",
              "    }\n",
              "\n",
              "    .dataframe tbody tr th {\n",
              "        vertical-align: top;\n",
              "    }\n",
              "\n",
              "    .dataframe thead th {\n",
              "        text-align: right;\n",
              "    }\n",
              "</style>\n",
              "<table border=\"1\" class=\"dataframe\">\n",
              "  <thead>\n",
              "    <tr style=\"text-align: right;\">\n",
              "      <th>Consumer disputed?</th>\n",
              "      <th>0</th>\n",
              "      <th>1</th>\n",
              "    </tr>\n",
              "    <tr>\n",
              "      <th>Company response to consumer</th>\n",
              "      <th></th>\n",
              "      <th></th>\n",
              "    </tr>\n",
              "  </thead>\n",
              "  <tbody>\n",
              "    <tr>\n",
              "      <th>Closed</th>\n",
              "      <td>0.78</td>\n",
              "      <td>0.22</td>\n",
              "    </tr>\n",
              "    <tr>\n",
              "      <th>Closed with explanation</th>\n",
              "      <td>0.77</td>\n",
              "      <td>0.23</td>\n",
              "    </tr>\n",
              "    <tr>\n",
              "      <th>Closed with monetary relief</th>\n",
              "      <td>0.89</td>\n",
              "      <td>0.11</td>\n",
              "    </tr>\n",
              "    <tr>\n",
              "      <th>Closed with non-monetary relief</th>\n",
              "      <td>0.87</td>\n",
              "      <td>0.13</td>\n",
              "    </tr>\n",
              "    <tr>\n",
              "      <th>Closed with relief</th>\n",
              "      <td>0.87</td>\n",
              "      <td>0.13</td>\n",
              "    </tr>\n",
              "    <tr>\n",
              "      <th>Closed without relief</th>\n",
              "      <td>0.73</td>\n",
              "      <td>0.27</td>\n",
              "    </tr>\n",
              "    <tr>\n",
              "      <th>Untimely response</th>\n",
              "      <td>0.00</td>\n",
              "      <td>1.00</td>\n",
              "    </tr>\n",
              "  </tbody>\n",
              "</table>\n",
              "</div>"
            ],
            "text/plain": [
              "Consumer disputed?                  0     1\n",
              "Company response to consumer               \n",
              "Closed                           0.78  0.22\n",
              "Closed with explanation          0.77  0.23\n",
              "Closed with monetary relief      0.89  0.11\n",
              "Closed with non-monetary relief  0.87  0.13\n",
              "Closed with relief               0.87  0.13\n",
              "Closed without relief            0.73  0.27\n",
              "Untimely response                0.00  1.00"
            ]
          },
          "metadata": {
            "tags": []
          },
          "execution_count": 77
        }
      ]
    },
    {
      "cell_type": "code",
      "metadata": {
        "id": "UItxlZVPDmeq",
        "colab_type": "code",
        "colab": {}
      },
      "source": [
        "replace = {'Closed':'0', 'Untimely response':'0','Closed without relief':'0', \n",
        "    'Closed with explanation':'1', 'Closed with non-monetary relief':'2',\n",
        "    'Closed with relief': '2', 'Closed with monetary relief':'2'}\n",
        "\n",
        "file['Company response to consumer'] = train_file['Company response to consumer'].apply(lambda x: replace[x])"
      ],
      "execution_count": 0,
      "outputs": []
    },
    {
      "cell_type": "code",
      "metadata": {
        "id": "wLGGLp0wFhSZ",
        "colab_type": "code",
        "outputId": "0d5838ef-7e11-4f85-da12-8d48804122d6",
        "colab": {
          "base_uri": "https://localhost:8080/",
          "height": 202
        }
      },
      "source": [
        "pd.crosstab(train_file['Consumer consent provided?'], train_file['Consumer disputed?'])"
      ],
      "execution_count": 0,
      "outputs": [
        {
          "output_type": "execute_result",
          "data": {
            "text/html": [
              "<div>\n",
              "<style scoped>\n",
              "    .dataframe tbody tr th:only-of-type {\n",
              "        vertical-align: middle;\n",
              "    }\n",
              "\n",
              "    .dataframe tbody tr th {\n",
              "        vertical-align: top;\n",
              "    }\n",
              "\n",
              "    .dataframe thead th {\n",
              "        text-align: right;\n",
              "    }\n",
              "</style>\n",
              "<table border=\"1\" class=\"dataframe\">\n",
              "  <thead>\n",
              "    <tr style=\"text-align: right;\">\n",
              "      <th>Consumer disputed?</th>\n",
              "      <th>0</th>\n",
              "      <th>1</th>\n",
              "    </tr>\n",
              "    <tr>\n",
              "      <th>Consumer consent provided?</th>\n",
              "      <th></th>\n",
              "      <th></th>\n",
              "    </tr>\n",
              "  </thead>\n",
              "  <tbody>\n",
              "    <tr>\n",
              "      <th>Consent not provided</th>\n",
              "      <td>313550</td>\n",
              "      <td>80508</td>\n",
              "    </tr>\n",
              "    <tr>\n",
              "      <th>Consent provided</th>\n",
              "      <td>55603</td>\n",
              "      <td>18585</td>\n",
              "    </tr>\n",
              "    <tr>\n",
              "      <th>Consent withdrawn</th>\n",
              "      <td>2</td>\n",
              "      <td>1</td>\n",
              "    </tr>\n",
              "    <tr>\n",
              "      <th>Other</th>\n",
              "      <td>3149</td>\n",
              "      <td>1046</td>\n",
              "    </tr>\n",
              "  </tbody>\n",
              "</table>\n",
              "</div>"
            ],
            "text/plain": [
              "Consumer disputed?               0      1\n",
              "Consumer consent provided?               \n",
              "Consent not provided        313550  80508\n",
              "Consent provided             55603  18585\n",
              "Consent withdrawn                2      1\n",
              "Other                         3149   1046"
            ]
          },
          "metadata": {
            "tags": []
          },
          "execution_count": 79
        }
      ]
    },
    {
      "cell_type": "code",
      "metadata": {
        "id": "0NvF8gG5F7XS",
        "colab_type": "code",
        "colab": {}
      },
      "source": [
        "replace = {'Consent not provided': 0, 'Consent withdrawn': 0, 'Other': 0, 'Consent provided': 1}\n",
        "file['Consumer consent provided?'] = train_file['Consumer consent provided?'].apply(lambda x: replace[x])"
      ],
      "execution_count": 0,
      "outputs": []
    },
    {
      "cell_type": "code",
      "metadata": {
        "id": "B0rpKXJkvPOP",
        "colab_type": "code",
        "outputId": "86f5a4ae-53bc-454c-8156-719583e6bc7b",
        "colab": {
          "base_uri": "https://localhost:8080/",
          "height": 260
        }
      },
      "source": [
        "#file['Company public response'].unique()"
      ],
      "execution_count": 0,
      "outputs": [
        {
          "output_type": "execute_result",
          "data": {
            "text/plain": [
              "array(['Company chooses not to provide',\n",
              "       'Company chooses not to provide a public response',\n",
              "       'Company has responded to the consumer and the CFPB and chooses not to provide a public response',\n",
              "       'Company believes it acted appropriately as authorized by contract or law',\n",
              "       'Company believes complaint caused principally by actions of third party outside the control or direction of the company',\n",
              "       'Company believes the complaint is the result of a misunderstanding',\n",
              "       'Company disputes the facts presented in the complaint',\n",
              "       \"Company can't verify or dispute the facts in the complaint\",\n",
              "       'Company believes complaint is the result of an isolated error',\n",
              "       'Company believes complaint represents an opportunity for improvement to better serve consumers',\n",
              "       'Company believes complaint relates to a discontinued policy or procedure',\n",
              "       'Company has responded to the consumer and the CFPB and chooses not to provide a pu'],\n",
              "      dtype=object)"
            ]
          },
          "metadata": {
            "tags": []
          },
          "execution_count": 81
        }
      ]
    },
    {
      "cell_type": "code",
      "metadata": {
        "id": "8OlQQ_wUmlj_",
        "colab_type": "code",
        "colab": {}
      },
      "source": [
        "#Encoding Company public response column\n",
        "#I have grouped some of the values\n",
        "\n",
        "#file['Company public response'] = file['Company public response'].map( {\n",
        "#    \"Company chooses not to provide\" : '0',\n",
        "#    \"Company chooses not to provide a public response\" : '0',\n",
        "#    \"Company has responded to the consumer and the CFPB and chooses not to provide a pu\" : '0',\n",
        "#    \"Company has responded to the consumer and the CFPB and chooses not to provide a public response\" : '0',\n",
        "#    \"Company believes it acted appropriately as authorized by contract or law\" : '1',\n",
        "#    \"Company believes complaint caused principally by actions of third party outside the control or direction of the company\" : '2',\n",
        "#    \"Company believes the complaint is the result of a misunderstanding\" : '3',\n",
        "#    \"Company disputes the facts presented in the complaint\" : '4',\n",
        "#    \"Company believes complaint is the result of an isolated error\" : '5',\n",
        "#    \"Company can't verify or dispute the facts in the complaint\" : '6',\n",
        "#    \"Company believes complaint represents an opportunity for improvement to better serve consumers\" : '7',\n",
        "#    \"Company believes complaint relates to a discontinued policy or procedure\" : '8'\n",
        "#} )"
      ],
      "execution_count": 0,
      "outputs": []
    },
    {
      "cell_type": "code",
      "metadata": {
        "id": "dp6K4PhKKeWB",
        "colab_type": "code",
        "outputId": "f5589c51-f0db-4faf-f9a8-1062ad460173",
        "colab": {
          "base_uri": "https://localhost:8080/",
          "height": 446
        }
      },
      "source": [
        "pd.crosstab(train_file['State'], train_file['Consumer disputed?'], normalize='index').round(2)"
      ],
      "execution_count": 0,
      "outputs": [
        {
          "output_type": "execute_result",
          "data": {
            "text/html": [
              "<div>\n",
              "<style scoped>\n",
              "    .dataframe tbody tr th:only-of-type {\n",
              "        vertical-align: middle;\n",
              "    }\n",
              "\n",
              "    .dataframe tbody tr th {\n",
              "        vertical-align: top;\n",
              "    }\n",
              "\n",
              "    .dataframe thead th {\n",
              "        text-align: right;\n",
              "    }\n",
              "</style>\n",
              "<table border=\"1\" class=\"dataframe\">\n",
              "  <thead>\n",
              "    <tr style=\"text-align: right;\">\n",
              "      <th>Consumer disputed?</th>\n",
              "      <th>0</th>\n",
              "      <th>1</th>\n",
              "    </tr>\n",
              "    <tr>\n",
              "      <th>State</th>\n",
              "      <th></th>\n",
              "      <th></th>\n",
              "    </tr>\n",
              "  </thead>\n",
              "  <tbody>\n",
              "    <tr>\n",
              "      <th>AA</th>\n",
              "      <td>0.62</td>\n",
              "      <td>0.38</td>\n",
              "    </tr>\n",
              "    <tr>\n",
              "      <th>AE</th>\n",
              "      <td>0.83</td>\n",
              "      <td>0.17</td>\n",
              "    </tr>\n",
              "    <tr>\n",
              "      <th>AK</th>\n",
              "      <td>0.81</td>\n",
              "      <td>0.19</td>\n",
              "    </tr>\n",
              "    <tr>\n",
              "      <th>AL</th>\n",
              "      <td>0.79</td>\n",
              "      <td>0.21</td>\n",
              "    </tr>\n",
              "    <tr>\n",
              "      <th>AP</th>\n",
              "      <td>0.76</td>\n",
              "      <td>0.24</td>\n",
              "    </tr>\n",
              "    <tr>\n",
              "      <th>...</th>\n",
              "      <td>...</td>\n",
              "      <td>...</td>\n",
              "    </tr>\n",
              "    <tr>\n",
              "      <th>VT</th>\n",
              "      <td>0.80</td>\n",
              "      <td>0.20</td>\n",
              "    </tr>\n",
              "    <tr>\n",
              "      <th>WA</th>\n",
              "      <td>0.78</td>\n",
              "      <td>0.22</td>\n",
              "    </tr>\n",
              "    <tr>\n",
              "      <th>WI</th>\n",
              "      <td>0.78</td>\n",
              "      <td>0.22</td>\n",
              "    </tr>\n",
              "    <tr>\n",
              "      <th>WV</th>\n",
              "      <td>0.80</td>\n",
              "      <td>0.20</td>\n",
              "    </tr>\n",
              "    <tr>\n",
              "      <th>WY</th>\n",
              "      <td>0.79</td>\n",
              "      <td>0.21</td>\n",
              "    </tr>\n",
              "  </tbody>\n",
              "</table>\n",
              "<p>63 rows × 2 columns</p>\n",
              "</div>"
            ],
            "text/plain": [
              "Consumer disputed?     0     1\n",
              "State                         \n",
              "AA                  0.62  0.38\n",
              "AE                  0.83  0.17\n",
              "AK                  0.81  0.19\n",
              "AL                  0.79  0.21\n",
              "AP                  0.76  0.24\n",
              "...                  ...   ...\n",
              "VT                  0.80  0.20\n",
              "WA                  0.78  0.22\n",
              "WI                  0.78  0.22\n",
              "WV                  0.80  0.20\n",
              "WY                  0.79  0.21\n",
              "\n",
              "[63 rows x 2 columns]"
            ]
          },
          "metadata": {
            "tags": []
          },
          "execution_count": 84
        }
      ]
    },
    {
      "cell_type": "markdown",
      "metadata": {
        "id": "a3UbDMD-k557",
        "colab_type": "text"
      },
      "source": [
        "States can be grouped having same proportion of Consumer Disputes and then dummies can be created. Please help me in this"
      ]
    },
    {
      "cell_type": "markdown",
      "metadata": {
        "id": "LctZYBYRlTPW",
        "colab_type": "text"
      },
      "source": [
        "Making a new feature from company column by calulating the complaint counts of each company, if we do so maybe we can drop company column and the dummies we created for top 10 worst companies. \n",
        "I also done for **Issue** and **State** features\n"
      ]
    },
    {
      "cell_type": "code",
      "metadata": {
        "id": "QGKv2UQCgf-G",
        "colab_type": "code",
        "colab": {}
      },
      "source": [
        "company_complaints_counts = file['Company'].value_counts()\n",
        "file['company_complaint_counts'] = file['Company'].apply(lambda x: company_complaints_counts[x])"
      ],
      "execution_count": 0,
      "outputs": []
    },
    {
      "cell_type": "code",
      "metadata": {
        "id": "tH3lHo4CWKZ9",
        "colab_type": "code",
        "colab": {}
      },
      "source": [
        "Issue_counts = file['Issue'].value_counts()\n",
        "file['Issue_counts'] = file['Issue'].apply(lambda x: Issue_counts[x])"
      ],
      "execution_count": 0,
      "outputs": []
    },
    {
      "cell_type": "code",
      "metadata": {
        "id": "nh5upYBWkSV_",
        "colab_type": "code",
        "colab": {}
      },
      "source": [
        "State_counts = file['State'].value_counts()\n",
        "file['State_counts'] = file['State'].apply(lambda x: State_counts[x])"
      ],
      "execution_count": 0,
      "outputs": []
    },
    {
      "cell_type": "markdown",
      "metadata": {
        "id": "F7Cgdssaljp6",
        "colab_type": "text"
      },
      "source": [
        "Extracting useful information from Date columns"
      ]
    },
    {
      "cell_type": "code",
      "metadata": {
        "id": "_ZwbsmqjlNpW",
        "colab_type": "code",
        "outputId": "27849e86-40e9-4541-bddb-55935b351d5e",
        "colab": {
          "base_uri": "https://localhost:8080/",
          "height": 425
        }
      },
      "source": [
        "file.head()"
      ],
      "execution_count": 0,
      "outputs": [
        {
          "output_type": "execute_result",
          "data": {
            "text/html": [
              "<div>\n",
              "<style scoped>\n",
              "    .dataframe tbody tr th:only-of-type {\n",
              "        vertical-align: middle;\n",
              "    }\n",
              "\n",
              "    .dataframe tbody tr th {\n",
              "        vertical-align: top;\n",
              "    }\n",
              "\n",
              "    .dataframe thead th {\n",
              "        text-align: right;\n",
              "    }\n",
              "</style>\n",
              "<table border=\"1\" class=\"dataframe\">\n",
              "  <thead>\n",
              "    <tr style=\"text-align: right;\">\n",
              "      <th></th>\n",
              "      <th>Company</th>\n",
              "      <th>Company response to consumer</th>\n",
              "      <th>Consumer consent provided?</th>\n",
              "      <th>Consumer disputed?</th>\n",
              "      <th>Date received</th>\n",
              "      <th>Date sent to company</th>\n",
              "      <th>Issue</th>\n",
              "      <th>Product</th>\n",
              "      <th>State</th>\n",
              "      <th>Sub-product</th>\n",
              "      <th>Submitted via</th>\n",
              "      <th>Tags</th>\n",
              "      <th>Timely response?</th>\n",
              "      <th>data</th>\n",
              "      <th>company_complaint_counts</th>\n",
              "      <th>Issue_counts</th>\n",
              "      <th>State_counts</th>\n",
              "    </tr>\n",
              "  </thead>\n",
              "  <tbody>\n",
              "    <tr>\n",
              "      <th>0</th>\n",
              "      <td>Wells Fargo &amp; Company</td>\n",
              "      <td>1</td>\n",
              "      <td>0</td>\n",
              "      <td>0</td>\n",
              "      <td>15-05-2014</td>\n",
              "      <td>16-05-2014</td>\n",
              "      <td>Billing statement</td>\n",
              "      <td>Credit card</td>\n",
              "      <td>MI</td>\n",
              "      <td>No Sub-product</td>\n",
              "      <td>Web</td>\n",
              "      <td>Older American</td>\n",
              "      <td>1</td>\n",
              "      <td>train</td>\n",
              "      <td>43884</td>\n",
              "      <td>2154</td>\n",
              "      <td>15308</td>\n",
              "    </tr>\n",
              "    <tr>\n",
              "      <th>1</th>\n",
              "      <td>Santander Bank US</td>\n",
              "      <td>0</td>\n",
              "      <td>0</td>\n",
              "      <td>0</td>\n",
              "      <td>18-09-2014</td>\n",
              "      <td>24-09-2014</td>\n",
              "      <td>Making/receiving payments, sending money</td>\n",
              "      <td>Bank account or service</td>\n",
              "      <td>PA</td>\n",
              "      <td>(CD) Certificate of deposit</td>\n",
              "      <td>Referral</td>\n",
              "      <td>Unknown</td>\n",
              "      <td>1</td>\n",
              "      <td>train</td>\n",
              "      <td>2007</td>\n",
              "      <td>5712</td>\n",
              "      <td>21219</td>\n",
              "    </tr>\n",
              "    <tr>\n",
              "      <th>2</th>\n",
              "      <td>Equifax</td>\n",
              "      <td>2</td>\n",
              "      <td>0</td>\n",
              "      <td>0</td>\n",
              "      <td>13-03-2014</td>\n",
              "      <td>03-04-2014</td>\n",
              "      <td>Incorrect information on credit report</td>\n",
              "      <td>Credit reporting</td>\n",
              "      <td>CA</td>\n",
              "      <td>No Sub-product</td>\n",
              "      <td>Referral</td>\n",
              "      <td>Unknown</td>\n",
              "      <td>1</td>\n",
              "      <td>train</td>\n",
              "      <td>35610</td>\n",
              "      <td>72611</td>\n",
              "      <td>91382</td>\n",
              "    </tr>\n",
              "    <tr>\n",
              "      <th>3</th>\n",
              "      <td>U.S. Bancorp</td>\n",
              "      <td>2</td>\n",
              "      <td>1</td>\n",
              "      <td>0</td>\n",
              "      <td>17-07-2015</td>\n",
              "      <td>17-07-2015</td>\n",
              "      <td>Billing statement</td>\n",
              "      <td>Credit card</td>\n",
              "      <td>GA</td>\n",
              "      <td>No Sub-product</td>\n",
              "      <td>Web</td>\n",
              "      <td>Older American</td>\n",
              "      <td>1</td>\n",
              "      <td>train</td>\n",
              "      <td>10135</td>\n",
              "      <td>2154</td>\n",
              "      <td>26411</td>\n",
              "    </tr>\n",
              "    <tr>\n",
              "      <th>4</th>\n",
              "      <td>Bank of America</td>\n",
              "      <td>1</td>\n",
              "      <td>0</td>\n",
              "      <td>0</td>\n",
              "      <td>20-11-2014</td>\n",
              "      <td>28-11-2014</td>\n",
              "      <td>Transaction issue</td>\n",
              "      <td>Credit card</td>\n",
              "      <td>MA</td>\n",
              "      <td>No Sub-product</td>\n",
              "      <td>Web</td>\n",
              "      <td>Unknown</td>\n",
              "      <td>1</td>\n",
              "      <td>train</td>\n",
              "      <td>57342</td>\n",
              "      <td>2012</td>\n",
              "      <td>11787</td>\n",
              "    </tr>\n",
              "  </tbody>\n",
              "</table>\n",
              "</div>"
            ],
            "text/plain": [
              "                 Company  ... State_counts\n",
              "0  Wells Fargo & Company  ...        15308\n",
              "1      Santander Bank US  ...        21219\n",
              "2                Equifax  ...        91382\n",
              "3           U.S. Bancorp  ...        26411\n",
              "4        Bank of America  ...        11787\n",
              "\n",
              "[5 rows x 17 columns]"
            ]
          },
          "metadata": {
            "tags": []
          },
          "execution_count": 83
        }
      ]
    },
    {
      "cell_type": "code",
      "metadata": {
        "id": "kT9CQSvalJ7D",
        "colab_type": "code",
        "colab": {}
      },
      "source": [
        "file.drop(columns=['Company'], inplace=True)"
      ],
      "execution_count": 0,
      "outputs": []
    },
    {
      "cell_type": "code",
      "metadata": {
        "id": "DVzCCYdNgpXU",
        "colab_type": "code",
        "colab": {}
      },
      "source": [
        "#First convert into Datetime type\n",
        "file['Date received'] = pd.to_datetime(file['Date received'])\n",
        "file['Date sent to company'] = pd.to_datetime(file['Date sent to company'])"
      ],
      "execution_count": 0,
      "outputs": []
    },
    {
      "cell_type": "code",
      "metadata": {
        "id": "L8kX90PmjCyp",
        "colab_type": "code",
        "colab": {}
      },
      "source": [
        "file['Date_Sent_Day'] = file['Date sent to company'].apply(lambda x: x.day)\n",
        "file['Date_Received_Day'] = file['Date received'].apply(lambda x: x.day)"
      ],
      "execution_count": 0,
      "outputs": []
    },
    {
      "cell_type": "code",
      "metadata": {
        "id": "7id2V21uhzHt",
        "colab_type": "code",
        "colab": {}
      },
      "source": [
        "#Time taken to process the complaint\n",
        "file['ProcessTime'] = pd.to_numeric(file['Date_Sent_Day']-file['Date_Received_Day'])"
      ],
      "execution_count": 0,
      "outputs": []
    },
    {
      "cell_type": "markdown",
      "metadata": {
        "id": "gfnCT3kgQZSK",
        "colab_type": "text"
      },
      "source": [
        "Here I am getting negative values in ProcessTIme, help me in this"
      ]
    },
    {
      "cell_type": "code",
      "metadata": {
        "id": "JB-I9projxPX",
        "colab_type": "code",
        "colab": {}
      },
      "source": [
        "file['Date_Sent_Month'] = file['Date sent to company'].apply(lambda x: x.month)\n",
        "file['Date_Received_Month'] = file['Date received'].apply(lambda x: x.month)"
      ],
      "execution_count": 0,
      "outputs": []
    },
    {
      "cell_type": "code",
      "metadata": {
        "id": "CKmAy_hJiWg2",
        "colab_type": "code",
        "colab": {}
      },
      "source": [
        "file.drop(columns=['Date sent to company', 'Date received'], inplace=True)"
      ],
      "execution_count": 0,
      "outputs": []
    },
    {
      "cell_type": "code",
      "metadata": {
        "id": "Jjmq2xGuHqMR",
        "colab_type": "code",
        "outputId": "502adfca-7677-4326-bb13-52d253452602",
        "colab": {
          "base_uri": "https://localhost:8080/",
          "height": 384
        }
      },
      "source": [
        "file.head()"
      ],
      "execution_count": 0,
      "outputs": [
        {
          "output_type": "execute_result",
          "data": {
            "text/html": [
              "<div>\n",
              "<style scoped>\n",
              "    .dataframe tbody tr th:only-of-type {\n",
              "        vertical-align: middle;\n",
              "    }\n",
              "\n",
              "    .dataframe tbody tr th {\n",
              "        vertical-align: top;\n",
              "    }\n",
              "\n",
              "    .dataframe thead th {\n",
              "        text-align: right;\n",
              "    }\n",
              "</style>\n",
              "<table border=\"1\" class=\"dataframe\">\n",
              "  <thead>\n",
              "    <tr style=\"text-align: right;\">\n",
              "      <th></th>\n",
              "      <th>Company response to consumer</th>\n",
              "      <th>Consumer consent provided?</th>\n",
              "      <th>Consumer disputed?</th>\n",
              "      <th>Product</th>\n",
              "      <th>Sub-product</th>\n",
              "      <th>Submitted via</th>\n",
              "      <th>Tags</th>\n",
              "      <th>Timely response?</th>\n",
              "      <th>data</th>\n",
              "      <th>company_complaint_counts</th>\n",
              "      <th>Issue_counts</th>\n",
              "      <th>State_counts</th>\n",
              "      <th>Date_Sent_Day</th>\n",
              "      <th>Date_Received_Day</th>\n",
              "      <th>ProcessTime</th>\n",
              "      <th>Date_Sent_Month</th>\n",
              "      <th>Date_Received_Month</th>\n",
              "    </tr>\n",
              "  </thead>\n",
              "  <tbody>\n",
              "    <tr>\n",
              "      <th>0</th>\n",
              "      <td>1</td>\n",
              "      <td>0</td>\n",
              "      <td>0</td>\n",
              "      <td>Credit card</td>\n",
              "      <td>No Sub-product</td>\n",
              "      <td>Web</td>\n",
              "      <td>Older American</td>\n",
              "      <td>1</td>\n",
              "      <td>train</td>\n",
              "      <td>43884</td>\n",
              "      <td>2154</td>\n",
              "      <td>15308</td>\n",
              "      <td>16</td>\n",
              "      <td>15</td>\n",
              "      <td>1</td>\n",
              "      <td>5</td>\n",
              "      <td>5</td>\n",
              "    </tr>\n",
              "    <tr>\n",
              "      <th>1</th>\n",
              "      <td>0</td>\n",
              "      <td>0</td>\n",
              "      <td>0</td>\n",
              "      <td>Bank account or service</td>\n",
              "      <td>(CD) Certificate of deposit</td>\n",
              "      <td>Referral</td>\n",
              "      <td>Unknown</td>\n",
              "      <td>1</td>\n",
              "      <td>train</td>\n",
              "      <td>2007</td>\n",
              "      <td>5712</td>\n",
              "      <td>21219</td>\n",
              "      <td>24</td>\n",
              "      <td>18</td>\n",
              "      <td>6</td>\n",
              "      <td>9</td>\n",
              "      <td>9</td>\n",
              "    </tr>\n",
              "    <tr>\n",
              "      <th>2</th>\n",
              "      <td>2</td>\n",
              "      <td>0</td>\n",
              "      <td>0</td>\n",
              "      <td>Credit reporting</td>\n",
              "      <td>No Sub-product</td>\n",
              "      <td>Referral</td>\n",
              "      <td>Unknown</td>\n",
              "      <td>1</td>\n",
              "      <td>train</td>\n",
              "      <td>35610</td>\n",
              "      <td>72611</td>\n",
              "      <td>91382</td>\n",
              "      <td>4</td>\n",
              "      <td>13</td>\n",
              "      <td>-9</td>\n",
              "      <td>3</td>\n",
              "      <td>3</td>\n",
              "    </tr>\n",
              "    <tr>\n",
              "      <th>3</th>\n",
              "      <td>2</td>\n",
              "      <td>1</td>\n",
              "      <td>0</td>\n",
              "      <td>Credit card</td>\n",
              "      <td>No Sub-product</td>\n",
              "      <td>Web</td>\n",
              "      <td>Older American</td>\n",
              "      <td>1</td>\n",
              "      <td>train</td>\n",
              "      <td>10135</td>\n",
              "      <td>2154</td>\n",
              "      <td>26411</td>\n",
              "      <td>17</td>\n",
              "      <td>17</td>\n",
              "      <td>0</td>\n",
              "      <td>7</td>\n",
              "      <td>7</td>\n",
              "    </tr>\n",
              "    <tr>\n",
              "      <th>4</th>\n",
              "      <td>1</td>\n",
              "      <td>0</td>\n",
              "      <td>0</td>\n",
              "      <td>Credit card</td>\n",
              "      <td>No Sub-product</td>\n",
              "      <td>Web</td>\n",
              "      <td>Unknown</td>\n",
              "      <td>1</td>\n",
              "      <td>train</td>\n",
              "      <td>57342</td>\n",
              "      <td>2012</td>\n",
              "      <td>11787</td>\n",
              "      <td>28</td>\n",
              "      <td>20</td>\n",
              "      <td>8</td>\n",
              "      <td>11</td>\n",
              "      <td>11</td>\n",
              "    </tr>\n",
              "  </tbody>\n",
              "</table>\n",
              "</div>"
            ],
            "text/plain": [
              "  Company response to consumer  ...  Date_Received_Month\n",
              "0                            1  ...                    5\n",
              "1                            0  ...                    9\n",
              "2                            2  ...                    3\n",
              "3                            2  ...                    7\n",
              "4                            1  ...                   11\n",
              "\n",
              "[5 rows x 17 columns]"
            ]
          },
          "metadata": {
            "tags": []
          },
          "execution_count": 26
        }
      ]
    },
    {
      "cell_type": "markdown",
      "metadata": {
        "id": "i0dhlj5qn6m6",
        "colab_type": "text"
      },
      "source": [
        "# Creating Dummies"
      ]
    },
    {
      "cell_type": "code",
      "metadata": {
        "id": "hUJohGW4kiXC",
        "colab_type": "code",
        "colab": {}
      },
      "source": [
        "cat_cols = ['Submitted via', 'Product', 'Tags', 'Company response to consumer']\n",
        "\n",
        "file = pd.get_dummies(file, columns=cat_cols)"
      ],
      "execution_count": 0,
      "outputs": []
    },
    {
      "cell_type": "code",
      "metadata": {
        "id": "oTOzvXo2qRcw",
        "colab_type": "code",
        "colab": {}
      },
      "source": [
        "#These columns have many categories so I am using for loop so that i can provide a cutoff\n",
        "cat_cols = ['Sub-product', 'Sub-issue', 'Issue', 'State', 'Company']"
      ],
      "execution_count": 0,
      "outputs": []
    },
    {
      "cell_type": "code",
      "metadata": {
        "id": "tYQ0FiIZoxGu",
        "colab_type": "code",
        "outputId": "dd201607-3fb8-45af-d3c1-64dd7974ecc6",
        "colab": {
          "base_uri": "https://localhost:8080/",
          "height": 104
        }
      },
      "source": [
        "for col in cat_cols:\n",
        "    freqs=file[col].value_counts()\n",
        "    k=freqs.index[freqs>500][:-1]\n",
        "    for cat in k:\n",
        "        name=col+'_'+cat\n",
        "        file[name]=(file[col]==cat).astype(int)\n",
        "    del file[col]\n",
        "    print(col)"
      ],
      "execution_count": 0,
      "outputs": [
        {
          "output_type": "stream",
          "text": [
            "Sub-product\n",
            "Sub-issue\n",
            "Issue\n",
            "State\n",
            "Company\n"
          ],
          "name": "stdout"
        }
      ]
    },
    {
      "cell_type": "code",
      "metadata": {
        "id": "nQgpkSaoHyB3",
        "colab_type": "code",
        "outputId": "95a8c84e-ddb6-4180-ba73-82b2b37e5e1e",
        "colab": {
          "base_uri": "https://localhost:8080/",
          "height": 355
        }
      },
      "source": [
        "file.head()"
      ],
      "execution_count": 0,
      "outputs": [
        {
          "output_type": "execute_result",
          "data": {
            "text/html": [
              "<div>\n",
              "<style scoped>\n",
              "    .dataframe tbody tr th:only-of-type {\n",
              "        vertical-align: middle;\n",
              "    }\n",
              "\n",
              "    .dataframe tbody tr th {\n",
              "        vertical-align: top;\n",
              "    }\n",
              "\n",
              "    .dataframe thead th {\n",
              "        text-align: right;\n",
              "    }\n",
              "</style>\n",
              "<table border=\"1\" class=\"dataframe\">\n",
              "  <thead>\n",
              "    <tr style=\"text-align: right;\">\n",
              "      <th></th>\n",
              "      <th>Consumer consent provided?</th>\n",
              "      <th>Consumer disputed?</th>\n",
              "      <th>Timely response?</th>\n",
              "      <th>data</th>\n",
              "      <th>Loan modification,collection,foreclosure</th>\n",
              "      <th>Loan servicing, payments, escrow account</th>\n",
              "      <th>Cont'd attempts collect debt not owed</th>\n",
              "      <th>Disclosure verification of debt</th>\n",
              "      <th>Incorrect information on credit report</th>\n",
              "      <th>Billing disputes</th>\n",
              "      <th>Account opening, closing, or management</th>\n",
              "      <th>Deposits and withdrawals</th>\n",
              "      <th>Managing the loan or lease</th>\n",
              "      <th>Dealing with my lender or servicer</th>\n",
              "      <th>Bank of America</th>\n",
              "      <th>Wells Fargo &amp; Company</th>\n",
              "      <th>JPMorgan Chase &amp; Co.</th>\n",
              "      <th>Experian</th>\n",
              "      <th>TransUnion Intermediate Holdings, Inc.</th>\n",
              "      <th>Citibank</th>\n",
              "      <th>Ocwen</th>\n",
              "      <th>Capital One</th>\n",
              "      <th>Nationstar Mortgage</th>\n",
              "      <th>company_complaint_counts</th>\n",
              "      <th>Issue_counts</th>\n",
              "      <th>State_counts</th>\n",
              "      <th>Date_Sent_Day</th>\n",
              "      <th>Date_Received_Day</th>\n",
              "      <th>ProcessTime</th>\n",
              "      <th>Date_Sent_Month</th>\n",
              "      <th>Date_Received_Month</th>\n",
              "      <th>Submitted via_Email</th>\n",
              "      <th>Submitted via_Fax</th>\n",
              "      <th>Submitted via_Phone</th>\n",
              "      <th>Submitted via_Postal mail</th>\n",
              "      <th>Submitted via_Referral</th>\n",
              "      <th>Submitted via_Web</th>\n",
              "      <th>Product_Bank account or service</th>\n",
              "      <th>Product_Consumer Loan</th>\n",
              "      <th>Product_Credit card</th>\n",
              "      <th>...</th>\n",
              "      <th>Sub-product_Auto</th>\n",
              "      <th>Sub-product_International money transfer</th>\n",
              "      <th>Sub-product_Domestic (US) money transfer</th>\n",
              "      <th>Sub-product_Federal student loan</th>\n",
              "      <th>Sub-product_Vehicle lease</th>\n",
              "      <th>Sub-product_Federal student loan servicing</th>\n",
              "      <th>Sub-product_Reverse mortgage</th>\n",
              "      <th>Sub-issue_No Sub-issue</th>\n",
              "      <th>Sub-issue_Account status</th>\n",
              "      <th>Sub-issue_Debt is not mine</th>\n",
              "      <th>Sub-issue_Information is not mine</th>\n",
              "      <th>Sub-issue_Not given enough info to verify debt</th>\n",
              "      <th>Sub-issue_Debt was paid</th>\n",
              "      <th>Sub-issue_Frequent or repeated calls</th>\n",
              "      <th>Sub-issue_Account terms</th>\n",
              "      <th>Sub-issue_Attempted to collect wrong amount</th>\n",
              "      <th>Sub-issue_Public record</th>\n",
              "      <th>Sub-issue_Problem getting my free annual report</th>\n",
              "      <th>Sub-issue_Personal information</th>\n",
              "      <th>Sub-issue_Right to dispute notice not received</th>\n",
              "      <th>Sub-issue_Problem with statement of dispute</th>\n",
              "      <th>Sub-issue_No notice of investigation status/result</th>\n",
              "      <th>Sub-issue_Report improperly shared by CRC</th>\n",
              "      <th>Sub-issue_Repaying your loan</th>\n",
              "      <th>Sub-issue_Talked to a third party about my debt</th>\n",
              "      <th>Sub-issue_Threatened to take legal action</th>\n",
              "      <th>Sub-issue_Problem getting report or credit score</th>\n",
              "      <th>Sub-issue_Debt resulted from identity theft</th>\n",
              "      <th>Sub-issue_Reinserted previously deleted info</th>\n",
              "      <th>Sub-issue_Trouble with how payments are handled</th>\n",
              "      <th>Sub-issue_Contacted me after I asked not to</th>\n",
              "      <th>Sub-issue_Threatened to sue on too old debt</th>\n",
              "      <th>Sub-issue_Can't decrease my monthly payments</th>\n",
              "      <th>Sub-issue_Debt was discharged in bankruptcy</th>\n",
              "      <th>Sub-issue_Can't get flexible payment options</th>\n",
              "      <th>Sub-issue_Charged fees or interest I didn't expect</th>\n",
              "      <th>Sub-issue_Threatened arrest/jail if do not pay</th>\n",
              "      <th>Sub-issue_Contacted employer after asked not to</th>\n",
              "      <th>Sub-issue_Investigation took too long</th>\n",
              "      <th>Sub-issue_Problems when you are unable to pay</th>\n",
              "    </tr>\n",
              "  </thead>\n",
              "  <tbody>\n",
              "    <tr>\n",
              "      <th>0</th>\n",
              "      <td>0</td>\n",
              "      <td>0</td>\n",
              "      <td>1</td>\n",
              "      <td>train</td>\n",
              "      <td>0</td>\n",
              "      <td>0</td>\n",
              "      <td>0</td>\n",
              "      <td>0</td>\n",
              "      <td>0</td>\n",
              "      <td>0</td>\n",
              "      <td>0</td>\n",
              "      <td>0</td>\n",
              "      <td>0</td>\n",
              "      <td>0</td>\n",
              "      <td>0</td>\n",
              "      <td>0</td>\n",
              "      <td>0</td>\n",
              "      <td>0</td>\n",
              "      <td>0</td>\n",
              "      <td>0</td>\n",
              "      <td>0</td>\n",
              "      <td>0</td>\n",
              "      <td>0</td>\n",
              "      <td>43884</td>\n",
              "      <td>2154</td>\n",
              "      <td>15308</td>\n",
              "      <td>16</td>\n",
              "      <td>15</td>\n",
              "      <td>1</td>\n",
              "      <td>5</td>\n",
              "      <td>5</td>\n",
              "      <td>0</td>\n",
              "      <td>0</td>\n",
              "      <td>0</td>\n",
              "      <td>0</td>\n",
              "      <td>0</td>\n",
              "      <td>1</td>\n",
              "      <td>0</td>\n",
              "      <td>0</td>\n",
              "      <td>1</td>\n",
              "      <td>...</td>\n",
              "      <td>0</td>\n",
              "      <td>0</td>\n",
              "      <td>0</td>\n",
              "      <td>0</td>\n",
              "      <td>0</td>\n",
              "      <td>0</td>\n",
              "      <td>0</td>\n",
              "      <td>1</td>\n",
              "      <td>0</td>\n",
              "      <td>0</td>\n",
              "      <td>0</td>\n",
              "      <td>0</td>\n",
              "      <td>0</td>\n",
              "      <td>0</td>\n",
              "      <td>0</td>\n",
              "      <td>0</td>\n",
              "      <td>0</td>\n",
              "      <td>0</td>\n",
              "      <td>0</td>\n",
              "      <td>0</td>\n",
              "      <td>0</td>\n",
              "      <td>0</td>\n",
              "      <td>0</td>\n",
              "      <td>0</td>\n",
              "      <td>0</td>\n",
              "      <td>0</td>\n",
              "      <td>0</td>\n",
              "      <td>0</td>\n",
              "      <td>0</td>\n",
              "      <td>0</td>\n",
              "      <td>0</td>\n",
              "      <td>0</td>\n",
              "      <td>0</td>\n",
              "      <td>0</td>\n",
              "      <td>0</td>\n",
              "      <td>0</td>\n",
              "      <td>0</td>\n",
              "      <td>0</td>\n",
              "      <td>0</td>\n",
              "      <td>0</td>\n",
              "    </tr>\n",
              "    <tr>\n",
              "      <th>1</th>\n",
              "      <td>0</td>\n",
              "      <td>0</td>\n",
              "      <td>1</td>\n",
              "      <td>train</td>\n",
              "      <td>0</td>\n",
              "      <td>0</td>\n",
              "      <td>0</td>\n",
              "      <td>0</td>\n",
              "      <td>0</td>\n",
              "      <td>0</td>\n",
              "      <td>0</td>\n",
              "      <td>0</td>\n",
              "      <td>0</td>\n",
              "      <td>0</td>\n",
              "      <td>0</td>\n",
              "      <td>0</td>\n",
              "      <td>0</td>\n",
              "      <td>0</td>\n",
              "      <td>0</td>\n",
              "      <td>0</td>\n",
              "      <td>0</td>\n",
              "      <td>0</td>\n",
              "      <td>0</td>\n",
              "      <td>2007</td>\n",
              "      <td>5712</td>\n",
              "      <td>21219</td>\n",
              "      <td>24</td>\n",
              "      <td>18</td>\n",
              "      <td>6</td>\n",
              "      <td>9</td>\n",
              "      <td>9</td>\n",
              "      <td>0</td>\n",
              "      <td>0</td>\n",
              "      <td>0</td>\n",
              "      <td>0</td>\n",
              "      <td>1</td>\n",
              "      <td>0</td>\n",
              "      <td>1</td>\n",
              "      <td>0</td>\n",
              "      <td>0</td>\n",
              "      <td>...</td>\n",
              "      <td>0</td>\n",
              "      <td>0</td>\n",
              "      <td>0</td>\n",
              "      <td>0</td>\n",
              "      <td>0</td>\n",
              "      <td>0</td>\n",
              "      <td>0</td>\n",
              "      <td>1</td>\n",
              "      <td>0</td>\n",
              "      <td>0</td>\n",
              "      <td>0</td>\n",
              "      <td>0</td>\n",
              "      <td>0</td>\n",
              "      <td>0</td>\n",
              "      <td>0</td>\n",
              "      <td>0</td>\n",
              "      <td>0</td>\n",
              "      <td>0</td>\n",
              "      <td>0</td>\n",
              "      <td>0</td>\n",
              "      <td>0</td>\n",
              "      <td>0</td>\n",
              "      <td>0</td>\n",
              "      <td>0</td>\n",
              "      <td>0</td>\n",
              "      <td>0</td>\n",
              "      <td>0</td>\n",
              "      <td>0</td>\n",
              "      <td>0</td>\n",
              "      <td>0</td>\n",
              "      <td>0</td>\n",
              "      <td>0</td>\n",
              "      <td>0</td>\n",
              "      <td>0</td>\n",
              "      <td>0</td>\n",
              "      <td>0</td>\n",
              "      <td>0</td>\n",
              "      <td>0</td>\n",
              "      <td>0</td>\n",
              "      <td>0</td>\n",
              "    </tr>\n",
              "    <tr>\n",
              "      <th>2</th>\n",
              "      <td>0</td>\n",
              "      <td>0</td>\n",
              "      <td>1</td>\n",
              "      <td>train</td>\n",
              "      <td>0</td>\n",
              "      <td>0</td>\n",
              "      <td>0</td>\n",
              "      <td>0</td>\n",
              "      <td>1</td>\n",
              "      <td>0</td>\n",
              "      <td>0</td>\n",
              "      <td>0</td>\n",
              "      <td>0</td>\n",
              "      <td>0</td>\n",
              "      <td>0</td>\n",
              "      <td>0</td>\n",
              "      <td>0</td>\n",
              "      <td>0</td>\n",
              "      <td>0</td>\n",
              "      <td>0</td>\n",
              "      <td>0</td>\n",
              "      <td>0</td>\n",
              "      <td>0</td>\n",
              "      <td>35610</td>\n",
              "      <td>72611</td>\n",
              "      <td>91382</td>\n",
              "      <td>4</td>\n",
              "      <td>13</td>\n",
              "      <td>-9</td>\n",
              "      <td>3</td>\n",
              "      <td>3</td>\n",
              "      <td>0</td>\n",
              "      <td>0</td>\n",
              "      <td>0</td>\n",
              "      <td>0</td>\n",
              "      <td>1</td>\n",
              "      <td>0</td>\n",
              "      <td>0</td>\n",
              "      <td>0</td>\n",
              "      <td>0</td>\n",
              "      <td>...</td>\n",
              "      <td>0</td>\n",
              "      <td>0</td>\n",
              "      <td>0</td>\n",
              "      <td>0</td>\n",
              "      <td>0</td>\n",
              "      <td>0</td>\n",
              "      <td>0</td>\n",
              "      <td>0</td>\n",
              "      <td>1</td>\n",
              "      <td>0</td>\n",
              "      <td>0</td>\n",
              "      <td>0</td>\n",
              "      <td>0</td>\n",
              "      <td>0</td>\n",
              "      <td>0</td>\n",
              "      <td>0</td>\n",
              "      <td>0</td>\n",
              "      <td>0</td>\n",
              "      <td>0</td>\n",
              "      <td>0</td>\n",
              "      <td>0</td>\n",
              "      <td>0</td>\n",
              "      <td>0</td>\n",
              "      <td>0</td>\n",
              "      <td>0</td>\n",
              "      <td>0</td>\n",
              "      <td>0</td>\n",
              "      <td>0</td>\n",
              "      <td>0</td>\n",
              "      <td>0</td>\n",
              "      <td>0</td>\n",
              "      <td>0</td>\n",
              "      <td>0</td>\n",
              "      <td>0</td>\n",
              "      <td>0</td>\n",
              "      <td>0</td>\n",
              "      <td>0</td>\n",
              "      <td>0</td>\n",
              "      <td>0</td>\n",
              "      <td>0</td>\n",
              "    </tr>\n",
              "    <tr>\n",
              "      <th>3</th>\n",
              "      <td>1</td>\n",
              "      <td>0</td>\n",
              "      <td>1</td>\n",
              "      <td>train</td>\n",
              "      <td>0</td>\n",
              "      <td>0</td>\n",
              "      <td>0</td>\n",
              "      <td>0</td>\n",
              "      <td>0</td>\n",
              "      <td>0</td>\n",
              "      <td>0</td>\n",
              "      <td>0</td>\n",
              "      <td>0</td>\n",
              "      <td>0</td>\n",
              "      <td>0</td>\n",
              "      <td>0</td>\n",
              "      <td>0</td>\n",
              "      <td>0</td>\n",
              "      <td>0</td>\n",
              "      <td>0</td>\n",
              "      <td>0</td>\n",
              "      <td>0</td>\n",
              "      <td>0</td>\n",
              "      <td>10135</td>\n",
              "      <td>2154</td>\n",
              "      <td>26411</td>\n",
              "      <td>17</td>\n",
              "      <td>17</td>\n",
              "      <td>0</td>\n",
              "      <td>7</td>\n",
              "      <td>7</td>\n",
              "      <td>0</td>\n",
              "      <td>0</td>\n",
              "      <td>0</td>\n",
              "      <td>0</td>\n",
              "      <td>0</td>\n",
              "      <td>1</td>\n",
              "      <td>0</td>\n",
              "      <td>0</td>\n",
              "      <td>1</td>\n",
              "      <td>...</td>\n",
              "      <td>0</td>\n",
              "      <td>0</td>\n",
              "      <td>0</td>\n",
              "      <td>0</td>\n",
              "      <td>0</td>\n",
              "      <td>0</td>\n",
              "      <td>0</td>\n",
              "      <td>1</td>\n",
              "      <td>0</td>\n",
              "      <td>0</td>\n",
              "      <td>0</td>\n",
              "      <td>0</td>\n",
              "      <td>0</td>\n",
              "      <td>0</td>\n",
              "      <td>0</td>\n",
              "      <td>0</td>\n",
              "      <td>0</td>\n",
              "      <td>0</td>\n",
              "      <td>0</td>\n",
              "      <td>0</td>\n",
              "      <td>0</td>\n",
              "      <td>0</td>\n",
              "      <td>0</td>\n",
              "      <td>0</td>\n",
              "      <td>0</td>\n",
              "      <td>0</td>\n",
              "      <td>0</td>\n",
              "      <td>0</td>\n",
              "      <td>0</td>\n",
              "      <td>0</td>\n",
              "      <td>0</td>\n",
              "      <td>0</td>\n",
              "      <td>0</td>\n",
              "      <td>0</td>\n",
              "      <td>0</td>\n",
              "      <td>0</td>\n",
              "      <td>0</td>\n",
              "      <td>0</td>\n",
              "      <td>0</td>\n",
              "      <td>0</td>\n",
              "    </tr>\n",
              "    <tr>\n",
              "      <th>4</th>\n",
              "      <td>0</td>\n",
              "      <td>0</td>\n",
              "      <td>1</td>\n",
              "      <td>train</td>\n",
              "      <td>0</td>\n",
              "      <td>0</td>\n",
              "      <td>0</td>\n",
              "      <td>0</td>\n",
              "      <td>0</td>\n",
              "      <td>0</td>\n",
              "      <td>0</td>\n",
              "      <td>0</td>\n",
              "      <td>0</td>\n",
              "      <td>0</td>\n",
              "      <td>1</td>\n",
              "      <td>1</td>\n",
              "      <td>0</td>\n",
              "      <td>0</td>\n",
              "      <td>0</td>\n",
              "      <td>0</td>\n",
              "      <td>0</td>\n",
              "      <td>0</td>\n",
              "      <td>0</td>\n",
              "      <td>57342</td>\n",
              "      <td>2012</td>\n",
              "      <td>11787</td>\n",
              "      <td>28</td>\n",
              "      <td>20</td>\n",
              "      <td>8</td>\n",
              "      <td>11</td>\n",
              "      <td>11</td>\n",
              "      <td>0</td>\n",
              "      <td>0</td>\n",
              "      <td>0</td>\n",
              "      <td>0</td>\n",
              "      <td>0</td>\n",
              "      <td>1</td>\n",
              "      <td>0</td>\n",
              "      <td>0</td>\n",
              "      <td>1</td>\n",
              "      <td>...</td>\n",
              "      <td>0</td>\n",
              "      <td>0</td>\n",
              "      <td>0</td>\n",
              "      <td>0</td>\n",
              "      <td>0</td>\n",
              "      <td>0</td>\n",
              "      <td>0</td>\n",
              "      <td>1</td>\n",
              "      <td>0</td>\n",
              "      <td>0</td>\n",
              "      <td>0</td>\n",
              "      <td>0</td>\n",
              "      <td>0</td>\n",
              "      <td>0</td>\n",
              "      <td>0</td>\n",
              "      <td>0</td>\n",
              "      <td>0</td>\n",
              "      <td>0</td>\n",
              "      <td>0</td>\n",
              "      <td>0</td>\n",
              "      <td>0</td>\n",
              "      <td>0</td>\n",
              "      <td>0</td>\n",
              "      <td>0</td>\n",
              "      <td>0</td>\n",
              "      <td>0</td>\n",
              "      <td>0</td>\n",
              "      <td>0</td>\n",
              "      <td>0</td>\n",
              "      <td>0</td>\n",
              "      <td>0</td>\n",
              "      <td>0</td>\n",
              "      <td>0</td>\n",
              "      <td>0</td>\n",
              "      <td>0</td>\n",
              "      <td>0</td>\n",
              "      <td>0</td>\n",
              "      <td>0</td>\n",
              "      <td>0</td>\n",
              "      <td>0</td>\n",
              "    </tr>\n",
              "  </tbody>\n",
              "</table>\n",
              "<p>5 rows × 115 columns</p>\n",
              "</div>"
            ],
            "text/plain": [
              "   Consumer consent provided?  ...  Sub-issue_Problems when you are unable to pay\n",
              "0                           0  ...                                              0\n",
              "1                           0  ...                                              0\n",
              "2                           0  ...                                              0\n",
              "3                           1  ...                                              0\n",
              "4                           0  ...                                              0\n",
              "\n",
              "[5 rows x 115 columns]"
            ]
          },
          "metadata": {
            "tags": []
          },
          "execution_count": 48
        }
      ]
    },
    {
      "cell_type": "code",
      "metadata": {
        "id": "BTsAwdOlONVC",
        "colab_type": "code",
        "outputId": "dd5227aa-271a-44bd-8e17-cb905ca8b83a",
        "colab": {
          "base_uri": "https://localhost:8080/",
          "height": 35
        }
      },
      "source": [
        "file.shape"
      ],
      "execution_count": 0,
      "outputs": [
        {
          "output_type": "execute_result",
          "data": {
            "text/plain": [
              "(592050, 328)"
            ]
          },
          "metadata": {
            "tags": []
          },
          "execution_count": 175
        }
      ]
    },
    {
      "cell_type": "code",
      "metadata": {
        "id": "aPL9h2dWtzH8",
        "colab_type": "code",
        "outputId": "cab5dc9d-f27f-4ca2-bee4-e664ae034854",
        "colab": {
          "base_uri": "https://localhost:8080/",
          "height": 1000
        }
      },
      "source": [
        "file.dtypes"
      ],
      "execution_count": 0,
      "outputs": [
        {
          "output_type": "execute_result",
          "data": {
            "text/plain": [
              "Consumer consent provided?                             int64\n",
              "Consumer disputed?                                     int64\n",
              "Timely response?                                       int64\n",
              "data                                                  object\n",
              "Date_Sent_Day                                          int64\n",
              "Date_Received_Day                                      int64\n",
              "Date_Sent_Month                                        int64\n",
              "Date_Received_Month                                    int64\n",
              "Submitted via_Email                                    uint8\n",
              "Submitted via_Fax                                      uint8\n",
              "Submitted via_Phone                                    uint8\n",
              "Submitted via_Postal mail                              uint8\n",
              "Submitted via_Referral                                 uint8\n",
              "Submitted via_Web                                      uint8\n",
              "Product_Bank account or service                        uint8\n",
              "Product_Consumer Loan                                  uint8\n",
              "Product_Credit card                                    uint8\n",
              "Product_Credit reporting                               uint8\n",
              "Product_Debt collection                                uint8\n",
              "Product_Money transfers                                uint8\n",
              "Product_Mortgage                                       uint8\n",
              "Product_Other financial service                        uint8\n",
              "Product_Payday loan                                    uint8\n",
              "Product_Prepaid card                                   uint8\n",
              "Product_Student loan                                   uint8\n",
              "Product_Virtual currency                               uint8\n",
              "Tags_Older American                                    uint8\n",
              "Tags_Older American, Servicemember                     uint8\n",
              "Tags_Servicemember                                     uint8\n",
              "Tags_Unknown                                           uint8\n",
              "Company response to consumer_0                         uint8\n",
              "Company response to consumer_1                         uint8\n",
              "Company response to consumer_2                         uint8\n",
              "Sub-product_I do not know                              int64\n",
              "Sub-product_Other mortgage                             int64\n",
              "Sub-product_Conventional fixed mortgage                int64\n",
              "Sub-product_Checking account                           int64\n",
              "Sub-product_Other (i.e. phone, health club, etc.)      int64\n",
              "Sub-product_Credit card                                int64\n",
              "Sub-product_Conventional adjustable mortgage (ARM)     int64\n",
              "Sub-product_FHA mortgage                               int64\n",
              "Sub-product_Non-federal student loan                   int64\n",
              "Sub-product_Medical                                    int64\n",
              "Sub-product_Vehicle loan                               int64\n",
              "Sub-product_Other bank product/service                 int64\n",
              "Sub-product_Payday loan                                int64\n",
              "Sub-product_Home equity loan or line of credit         int64\n",
              "Sub-product_Installment loan                           int64\n",
              "Sub-product_Savings account                            int64\n",
              "Sub-product_VA mortgage                                int64\n",
              "Sub-product_Mortgage                                   int64\n",
              "Sub-product_(CD) Certificate of deposit                int64\n",
              "Sub-product_Auto                                       int64\n",
              "Sub-product_International money transfer               int64\n",
              "Sub-product_Domestic (US) money transfer               int64\n",
              "Sub-product_Federal student loan                       int64\n",
              "Sub-product_Vehicle lease                              int64\n",
              "Sub-product_Federal student loan servicing             int64\n",
              "Sub-product_Reverse mortgage                           int64\n",
              "Sub-issue_No Sub-issue                                 int64\n",
              "Sub-issue_Account status                               int64\n",
              "Sub-issue_Debt is not mine                             int64\n",
              "Sub-issue_Information is not mine                      int64\n",
              "Sub-issue_Not given enough info to verify debt         int64\n",
              "Sub-issue_Debt was paid                                int64\n",
              "Sub-issue_Frequent or repeated calls                   int64\n",
              "Sub-issue_Account terms                                int64\n",
              "Sub-issue_Attempted to collect wrong amount            int64\n",
              "Sub-issue_Public record                                int64\n",
              "Sub-issue_Problem getting my free annual report        int64\n",
              "Sub-issue_Personal information                         int64\n",
              "Sub-issue_Right to dispute notice not received         int64\n",
              "Sub-issue_Problem with statement of dispute            int64\n",
              "Sub-issue_No notice of investigation status/result     int64\n",
              "Sub-issue_Report improperly shared by CRC              int64\n",
              "Sub-issue_Repaying your loan                           int64\n",
              "Sub-issue_Talked to a third party about my debt        int64\n",
              "Sub-issue_Threatened to take legal action              int64\n",
              "Sub-issue_Problem getting report or credit score       int64\n",
              "Sub-issue_Debt resulted from identity theft            int64\n",
              "Sub-issue_Reinserted previously deleted info           int64\n",
              "Sub-issue_Trouble with how payments are handled        int64\n",
              "Sub-issue_Contacted me after I asked not to            int64\n",
              "Sub-issue_Threatened to sue on too old debt            int64\n",
              "Sub-issue_Can't decrease my monthly payments           int64\n",
              "Sub-issue_Debt was discharged in bankruptcy            int64\n",
              "Sub-issue_Can't get flexible payment options           int64\n",
              "Sub-issue_Charged fees or interest I didn't expect     int64\n",
              "Sub-issue_Threatened arrest/jail if do not pay         int64\n",
              "Sub-issue_Contacted employer after asked not to        int64\n",
              "Sub-issue_Investigation took too long                  int64\n",
              "Sub-issue_Problems when you are unable to pay          int64\n",
              "Issue_Loan modification,collection,foreclosure         int64\n",
              "Issue_Incorrect information on credit report           int64\n",
              "Issue_Loan servicing, payments, escrow account         int64\n",
              "Issue_Cont'd attempts collect debt not owed            int64\n",
              "Issue_Account opening, closing, or management          int64\n",
              "Issue_Disclosure verification of debt                  int64\n",
              "Issue_Communication tactics                            int64\n",
              "Issue_Deposits and withdrawals                         int64\n",
              "Issue_Application, originator, mortgage broker         int64\n",
              "Issue_Billing disputes                                 int64\n",
              "Issue_Other                                            int64\n",
              "Issue_Credit reporting company's investigation         int64\n",
              "Issue_Managing the loan or lease                       int64\n",
              "Issue_Problems caused by my funds being low            int64\n",
              "Issue_Unable to get credit report/credit score         int64\n",
              "Issue_False statements or representation               int64\n",
              "Issue_Dealing with my lender or servicer               int64\n",
              "Issue_Improper contact or sharing of info              int64\n",
              "Issue_Problems when you are unable to pay              int64\n",
              "Issue_Settlement process and costs                     int64\n",
              "Issue_Taking/threatening an illegal action             int64\n",
              "Issue_Identity theft / Fraud / Embezzlement            int64\n",
              "Issue_Making/receiving payments, sending money         int64\n",
              "Issue_Closing/Cancelling account                       int64\n",
              "Issue_APR or interest rate                             int64\n",
              "Issue_Using a debit or ATM card                        int64\n",
              "Issue_Credit decision / Underwriting                   int64\n",
              "Issue_Can't repay my loan                              int64\n",
              "Issue_Improper use of my credit report                 int64\n",
              "Issue_Repaying your loan                               int64\n",
              "Issue_Credit monitoring or identity protection         int64\n",
              "Issue_Taking out the loan or lease                     int64\n",
              "Issue_Late fee                                         int64\n",
              "Issue_Customer service / Customer relations            int64\n",
              "Issue_Delinquent account                               int64\n",
              "Issue_Credit determination                             int64\n",
              "Issue_Advertising and marketing                        int64\n",
              "Issue_Fraud or scam                                    int64\n",
              "Issue_Billing statement                                int64\n",
              "Issue_Credit card protection / Debt protection         int64\n",
              "Issue_Rewards                                          int64\n",
              "Issue_Transaction issue                                int64\n",
              "Issue_Charged fees or interest I didn't expect         int64\n",
              "Issue_Payoff process                                   int64\n",
              "Issue_Credit line increase/decrease                    int64\n",
              "Issue_Other fee                                        int64\n",
              "State_CA                                               int64\n",
              "State_FL                                               int64\n",
              "State_TX                                               int64\n",
              "State_NY                                               int64\n",
              "State_GA                                               int64\n",
              "State_NJ                                               int64\n",
              "State_PA                                               int64\n",
              "State_IL                                               int64\n",
              "State_VA                                               int64\n",
              "State_MD                                               int64\n",
              "State_OH                                               int64\n",
              "State_NC                                               int64\n",
              "State_MI                                               int64\n",
              "State_AZ                                               int64\n",
              "State_WA                                               int64\n",
              "State_MA                                               int64\n",
              "State_CO                                               int64\n",
              "State_TN                                               int64\n",
              "State_MO                                               int64\n",
              "State_SC                                               int64\n",
              "State_NV                                               int64\n",
              "State_OR                                               int64\n",
              "State_MN                                               int64\n",
              "State_CT                                               int64\n",
              "State_IN                                               int64\n",
              "State_WI                                               int64\n",
              "State_AL                                               int64\n",
              "State_LA                                               int64\n",
              "State_KY                                               int64\n",
              "State_OK                                               int64\n",
              "State_DC                                               int64\n",
              "State_UT                                               int64\n",
              "State_DE                                               int64\n",
              "State_NM                                               int64\n",
              "State_NH                                               int64\n",
              "State_KS                                               int64\n",
              "State_MS                                               int64\n",
              "State_AR                                               int64\n",
              "State_IA                                               int64\n",
              "State_HI                                               int64\n",
              "State_ID                                               int64\n",
              "State_ME                                               int64\n",
              "State_RI                                               int64\n",
              "State_NE                                               int64\n",
              "Company_Bank of America                                int64\n",
              "Company_Wells Fargo & Company                          int64\n",
              "Company_JPMorgan Chase & Co.                           int64\n",
              "Company_Equifax                                        int64\n",
              "Company_Experian                                       int64\n",
              "Company_TransUnion Intermediate Holdings, Inc.         int64\n",
              "Company_Citibank                                       int64\n",
              "Company_Ocwen                                          int64\n",
              "Company_Capital One                                    int64\n",
              "Company_Nationstar Mortgage                            int64\n",
              "Company_Synchrony Financial                            int64\n",
              "Company_U.S. Bancorp                                   int64\n",
              "Company_Ditech Financial LLC                           int64\n",
              "Company_Navient Solutions, Inc.                        int64\n",
              "Company_PNC Bank N.A.                                  int64\n",
              "Company_Encore Capital Group                           int64\n",
              "Company_Amex                                           int64\n",
              "Company_HSBC North America Holdings Inc.               int64\n",
              "Company_SunTrust Banks, Inc.                           int64\n",
              "Company_Discover                                       int64\n",
              "Company_TD Bank US Holding Company                     int64\n",
              "Company_Select Portfolio Servicing, Inc                int64\n",
              "Company_Portfolio Recovery Associates, Inc.            int64\n",
              "Company_Citizens Financial Group, Inc.                 int64\n",
              "Company_Fifth Third Financial Corporation              int64\n",
              "Company_Seterus, Inc.                                  int64\n",
              "Company_Barclays PLC                                   int64\n",
              "Company_ERC                                            int64\n",
              "Company_BB&T Financial                                 int64\n",
              "Company_M&T Bank Corporation                           int64\n",
              "Company_PayPal Holdings, Inc.                          int64\n",
              "Company_Ally Financial Inc.                            int64\n",
              "Company_USAA Savings                                   int64\n",
              "Company_Specialized Loan Servicing LLC                 int64\n",
              "Company_Regions Financial Corporation                  int64\n",
              "Company_AES/PHEAA                                      int64\n",
              "Company_Santander Consumer USA Holdings Inc            int64\n",
              "Company_Santander Bank US                              int64\n",
              "Company_Resurgent Capital Services L.P.                int64\n",
              "Company_Flagstar Bank                                  int64\n",
              "Company_Expert Global Solutions, Inc.                  int64\n",
              "Company_Caliber Home Loans, Inc                        int64\n",
              "Company_Transworld Systems Inc.                        int64\n",
              "Company_Navy FCU                                       int64\n",
              "Company_PHH Mortgage                                   int64\n",
              "dtype: object"
            ]
          },
          "metadata": {
            "tags": []
          },
          "execution_count": 123
        }
      ]
    },
    {
      "cell_type": "markdown",
      "metadata": {
        "id": "aWTjIf3_OST6",
        "colab_type": "text"
      },
      "source": [
        "# Training the model"
      ]
    },
    {
      "cell_type": "code",
      "metadata": {
        "id": "dgMzp71isfBx",
        "colab_type": "code",
        "colab": {}
      },
      "source": [
        "train_data = file[file['data'] == 'train']\n",
        "test_data = file[file['data'] == 'test']\n",
        "\n",
        "train_data.drop(columns='data', axis=1, inplace=True)\n",
        "test_data.drop(columns=['data', 'Consumer disputed?'], axis=1, inplace = True)"
      ],
      "execution_count": 0,
      "outputs": []
    },
    {
      "cell_type": "code",
      "metadata": {
        "id": "556DVsvIsq9i",
        "colab_type": "code",
        "colab": {}
      },
      "source": [
        "X = train_data.drop(columns=['Consumer disputed?'])\n",
        "y = train_data['Consumer disputed?']"
      ],
      "execution_count": 0,
      "outputs": []
    },
    {
      "cell_type": "code",
      "metadata": {
        "id": "5XuX1gJWsr1y",
        "colab_type": "code",
        "colab": {}
      },
      "source": [
        "X_train, X_test, Y_train, Y_test = train_test_split(X, y,test_size=0.2,random_state=10)"
      ],
      "execution_count": 0,
      "outputs": []
    },
    {
      "cell_type": "code",
      "metadata": {
        "id": "ZUHmOYv3o2bb",
        "colab_type": "code",
        "outputId": "910d1a20-9900-4087-c906-6c99c793ecae",
        "colab": {
          "base_uri": "https://localhost:8080/",
          "height": 35
        }
      },
      "source": [
        "X_train.shape"
      ],
      "execution_count": 0,
      "outputs": [
        {
          "output_type": "execute_result",
          "data": {
            "text/plain": [
              "(377955, 322)"
            ]
          },
          "metadata": {
            "tags": []
          },
          "execution_count": 184
        }
      ]
    },
    {
      "cell_type": "code",
      "metadata": {
        "id": "DPDGu-2Ss-ri",
        "colab_type": "code",
        "colab": {}
      },
      "source": [
        "from sklearn.preprocessing import StandardScaler\n",
        "scaler = StandardScaler()\n",
        "scaler.fit(X_train)\n",
        "X_train = scaler.transform(X_train)\n",
        "scaler.fit(X_test)\n",
        "X_test = scaler.transform(X_test)"
      ],
      "execution_count": 0,
      "outputs": []
    },
    {
      "cell_type": "markdown",
      "metadata": {
        "id": "WlX70xuZ1LRC",
        "colab_type": "text"
      },
      "source": [
        "# Logistic Regression"
      ]
    },
    {
      "cell_type": "code",
      "metadata": {
        "id": "8oaKb9gGsuV4",
        "colab_type": "code",
        "colab": {}
      },
      "source": [
        "from sklearn.linear_model import LogisticRegression\n",
        "from sklearn.metrics import roc_auc_score\n",
        "params={'class_weight':['balanced',None],\n",
        "        'penalty':['l1','l2'],\n",
        "        'C':[0.01,0.1,1]}"
      ],
      "execution_count": 0,
      "outputs": []
    },
    {
      "cell_type": "code",
      "metadata": {
        "id": "R1utNypls4pw",
        "colab_type": "code",
        "colab": {}
      },
      "source": [
        "from sklearn.model_selection import GridSearchCV\n",
        "model=LogisticRegression(fit_intercept=True)\n",
        "grid_search=GridSearchCV(model,param_grid=params,cv=3,scoring=\"roc_auc\",verbose=4)"
      ],
      "execution_count": 0,
      "outputs": []
    },
    {
      "cell_type": "code",
      "metadata": {
        "id": "0AQFd7uMy5cF",
        "colab_type": "code",
        "outputId": "4016a022-3447-4f94-c6e4-d7980a00908e",
        "colab": {
          "base_uri": "https://localhost:8080/",
          "height": 1000
        }
      },
      "source": [
        "grid_search.fit(X=X_train, y=Y_train)"
      ],
      "execution_count": 0,
      "outputs": [
        {
          "output_type": "stream",
          "text": [
            "Fitting 3 folds for each of 12 candidates, totalling 36 fits\n",
            "[CV] C=0.01, class_weight=balanced, penalty=l1 .......................\n"
          ],
          "name": "stdout"
        },
        {
          "output_type": "stream",
          "text": [
            "[Parallel(n_jobs=1)]: Using backend SequentialBackend with 1 concurrent workers.\n"
          ],
          "name": "stderr"
        },
        {
          "output_type": "stream",
          "text": [
            "[CV]  C=0.01, class_weight=balanced, penalty=l1, score=0.615, total=   5.3s\n",
            "[CV] C=0.01, class_weight=balanced, penalty=l1 .......................\n"
          ],
          "name": "stdout"
        },
        {
          "output_type": "stream",
          "text": [
            "[Parallel(n_jobs=1)]: Done   1 out of   1 | elapsed:    5.3s remaining:    0.0s\n"
          ],
          "name": "stderr"
        },
        {
          "output_type": "stream",
          "text": [
            "[CV]  C=0.01, class_weight=balanced, penalty=l1, score=0.613, total=   4.3s\n",
            "[CV] C=0.01, class_weight=balanced, penalty=l1 .......................\n"
          ],
          "name": "stdout"
        },
        {
          "output_type": "stream",
          "text": [
            "[Parallel(n_jobs=1)]: Done   2 out of   2 | elapsed:    9.6s remaining:    0.0s\n"
          ],
          "name": "stderr"
        },
        {
          "output_type": "stream",
          "text": [
            "[CV]  C=0.01, class_weight=balanced, penalty=l1, score=0.614, total=   7.7s\n",
            "[CV] C=0.01, class_weight=balanced, penalty=l2 .......................\n"
          ],
          "name": "stdout"
        },
        {
          "output_type": "stream",
          "text": [
            "[Parallel(n_jobs=1)]: Done   3 out of   3 | elapsed:   17.3s remaining:    0.0s\n"
          ],
          "name": "stderr"
        },
        {
          "output_type": "stream",
          "text": [
            "[CV]  C=0.01, class_weight=balanced, penalty=l2, score=0.619, total=   7.0s\n",
            "[CV] C=0.01, class_weight=balanced, penalty=l2 .......................\n",
            "[CV]  C=0.01, class_weight=balanced, penalty=l2, score=0.615, total=   7.4s\n",
            "[CV] C=0.01, class_weight=balanced, penalty=l2 .......................\n",
            "[CV]  C=0.01, class_weight=balanced, penalty=l2, score=0.616, total=   5.2s\n",
            "[CV] C=0.01, class_weight=None, penalty=l1 ...........................\n",
            "[CV]  C=0.01, class_weight=None, penalty=l1, score=0.613, total=   6.5s\n",
            "[CV] C=0.01, class_weight=None, penalty=l1 ...........................\n",
            "[CV]  C=0.01, class_weight=None, penalty=l1, score=0.611, total=   2.0s\n",
            "[CV] C=0.01, class_weight=None, penalty=l1 ...........................\n",
            "[CV]  C=0.01, class_weight=None, penalty=l1, score=0.612, total=   8.5s\n",
            "[CV] C=0.01, class_weight=None, penalty=l2 ...........................\n",
            "[CV]  C=0.01, class_weight=None, penalty=l2, score=0.493, total=   2.7s\n",
            "[CV] C=0.01, class_weight=None, penalty=l2 ...........................\n",
            "[CV]  C=0.01, class_weight=None, penalty=l2, score=0.499, total=   2.5s\n",
            "[CV] C=0.01, class_weight=None, penalty=l2 ...........................\n",
            "[CV]  C=0.01, class_weight=None, penalty=l2, score=0.494, total=   2.1s\n",
            "[CV] C=0.1, class_weight=balanced, penalty=l1 ........................\n",
            "[CV]  C=0.1, class_weight=balanced, penalty=l1, score=0.619, total=  31.8s\n",
            "[CV] C=0.1, class_weight=balanced, penalty=l1 ........................\n",
            "[CV]  C=0.1, class_weight=balanced, penalty=l1, score=0.615, total=  23.1s\n",
            "[CV] C=0.1, class_weight=balanced, penalty=l1 ........................\n",
            "[CV]  C=0.1, class_weight=balanced, penalty=l1, score=0.618, total=  51.7s\n",
            "[CV] C=0.1, class_weight=balanced, penalty=l2 ........................\n",
            "[CV]  C=0.1, class_weight=balanced, penalty=l2, score=0.618, total=   5.2s\n",
            "[CV] C=0.1, class_weight=balanced, penalty=l2 ........................\n",
            "[CV]  C=0.1, class_weight=balanced, penalty=l2, score=0.615, total=   8.2s\n",
            "[CV] C=0.1, class_weight=balanced, penalty=l2 ........................\n",
            "[CV]  C=0.1, class_weight=balanced, penalty=l2, score=0.617, total=   7.3s\n",
            "[CV] C=0.1, class_weight=None, penalty=l1 ............................\n",
            "[CV]  C=0.1, class_weight=None, penalty=l1, score=0.619, total=  25.2s\n",
            "[CV] C=0.1, class_weight=None, penalty=l1 ............................\n",
            "[CV]  C=0.1, class_weight=None, penalty=l1, score=0.615, total=   5.9s\n",
            "[CV] C=0.1, class_weight=None, penalty=l1 ............................\n",
            "[CV]  C=0.1, class_weight=None, penalty=l1, score=0.618, total=   9.8s\n",
            "[CV] C=0.1, class_weight=None, penalty=l2 ............................\n",
            "[CV]  C=0.1, class_weight=None, penalty=l2, score=0.493, total=   2.7s\n",
            "[CV] C=0.1, class_weight=None, penalty=l2 ............................\n",
            "[CV]  C=0.1, class_weight=None, penalty=l2, score=0.499, total=   2.6s\n",
            "[CV] C=0.1, class_weight=None, penalty=l2 ............................\n",
            "[CV]  C=0.1, class_weight=None, penalty=l2, score=0.494, total=   2.1s\n",
            "[CV] C=1, class_weight=balanced, penalty=l1 ..........................\n",
            "[CV]  C=1, class_weight=balanced, penalty=l1, score=0.619, total= 1.0min\n",
            "[CV] C=1, class_weight=balanced, penalty=l1 ..........................\n",
            "[CV]  C=1, class_weight=balanced, penalty=l1, score=0.615, total= 1.6min\n",
            "[CV] C=1, class_weight=balanced, penalty=l1 ..........................\n"
          ],
          "name": "stdout"
        },
        {
          "output_type": "error",
          "ename": "KeyboardInterrupt",
          "evalue": "ignored",
          "traceback": [
            "\u001b[0;31m---------------------------------------------------------------------------\u001b[0m",
            "\u001b[0;31mKeyboardInterrupt\u001b[0m                         Traceback (most recent call last)",
            "\u001b[0;32m<ipython-input-56-41bfcf442b57>\u001b[0m in \u001b[0;36m<module>\u001b[0;34m()\u001b[0m\n\u001b[0;32m----> 1\u001b[0;31m \u001b[0mgrid_search\u001b[0m\u001b[0;34m.\u001b[0m\u001b[0mfit\u001b[0m\u001b[0;34m(\u001b[0m\u001b[0mX\u001b[0m\u001b[0;34m=\u001b[0m\u001b[0mX_train\u001b[0m\u001b[0;34m,\u001b[0m \u001b[0my\u001b[0m\u001b[0;34m=\u001b[0m\u001b[0mY_train\u001b[0m\u001b[0;34m)\u001b[0m\u001b[0;34m\u001b[0m\u001b[0;34m\u001b[0m\u001b[0m\n\u001b[0m",
            "\u001b[0;32m/usr/local/lib/python3.6/dist-packages/sklearn/model_selection/_search.py\u001b[0m in \u001b[0;36mfit\u001b[0;34m(self, X, y, groups, **fit_params)\u001b[0m\n\u001b[1;32m    686\u001b[0m                 \u001b[0;32mreturn\u001b[0m \u001b[0mresults\u001b[0m\u001b[0;34m\u001b[0m\u001b[0;34m\u001b[0m\u001b[0m\n\u001b[1;32m    687\u001b[0m \u001b[0;34m\u001b[0m\u001b[0m\n\u001b[0;32m--> 688\u001b[0;31m             \u001b[0mself\u001b[0m\u001b[0;34m.\u001b[0m\u001b[0m_run_search\u001b[0m\u001b[0;34m(\u001b[0m\u001b[0mevaluate_candidates\u001b[0m\u001b[0;34m)\u001b[0m\u001b[0;34m\u001b[0m\u001b[0;34m\u001b[0m\u001b[0m\n\u001b[0m\u001b[1;32m    689\u001b[0m \u001b[0;34m\u001b[0m\u001b[0m\n\u001b[1;32m    690\u001b[0m         \u001b[0;31m# For multi-metric evaluation, store the best_index_, best_params_ and\u001b[0m\u001b[0;34m\u001b[0m\u001b[0;34m\u001b[0m\u001b[0;34m\u001b[0m\u001b[0m\n",
            "\u001b[0;32m/usr/local/lib/python3.6/dist-packages/sklearn/model_selection/_search.py\u001b[0m in \u001b[0;36m_run_search\u001b[0;34m(self, evaluate_candidates)\u001b[0m\n\u001b[1;32m   1147\u001b[0m     \u001b[0;32mdef\u001b[0m \u001b[0m_run_search\u001b[0m\u001b[0;34m(\u001b[0m\u001b[0mself\u001b[0m\u001b[0;34m,\u001b[0m \u001b[0mevaluate_candidates\u001b[0m\u001b[0;34m)\u001b[0m\u001b[0;34m:\u001b[0m\u001b[0;34m\u001b[0m\u001b[0;34m\u001b[0m\u001b[0m\n\u001b[1;32m   1148\u001b[0m         \u001b[0;34m\"\"\"Search all candidates in param_grid\"\"\"\u001b[0m\u001b[0;34m\u001b[0m\u001b[0;34m\u001b[0m\u001b[0m\n\u001b[0;32m-> 1149\u001b[0;31m         \u001b[0mevaluate_candidates\u001b[0m\u001b[0;34m(\u001b[0m\u001b[0mParameterGrid\u001b[0m\u001b[0;34m(\u001b[0m\u001b[0mself\u001b[0m\u001b[0;34m.\u001b[0m\u001b[0mparam_grid\u001b[0m\u001b[0;34m)\u001b[0m\u001b[0;34m)\u001b[0m\u001b[0;34m\u001b[0m\u001b[0;34m\u001b[0m\u001b[0m\n\u001b[0m\u001b[1;32m   1150\u001b[0m \u001b[0;34m\u001b[0m\u001b[0m\n\u001b[1;32m   1151\u001b[0m \u001b[0;34m\u001b[0m\u001b[0m\n",
            "\u001b[0;32m/usr/local/lib/python3.6/dist-packages/sklearn/model_selection/_search.py\u001b[0m in \u001b[0;36mevaluate_candidates\u001b[0;34m(candidate_params)\u001b[0m\n\u001b[1;32m    665\u001b[0m                                \u001b[0;32mfor\u001b[0m \u001b[0mparameters\u001b[0m\u001b[0;34m,\u001b[0m \u001b[0;34m(\u001b[0m\u001b[0mtrain\u001b[0m\u001b[0;34m,\u001b[0m \u001b[0mtest\u001b[0m\u001b[0;34m)\u001b[0m\u001b[0;34m\u001b[0m\u001b[0;34m\u001b[0m\u001b[0m\n\u001b[1;32m    666\u001b[0m                                in product(candidate_params,\n\u001b[0;32m--> 667\u001b[0;31m                                           cv.split(X, y, groups)))\n\u001b[0m\u001b[1;32m    668\u001b[0m \u001b[0;34m\u001b[0m\u001b[0m\n\u001b[1;32m    669\u001b[0m                 \u001b[0;32mif\u001b[0m \u001b[0mlen\u001b[0m\u001b[0;34m(\u001b[0m\u001b[0mout\u001b[0m\u001b[0;34m)\u001b[0m \u001b[0;34m<\u001b[0m \u001b[0;36m1\u001b[0m\u001b[0;34m:\u001b[0m\u001b[0;34m\u001b[0m\u001b[0;34m\u001b[0m\u001b[0m\n",
            "\u001b[0;32m/usr/local/lib/python3.6/dist-packages/joblib/parallel.py\u001b[0m in \u001b[0;36m__call__\u001b[0;34m(self, iterable)\u001b[0m\n\u001b[1;32m   1005\u001b[0m                 \u001b[0mself\u001b[0m\u001b[0;34m.\u001b[0m\u001b[0m_iterating\u001b[0m \u001b[0;34m=\u001b[0m \u001b[0mself\u001b[0m\u001b[0;34m.\u001b[0m\u001b[0m_original_iterator\u001b[0m \u001b[0;32mis\u001b[0m \u001b[0;32mnot\u001b[0m \u001b[0;32mNone\u001b[0m\u001b[0;34m\u001b[0m\u001b[0;34m\u001b[0m\u001b[0m\n\u001b[1;32m   1006\u001b[0m \u001b[0;34m\u001b[0m\u001b[0m\n\u001b[0;32m-> 1007\u001b[0;31m             \u001b[0;32mwhile\u001b[0m \u001b[0mself\u001b[0m\u001b[0;34m.\u001b[0m\u001b[0mdispatch_one_batch\u001b[0m\u001b[0;34m(\u001b[0m\u001b[0miterator\u001b[0m\u001b[0;34m)\u001b[0m\u001b[0;34m:\u001b[0m\u001b[0;34m\u001b[0m\u001b[0;34m\u001b[0m\u001b[0m\n\u001b[0m\u001b[1;32m   1008\u001b[0m                 \u001b[0;32mpass\u001b[0m\u001b[0;34m\u001b[0m\u001b[0;34m\u001b[0m\u001b[0m\n\u001b[1;32m   1009\u001b[0m \u001b[0;34m\u001b[0m\u001b[0m\n",
            "\u001b[0;32m/usr/local/lib/python3.6/dist-packages/joblib/parallel.py\u001b[0m in \u001b[0;36mdispatch_one_batch\u001b[0;34m(self, iterator)\u001b[0m\n\u001b[1;32m    833\u001b[0m                 \u001b[0;32mreturn\u001b[0m \u001b[0;32mFalse\u001b[0m\u001b[0;34m\u001b[0m\u001b[0;34m\u001b[0m\u001b[0m\n\u001b[1;32m    834\u001b[0m             \u001b[0;32melse\u001b[0m\u001b[0;34m:\u001b[0m\u001b[0;34m\u001b[0m\u001b[0;34m\u001b[0m\u001b[0m\n\u001b[0;32m--> 835\u001b[0;31m                 \u001b[0mself\u001b[0m\u001b[0;34m.\u001b[0m\u001b[0m_dispatch\u001b[0m\u001b[0;34m(\u001b[0m\u001b[0mtasks\u001b[0m\u001b[0;34m)\u001b[0m\u001b[0;34m\u001b[0m\u001b[0;34m\u001b[0m\u001b[0m\n\u001b[0m\u001b[1;32m    836\u001b[0m                 \u001b[0;32mreturn\u001b[0m \u001b[0;32mTrue\u001b[0m\u001b[0;34m\u001b[0m\u001b[0;34m\u001b[0m\u001b[0m\n\u001b[1;32m    837\u001b[0m \u001b[0;34m\u001b[0m\u001b[0m\n",
            "\u001b[0;32m/usr/local/lib/python3.6/dist-packages/joblib/parallel.py\u001b[0m in \u001b[0;36m_dispatch\u001b[0;34m(self, batch)\u001b[0m\n\u001b[1;32m    752\u001b[0m         \u001b[0;32mwith\u001b[0m \u001b[0mself\u001b[0m\u001b[0;34m.\u001b[0m\u001b[0m_lock\u001b[0m\u001b[0;34m:\u001b[0m\u001b[0;34m\u001b[0m\u001b[0;34m\u001b[0m\u001b[0m\n\u001b[1;32m    753\u001b[0m             \u001b[0mjob_idx\u001b[0m \u001b[0;34m=\u001b[0m \u001b[0mlen\u001b[0m\u001b[0;34m(\u001b[0m\u001b[0mself\u001b[0m\u001b[0;34m.\u001b[0m\u001b[0m_jobs\u001b[0m\u001b[0;34m)\u001b[0m\u001b[0;34m\u001b[0m\u001b[0;34m\u001b[0m\u001b[0m\n\u001b[0;32m--> 754\u001b[0;31m             \u001b[0mjob\u001b[0m \u001b[0;34m=\u001b[0m \u001b[0mself\u001b[0m\u001b[0;34m.\u001b[0m\u001b[0m_backend\u001b[0m\u001b[0;34m.\u001b[0m\u001b[0mapply_async\u001b[0m\u001b[0;34m(\u001b[0m\u001b[0mbatch\u001b[0m\u001b[0;34m,\u001b[0m \u001b[0mcallback\u001b[0m\u001b[0;34m=\u001b[0m\u001b[0mcb\u001b[0m\u001b[0;34m)\u001b[0m\u001b[0;34m\u001b[0m\u001b[0;34m\u001b[0m\u001b[0m\n\u001b[0m\u001b[1;32m    755\u001b[0m             \u001b[0;31m# A job can complete so quickly than its callback is\u001b[0m\u001b[0;34m\u001b[0m\u001b[0;34m\u001b[0m\u001b[0;34m\u001b[0m\u001b[0m\n\u001b[1;32m    756\u001b[0m             \u001b[0;31m# called before we get here, causing self._jobs to\u001b[0m\u001b[0;34m\u001b[0m\u001b[0;34m\u001b[0m\u001b[0;34m\u001b[0m\u001b[0m\n",
            "\u001b[0;32m/usr/local/lib/python3.6/dist-packages/joblib/_parallel_backends.py\u001b[0m in \u001b[0;36mapply_async\u001b[0;34m(self, func, callback)\u001b[0m\n\u001b[1;32m    207\u001b[0m     \u001b[0;32mdef\u001b[0m \u001b[0mapply_async\u001b[0m\u001b[0;34m(\u001b[0m\u001b[0mself\u001b[0m\u001b[0;34m,\u001b[0m \u001b[0mfunc\u001b[0m\u001b[0;34m,\u001b[0m \u001b[0mcallback\u001b[0m\u001b[0;34m=\u001b[0m\u001b[0;32mNone\u001b[0m\u001b[0;34m)\u001b[0m\u001b[0;34m:\u001b[0m\u001b[0;34m\u001b[0m\u001b[0;34m\u001b[0m\u001b[0m\n\u001b[1;32m    208\u001b[0m         \u001b[0;34m\"\"\"Schedule a func to be run\"\"\"\u001b[0m\u001b[0;34m\u001b[0m\u001b[0;34m\u001b[0m\u001b[0m\n\u001b[0;32m--> 209\u001b[0;31m         \u001b[0mresult\u001b[0m \u001b[0;34m=\u001b[0m \u001b[0mImmediateResult\u001b[0m\u001b[0;34m(\u001b[0m\u001b[0mfunc\u001b[0m\u001b[0;34m)\u001b[0m\u001b[0;34m\u001b[0m\u001b[0;34m\u001b[0m\u001b[0m\n\u001b[0m\u001b[1;32m    210\u001b[0m         \u001b[0;32mif\u001b[0m \u001b[0mcallback\u001b[0m\u001b[0;34m:\u001b[0m\u001b[0;34m\u001b[0m\u001b[0;34m\u001b[0m\u001b[0m\n\u001b[1;32m    211\u001b[0m             \u001b[0mcallback\u001b[0m\u001b[0;34m(\u001b[0m\u001b[0mresult\u001b[0m\u001b[0;34m)\u001b[0m\u001b[0;34m\u001b[0m\u001b[0;34m\u001b[0m\u001b[0m\n",
            "\u001b[0;32m/usr/local/lib/python3.6/dist-packages/joblib/_parallel_backends.py\u001b[0m in \u001b[0;36m__init__\u001b[0;34m(self, batch)\u001b[0m\n\u001b[1;32m    588\u001b[0m         \u001b[0;31m# Don't delay the application, to avoid keeping the input\u001b[0m\u001b[0;34m\u001b[0m\u001b[0;34m\u001b[0m\u001b[0;34m\u001b[0m\u001b[0m\n\u001b[1;32m    589\u001b[0m         \u001b[0;31m# arguments in memory\u001b[0m\u001b[0;34m\u001b[0m\u001b[0;34m\u001b[0m\u001b[0;34m\u001b[0m\u001b[0m\n\u001b[0;32m--> 590\u001b[0;31m         \u001b[0mself\u001b[0m\u001b[0;34m.\u001b[0m\u001b[0mresults\u001b[0m \u001b[0;34m=\u001b[0m \u001b[0mbatch\u001b[0m\u001b[0;34m(\u001b[0m\u001b[0;34m)\u001b[0m\u001b[0;34m\u001b[0m\u001b[0;34m\u001b[0m\u001b[0m\n\u001b[0m\u001b[1;32m    591\u001b[0m \u001b[0;34m\u001b[0m\u001b[0m\n\u001b[1;32m    592\u001b[0m     \u001b[0;32mdef\u001b[0m \u001b[0mget\u001b[0m\u001b[0;34m(\u001b[0m\u001b[0mself\u001b[0m\u001b[0;34m)\u001b[0m\u001b[0;34m:\u001b[0m\u001b[0;34m\u001b[0m\u001b[0;34m\u001b[0m\u001b[0m\n",
            "\u001b[0;32m/usr/local/lib/python3.6/dist-packages/joblib/parallel.py\u001b[0m in \u001b[0;36m__call__\u001b[0;34m(self)\u001b[0m\n\u001b[1;32m    254\u001b[0m         \u001b[0;32mwith\u001b[0m \u001b[0mparallel_backend\u001b[0m\u001b[0;34m(\u001b[0m\u001b[0mself\u001b[0m\u001b[0;34m.\u001b[0m\u001b[0m_backend\u001b[0m\u001b[0;34m,\u001b[0m \u001b[0mn_jobs\u001b[0m\u001b[0;34m=\u001b[0m\u001b[0mself\u001b[0m\u001b[0;34m.\u001b[0m\u001b[0m_n_jobs\u001b[0m\u001b[0;34m)\u001b[0m\u001b[0;34m:\u001b[0m\u001b[0;34m\u001b[0m\u001b[0;34m\u001b[0m\u001b[0m\n\u001b[1;32m    255\u001b[0m             return [func(*args, **kwargs)\n\u001b[0;32m--> 256\u001b[0;31m                     for func, args, kwargs in self.items]\n\u001b[0m\u001b[1;32m    257\u001b[0m \u001b[0;34m\u001b[0m\u001b[0m\n\u001b[1;32m    258\u001b[0m     \u001b[0;32mdef\u001b[0m \u001b[0m__len__\u001b[0m\u001b[0;34m(\u001b[0m\u001b[0mself\u001b[0m\u001b[0;34m)\u001b[0m\u001b[0;34m:\u001b[0m\u001b[0;34m\u001b[0m\u001b[0;34m\u001b[0m\u001b[0m\n",
            "\u001b[0;32m/usr/local/lib/python3.6/dist-packages/joblib/parallel.py\u001b[0m in \u001b[0;36m<listcomp>\u001b[0;34m(.0)\u001b[0m\n\u001b[1;32m    254\u001b[0m         \u001b[0;32mwith\u001b[0m \u001b[0mparallel_backend\u001b[0m\u001b[0;34m(\u001b[0m\u001b[0mself\u001b[0m\u001b[0;34m.\u001b[0m\u001b[0m_backend\u001b[0m\u001b[0;34m,\u001b[0m \u001b[0mn_jobs\u001b[0m\u001b[0;34m=\u001b[0m\u001b[0mself\u001b[0m\u001b[0;34m.\u001b[0m\u001b[0m_n_jobs\u001b[0m\u001b[0;34m)\u001b[0m\u001b[0;34m:\u001b[0m\u001b[0;34m\u001b[0m\u001b[0;34m\u001b[0m\u001b[0m\n\u001b[1;32m    255\u001b[0m             return [func(*args, **kwargs)\n\u001b[0;32m--> 256\u001b[0;31m                     for func, args, kwargs in self.items]\n\u001b[0m\u001b[1;32m    257\u001b[0m \u001b[0;34m\u001b[0m\u001b[0m\n\u001b[1;32m    258\u001b[0m     \u001b[0;32mdef\u001b[0m \u001b[0m__len__\u001b[0m\u001b[0;34m(\u001b[0m\u001b[0mself\u001b[0m\u001b[0;34m)\u001b[0m\u001b[0;34m:\u001b[0m\u001b[0;34m\u001b[0m\u001b[0;34m\u001b[0m\u001b[0m\n",
            "\u001b[0;32m/usr/local/lib/python3.6/dist-packages/sklearn/model_selection/_validation.py\u001b[0m in \u001b[0;36m_fit_and_score\u001b[0;34m(estimator, X, y, scorer, train, test, verbose, parameters, fit_params, return_train_score, return_parameters, return_n_test_samples, return_times, return_estimator, error_score)\u001b[0m\n\u001b[1;32m    514\u001b[0m             \u001b[0mestimator\u001b[0m\u001b[0;34m.\u001b[0m\u001b[0mfit\u001b[0m\u001b[0;34m(\u001b[0m\u001b[0mX_train\u001b[0m\u001b[0;34m,\u001b[0m \u001b[0;34m**\u001b[0m\u001b[0mfit_params\u001b[0m\u001b[0;34m)\u001b[0m\u001b[0;34m\u001b[0m\u001b[0;34m\u001b[0m\u001b[0m\n\u001b[1;32m    515\u001b[0m         \u001b[0;32melse\u001b[0m\u001b[0;34m:\u001b[0m\u001b[0;34m\u001b[0m\u001b[0;34m\u001b[0m\u001b[0m\n\u001b[0;32m--> 516\u001b[0;31m             \u001b[0mestimator\u001b[0m\u001b[0;34m.\u001b[0m\u001b[0mfit\u001b[0m\u001b[0;34m(\u001b[0m\u001b[0mX_train\u001b[0m\u001b[0;34m,\u001b[0m \u001b[0my_train\u001b[0m\u001b[0;34m,\u001b[0m \u001b[0;34m**\u001b[0m\u001b[0mfit_params\u001b[0m\u001b[0;34m)\u001b[0m\u001b[0;34m\u001b[0m\u001b[0;34m\u001b[0m\u001b[0m\n\u001b[0m\u001b[1;32m    517\u001b[0m \u001b[0;34m\u001b[0m\u001b[0m\n\u001b[1;32m    518\u001b[0m     \u001b[0;32mexcept\u001b[0m \u001b[0mException\u001b[0m \u001b[0;32mas\u001b[0m \u001b[0me\u001b[0m\u001b[0;34m:\u001b[0m\u001b[0;34m\u001b[0m\u001b[0;34m\u001b[0m\u001b[0m\n",
            "\u001b[0;32m/usr/local/lib/python3.6/dist-packages/sklearn/linear_model/logistic.py\u001b[0m in \u001b[0;36mfit\u001b[0;34m(self, X, y, sample_weight)\u001b[0m\n\u001b[1;32m   1547\u001b[0m                 \u001b[0mself\u001b[0m\u001b[0;34m.\u001b[0m\u001b[0mclass_weight\u001b[0m\u001b[0;34m,\u001b[0m \u001b[0mself\u001b[0m\u001b[0;34m.\u001b[0m\u001b[0mpenalty\u001b[0m\u001b[0;34m,\u001b[0m \u001b[0mself\u001b[0m\u001b[0;34m.\u001b[0m\u001b[0mdual\u001b[0m\u001b[0;34m,\u001b[0m \u001b[0mself\u001b[0m\u001b[0;34m.\u001b[0m\u001b[0mverbose\u001b[0m\u001b[0;34m,\u001b[0m\u001b[0;34m\u001b[0m\u001b[0;34m\u001b[0m\u001b[0m\n\u001b[1;32m   1548\u001b[0m                 \u001b[0mself\u001b[0m\u001b[0;34m.\u001b[0m\u001b[0mmax_iter\u001b[0m\u001b[0;34m,\u001b[0m \u001b[0mself\u001b[0m\u001b[0;34m.\u001b[0m\u001b[0mtol\u001b[0m\u001b[0;34m,\u001b[0m \u001b[0mself\u001b[0m\u001b[0;34m.\u001b[0m\u001b[0mrandom_state\u001b[0m\u001b[0;34m,\u001b[0m\u001b[0;34m\u001b[0m\u001b[0;34m\u001b[0m\u001b[0m\n\u001b[0;32m-> 1549\u001b[0;31m                 sample_weight=sample_weight)\n\u001b[0m\u001b[1;32m   1550\u001b[0m             \u001b[0mself\u001b[0m\u001b[0;34m.\u001b[0m\u001b[0mn_iter_\u001b[0m \u001b[0;34m=\u001b[0m \u001b[0mnp\u001b[0m\u001b[0;34m.\u001b[0m\u001b[0marray\u001b[0m\u001b[0;34m(\u001b[0m\u001b[0;34m[\u001b[0m\u001b[0mn_iter_\u001b[0m\u001b[0;34m]\u001b[0m\u001b[0;34m)\u001b[0m\u001b[0;34m\u001b[0m\u001b[0;34m\u001b[0m\u001b[0m\n\u001b[1;32m   1551\u001b[0m             \u001b[0;32mreturn\u001b[0m \u001b[0mself\u001b[0m\u001b[0;34m\u001b[0m\u001b[0;34m\u001b[0m\u001b[0m\n",
            "\u001b[0;32m/usr/local/lib/python3.6/dist-packages/sklearn/svm/base.py\u001b[0m in \u001b[0;36m_fit_liblinear\u001b[0;34m(X, y, C, fit_intercept, intercept_scaling, class_weight, penalty, dual, verbose, max_iter, tol, random_state, multi_class, loss, epsilon, sample_weight)\u001b[0m\n\u001b[1;32m    919\u001b[0m         \u001b[0mX\u001b[0m\u001b[0;34m,\u001b[0m \u001b[0my_ind\u001b[0m\u001b[0;34m,\u001b[0m \u001b[0msp\u001b[0m\u001b[0;34m.\u001b[0m\u001b[0misspmatrix\u001b[0m\u001b[0;34m(\u001b[0m\u001b[0mX\u001b[0m\u001b[0;34m)\u001b[0m\u001b[0;34m,\u001b[0m \u001b[0msolver_type\u001b[0m\u001b[0;34m,\u001b[0m \u001b[0mtol\u001b[0m\u001b[0;34m,\u001b[0m \u001b[0mbias\u001b[0m\u001b[0;34m,\u001b[0m \u001b[0mC\u001b[0m\u001b[0;34m,\u001b[0m\u001b[0;34m\u001b[0m\u001b[0;34m\u001b[0m\u001b[0m\n\u001b[1;32m    920\u001b[0m         \u001b[0mclass_weight_\u001b[0m\u001b[0;34m,\u001b[0m \u001b[0mmax_iter\u001b[0m\u001b[0;34m,\u001b[0m \u001b[0mrnd\u001b[0m\u001b[0;34m.\u001b[0m\u001b[0mrandint\u001b[0m\u001b[0;34m(\u001b[0m\u001b[0mnp\u001b[0m\u001b[0;34m.\u001b[0m\u001b[0miinfo\u001b[0m\u001b[0;34m(\u001b[0m\u001b[0;34m'i'\u001b[0m\u001b[0;34m)\u001b[0m\u001b[0;34m.\u001b[0m\u001b[0mmax\u001b[0m\u001b[0;34m)\u001b[0m\u001b[0;34m,\u001b[0m\u001b[0;34m\u001b[0m\u001b[0;34m\u001b[0m\u001b[0m\n\u001b[0;32m--> 921\u001b[0;31m         epsilon, sample_weight)\n\u001b[0m\u001b[1;32m    922\u001b[0m     \u001b[0;31m# Regarding rnd.randint(..) in the above signature:\u001b[0m\u001b[0;34m\u001b[0m\u001b[0;34m\u001b[0m\u001b[0;34m\u001b[0m\u001b[0m\n\u001b[1;32m    923\u001b[0m     \u001b[0;31m# seed for srand in range [0..INT_MAX); due to limitations in Numpy\u001b[0m\u001b[0;34m\u001b[0m\u001b[0;34m\u001b[0m\u001b[0;34m\u001b[0m\u001b[0m\n",
            "\u001b[0;31mKeyboardInterrupt\u001b[0m: "
          ]
        }
      ]
    },
    {
      "cell_type": "code",
      "metadata": {
        "id": "-TjCCX5Cy__g",
        "colab_type": "code",
        "outputId": "5865e5b4-03af-46bb-d94f-fd7a9a70cc0d",
        "colab": {
          "base_uri": "https://localhost:8080/",
          "height": 105
        }
      },
      "source": [
        "grid_search.best_estimator_"
      ],
      "execution_count": 0,
      "outputs": [
        {
          "output_type": "execute_result",
          "data": {
            "text/plain": [
              "LogisticRegression(C=0.1, class_weight=None, dual=False, fit_intercept=True,\n",
              "                   intercept_scaling=1, l1_ratio=None, max_iter=100,\n",
              "                   multi_class='warn', n_jobs=None, penalty='l1',\n",
              "                   random_state=None, solver='warn', tol=0.0001, verbose=0,\n",
              "                   warm_start=False)"
            ]
          },
          "metadata": {
            "tags": []
          },
          "execution_count": 62
        }
      ]
    },
    {
      "cell_type": "markdown",
      "metadata": {
        "id": "TYjSx-xtEDtC",
        "colab_type": "text"
      },
      "source": [
        ""
      ]
    },
    {
      "cell_type": "code",
      "metadata": {
        "id": "jvaiUbhlLb75",
        "colab_type": "code",
        "colab": {}
      },
      "source": [
        "model = LogisticRegression(C=0.1, class_weight=None, penalty='l1', random_state=42, fit_intercept=True)"
      ],
      "execution_count": 0,
      "outputs": []
    },
    {
      "cell_type": "code",
      "metadata": {
        "id": "yp0Fl3hdMagr",
        "colab_type": "code",
        "outputId": "f3d9b90c-aa56-4a24-a61d-74945ab693e0",
        "colab": {
          "base_uri": "https://localhost:8080/",
          "height": 104
        }
      },
      "source": [
        "model.fit(X_train, Y_train)"
      ],
      "execution_count": 0,
      "outputs": [
        {
          "output_type": "execute_result",
          "data": {
            "text/plain": [
              "LogisticRegression(C=0.1, class_weight=None, dual=False, fit_intercept=True,\n",
              "                   intercept_scaling=1, l1_ratio=None, max_iter=100,\n",
              "                   multi_class='warn', n_jobs=None, penalty='l1',\n",
              "                   random_state=42, solver='warn', tol=0.0001, verbose=0,\n",
              "                   warm_start=False)"
            ]
          },
          "metadata": {
            "tags": []
          },
          "execution_count": 58
        }
      ]
    },
    {
      "cell_type": "code",
      "metadata": {
        "id": "Czt3CbtqOGeC",
        "colab_type": "code",
        "colab": {}
      },
      "source": [
        "pred_values = model.predict_proba(X_test)"
      ],
      "execution_count": 0,
      "outputs": []
    },
    {
      "cell_type": "code",
      "metadata": {
        "colab_type": "code",
        "id": "4wylrxM3ABpJ",
        "colab": {}
      },
      "source": [
        "c = metrics.confusion_matrix(Y_test, pred_values)"
      ],
      "execution_count": 0,
      "outputs": []
    },
    {
      "cell_type": "code",
      "metadata": {
        "colab_type": "code",
        "outputId": "1fba9ccf-0fda-4c75-f137-9ebfb1340e7b",
        "id": "VaVeLJBaABHz",
        "colab": {
          "base_uri": "https://localhost:8080/",
          "height": 55
        }
      },
      "source": [
        "c"
      ],
      "execution_count": 0,
      "outputs": [
        {
          "output_type": "execute_result",
          "data": {
            "text/plain": [
              "array([[38663, 35868],\n",
              "       [ 7241, 12717]])"
            ]
          },
          "metadata": {
            "tags": []
          },
          "execution_count": 149
        }
      ]
    },
    {
      "cell_type": "code",
      "metadata": {
        "id": "NBUYl7ltPjsW",
        "colab_type": "code",
        "colab": {}
      },
      "source": [
        "TN = c[0,0]\n",
        "TP = c[1,1]\n",
        "FN = c[1,0]\n",
        "FP = c[0,1]"
      ],
      "execution_count": 0,
      "outputs": []
    },
    {
      "cell_type": "code",
      "metadata": {
        "id": "zWwwn4S3QBwp",
        "colab_type": "code",
        "outputId": "3b638735-2188-4cb8-9127-a552c026d4b7",
        "colab": {
          "base_uri": "https://localhost:8080/",
          "height": 36
        }
      },
      "source": [
        "sensitivity = TP/float(TP+FN)\n",
        "specificity = TN/float(TN+FP)\n",
        "print(sensitivity, specificity)"
      ],
      "execution_count": 0,
      "outputs": [
        {
          "output_type": "stream",
          "text": [
            "0.17526806293215752 0.8901530906602622\n"
          ],
          "name": "stdout"
        }
      ]
    },
    {
      "cell_type": "code",
      "metadata": {
        "id": "bZpDJ_1MRDJi",
        "colab_type": "code",
        "colab": {}
      },
      "source": [
        "pred_prob = model.predict_proba(X_test)[:,1]"
      ],
      "execution_count": 0,
      "outputs": []
    },
    {
      "cell_type": "code",
      "metadata": {
        "id": "RVIIz0wORB9A",
        "colab_type": "code",
        "colab": {}
      },
      "source": [
        "test_classes=(pred_prob>0.55).astype(int)"
      ],
      "execution_count": 0,
      "outputs": []
    },
    {
      "cell_type": "code",
      "metadata": {
        "id": "C0UJm9VOVEaF",
        "colab_type": "code",
        "outputId": "1525e31b-a4b4-417e-e436-b8abd5e3e074",
        "colab": {
          "base_uri": "https://localhost:8080/",
          "height": 36
        }
      },
      "source": [
        "metrics.accuracy_score(Y_test, test_classes)"
      ],
      "execution_count": 0,
      "outputs": [
        {
          "output_type": "execute_result",
          "data": {
            "text/plain": [
              "0.6522346516525733"
            ]
          },
          "metadata": {
            "tags": []
          },
          "execution_count": 154
        }
      ]
    },
    {
      "cell_type": "code",
      "metadata": {
        "id": "1oJGeAe3VNkP",
        "colab_type": "code",
        "outputId": "d426219c-7621-495a-bbf7-13baddf6d7d9",
        "colab": {
          "base_uri": "https://localhost:8080/",
          "height": 55
        }
      },
      "source": [
        "c = metrics.confusion_matrix(Y_test, test_classes)\n",
        "c"
      ],
      "execution_count": 0,
      "outputs": [
        {
          "output_type": "execute_result",
          "data": {
            "text/plain": [
              "array([[53382, 21149],\n",
              "       [11711,  8247]])"
            ]
          },
          "metadata": {
            "tags": []
          },
          "execution_count": 155
        }
      ]
    },
    {
      "cell_type": "code",
      "metadata": {
        "id": "TN1iGh78VoG5",
        "colab_type": "code",
        "outputId": "05c048ac-1bb0-4e8a-b9b3-1c854f9c6bd9",
        "colab": {
          "base_uri": "https://localhost:8080/",
          "height": 36
        }
      },
      "source": [
        "roc_auc_score(Y_test, pred_prob)"
      ],
      "execution_count": 0,
      "outputs": [
        {
          "output_type": "execute_result",
          "data": {
            "text/plain": [
              "0.6076562077810101"
            ]
          },
          "metadata": {
            "tags": []
          },
          "execution_count": 156
        }
      ]
    },
    {
      "cell_type": "code",
      "metadata": {
        "id": "jYBlA9jTzeEK",
        "colab_type": "code",
        "colab": {}
      },
      "source": [
        "logr=grid_search.best_estimator_"
      ],
      "execution_count": 0,
      "outputs": []
    },
    {
      "cell_type": "code",
      "metadata": {
        "id": "DGYkxQeKzhGO",
        "colab_type": "code",
        "outputId": "c9ec93d5-e98c-44d0-e467-e4b5f05747f4",
        "colab": {
          "base_uri": "https://localhost:8080/",
          "height": 105
        }
      },
      "source": [
        "logr.fit(X_train,Y_train)"
      ],
      "execution_count": 0,
      "outputs": [
        {
          "output_type": "execute_result",
          "data": {
            "text/plain": [
              "LogisticRegression(C=0.1, class_weight=None, dual=False, fit_intercept=True,\n",
              "                   intercept_scaling=1, l1_ratio=None, max_iter=100,\n",
              "                   multi_class='warn', n_jobs=None, penalty='l1',\n",
              "                   random_state=None, solver='warn', tol=0.0001, verbose=0,\n",
              "                   warm_start=False)"
            ]
          },
          "metadata": {
            "tags": []
          },
          "execution_count": 65
        }
      ]
    },
    {
      "cell_type": "code",
      "metadata": {
        "id": "KdRIvtmKzkFr",
        "colab_type": "code",
        "colab": {}
      },
      "source": [
        "def report(results, n_top=3):\n",
        "    for i in range(1, n_top + 1):\n",
        "        candidates = np.flatnonzero(results['rank_test_score'] == i)\n",
        "        for candidate in candidates:\n",
        "            print(\"Model with rank: {0}\".format(i))\n",
        "            print(\"Mean validation score: {0:.3f} (std: {1:.3f})\".format(\n",
        "                  results['mean_test_score'][candidate],\n",
        "                  results['std_test_score'][candidate]))\n",
        "            print(\"Parameters: {0}\".format(results['params'][candidate]))\n",
        "            print(\"\")"
      ],
      "execution_count": 0,
      "outputs": []
    },
    {
      "cell_type": "code",
      "metadata": {
        "id": "bA-zE0uOzplG",
        "colab_type": "code",
        "outputId": "f1669534-f55a-464a-b9c5-6f926c4bb100",
        "colab": {
          "base_uri": "https://localhost:8080/",
          "height": 372
        }
      },
      "source": [
        "report(grid_search.cv_results_, 5)"
      ],
      "execution_count": 0,
      "outputs": [
        {
          "output_type": "stream",
          "text": [
            "Model with rank: 1\n",
            "Mean validation score: 0.608 (std: 0.001)\n",
            "Parameters: {'C': 0.1, 'class_weight': None, 'penalty': 'l1'}\n",
            "\n",
            "Model with rank: 2\n",
            "Mean validation score: 0.608 (std: 0.001)\n",
            "Parameters: {'C': 0.01, 'class_weight': None, 'penalty': 'l2'}\n",
            "\n",
            "Model with rank: 3\n",
            "Mean validation score: 0.608 (std: 0.001)\n",
            "Parameters: {'C': 1, 'class_weight': None, 'penalty': 'l1'}\n",
            "\n",
            "Model with rank: 4\n",
            "Mean validation score: 0.608 (std: 0.001)\n",
            "Parameters: {'C': 4, 'class_weight': None, 'penalty': 'l1'}\n",
            "\n",
            "Model with rank: 5\n",
            "Mean validation score: 0.608 (std: 0.001)\n",
            "Parameters: {'C': 10, 'class_weight': None, 'penalty': 'l1'}\n",
            "\n"
          ],
          "name": "stdout"
        }
      ]
    },
    {
      "cell_type": "code",
      "metadata": {
        "id": "1Qa0pPSuYSrR",
        "colab_type": "code",
        "outputId": "dccd1cdc-c617-443c-926f-596a0ddcf467",
        "colab": {
          "base_uri": "https://localhost:8080/",
          "height": 176
        }
      },
      "source": [
        "cutoffs=np.linspace(0.01,0.99,99)\n",
        "\n",
        "cutoffs"
      ],
      "execution_count": 0,
      "outputs": [
        {
          "output_type": "execute_result",
          "data": {
            "text/plain": [
              "array([0.01, 0.02, 0.03, 0.04, 0.05, 0.06, 0.07, 0.08, 0.09, 0.1 , 0.11,\n",
              "       0.12, 0.13, 0.14, 0.15, 0.16, 0.17, 0.18, 0.19, 0.2 , 0.21, 0.22,\n",
              "       0.23, 0.24, 0.25, 0.26, 0.27, 0.28, 0.29, 0.3 , 0.31, 0.32, 0.33,\n",
              "       0.34, 0.35, 0.36, 0.37, 0.38, 0.39, 0.4 , 0.41, 0.42, 0.43, 0.44,\n",
              "       0.45, 0.46, 0.47, 0.48, 0.49, 0.5 , 0.51, 0.52, 0.53, 0.54, 0.55,\n",
              "       0.56, 0.57, 0.58, 0.59, 0.6 , 0.61, 0.62, 0.63, 0.64, 0.65, 0.66,\n",
              "       0.67, 0.68, 0.69, 0.7 , 0.71, 0.72, 0.73, 0.74, 0.75, 0.76, 0.77,\n",
              "       0.78, 0.79, 0.8 , 0.81, 0.82, 0.83, 0.84, 0.85, 0.86, 0.87, 0.88,\n",
              "       0.89, 0.9 , 0.91, 0.92, 0.93, 0.94, 0.95, 0.96, 0.97, 0.98, 0.99])"
            ]
          },
          "metadata": {
            "tags": []
          },
          "execution_count": 68
        }
      ]
    },
    {
      "cell_type": "code",
      "metadata": {
        "id": "qidDUl_iYd-M",
        "colab_type": "code",
        "outputId": "b73941fa-3ddc-482c-e52b-ebf4a5247d54",
        "colab": {
          "base_uri": "https://localhost:8080/",
          "height": 52
        }
      },
      "source": [
        "train_score=logr.predict_proba(X_train)[:,1]\n",
        "\n",
        "real=Y_train\n",
        "\n",
        "train_score"
      ],
      "execution_count": 0,
      "outputs": [
        {
          "output_type": "execute_result",
          "data": {
            "text/plain": [
              "array([0.27981611, 0.20633481, 0.15598675, ..., 0.21150488, 0.27208478,\n",
              "       0.15912225])"
            ]
          },
          "metadata": {
            "tags": []
          },
          "execution_count": 69
        }
      ]
    },
    {
      "cell_type": "code",
      "metadata": {
        "id": "kjf6_gxZYoGD",
        "colab_type": "code",
        "colab": {}
      },
      "source": [
        "KS_all=[]\n",
        "\n",
        "for cutoff in cutoffs:\n",
        "    \n",
        "    predicted=(train_score>cutoff).astype(int)\n",
        "\n",
        "    TP=((predicted==1) & (real==1)).sum()\n",
        "    TN=((predicted==0) & (real==0)).sum()\n",
        "    FP=((predicted==1) & (real==0)).sum()\n",
        "    FN=((predicted==0) & (real==1)).sum()\n",
        "    \n",
        "    P=TP+FN\n",
        "    N=TN+FP\n",
        "      \n",
        "    KS=(TP/P)-(FP/N)\n",
        "    \n",
        "    \n",
        "    KS_all.append(KS)\n",
        "\n",
        "# try out what cutoffs you get when you use F_beta scores with different values of betas [0.5 , 5]\n",
        "# beta < 1 : you will get cutoff , which is high ( favours precision)\n",
        "# beta > 1 : you will get cutoff , which is low (favours precision )"
      ],
      "execution_count": 0,
      "outputs": []
    },
    {
      "cell_type": "code",
      "metadata": {
        "id": "dbBhGcpKYr5r",
        "colab_type": "code",
        "outputId": "b3f0bac7-65b3-4651-d624-b7f5f9223ca8",
        "colab": {
          "base_uri": "https://localhost:8080/",
          "height": 34
        }
      },
      "source": [
        "max(KS_all)"
      ],
      "execution_count": 0,
      "outputs": [
        {
          "output_type": "execute_result",
          "data": {
            "text/plain": [
              "0.15634385609218493"
            ]
          },
          "metadata": {
            "tags": []
          },
          "execution_count": 71
        }
      ]
    },
    {
      "cell_type": "code",
      "metadata": {
        "id": "G783gHXNYuQN",
        "colab_type": "code",
        "outputId": "53668335-1f1b-4c68-f88d-d2bbc91e1570",
        "colab": {
          "base_uri": "https://localhost:8080/",
          "height": 34
        }
      },
      "source": [
        "mycutoff=cutoffs[KS_all==max(KS_all)][0]\n",
        "mycutoff"
      ],
      "execution_count": 0,
      "outputs": [
        {
          "output_type": "execute_result",
          "data": {
            "text/plain": [
              "0.22"
            ]
          },
          "metadata": {
            "tags": []
          },
          "execution_count": 72
        }
      ]
    },
    {
      "cell_type": "code",
      "metadata": {
        "id": "zxKj4o47X98Z",
        "colab_type": "code",
        "colab": {}
      },
      "source": [
        "test_score=model.predict_proba(X_test)[:,1]"
      ],
      "execution_count": 0,
      "outputs": []
    },
    {
      "cell_type": "code",
      "metadata": {
        "id": "_4zHiQriZJQf",
        "colab_type": "code",
        "colab": {}
      },
      "source": [
        "test_classes=(test_score>0.25).astype(int)"
      ],
      "execution_count": 0,
      "outputs": []
    },
    {
      "cell_type": "code",
      "metadata": {
        "id": "xtmsQ8K9ZNG0",
        "colab_type": "code",
        "outputId": "4dfd9add-69b7-40e1-c4e9-575b68501052",
        "colab": {
          "base_uri": "https://localhost:8080/",
          "height": 35
        }
      },
      "source": [
        "roc_auc_score(Y_test, test_classes)"
      ],
      "execution_count": 0,
      "outputs": [
        {
          "output_type": "execute_result",
          "data": {
            "text/plain": [
              "0.5758929330077283"
            ]
          },
          "metadata": {
            "tags": []
          },
          "execution_count": 70
        }
      ]
    },
    {
      "cell_type": "markdown",
      "metadata": {
        "id": "CfD75q6HKIpK",
        "colab_type": "text"
      },
      "source": [
        "Train the model on the entire training data"
      ]
    },
    {
      "cell_type": "code",
      "metadata": {
        "id": "15iKK1JLZh-2",
        "colab_type": "code",
        "outputId": "8f2b0516-de4a-4b14-aafa-1d5521f67b80",
        "colab": {
          "base_uri": "https://localhost:8080/",
          "height": 113
        }
      },
      "source": [
        "logr.fit(X, y)"
      ],
      "execution_count": 0,
      "outputs": [
        {
          "output_type": "execute_result",
          "data": {
            "text/plain": [
              "LogisticRegression(C=0.01, class_weight='balanced', dual=False,\n",
              "                   fit_intercept=True, intercept_scaling=1, l1_ratio=None,\n",
              "                   max_iter=100, multi_class='warn', n_jobs=None, penalty='l2',\n",
              "                   random_state=None, solver='warn', tol=0.0001, verbose=0,\n",
              "                   warm_start=False)"
            ]
          },
          "metadata": {
            "tags": []
          },
          "execution_count": 184
        }
      ]
    },
    {
      "cell_type": "code",
      "metadata": {
        "id": "J6ZjNIwOZ59-",
        "colab_type": "code",
        "colab": {}
      },
      "source": [
        "test_score=logr.predict_proba(test_data)[:,1]"
      ],
      "execution_count": 0,
      "outputs": []
    },
    {
      "cell_type": "code",
      "metadata": {
        "id": "0GFop1icZ5h3",
        "colab_type": "code",
        "colab": {}
      },
      "source": [
        "test_classes=(test_score>mycutoff).astype(int)"
      ],
      "execution_count": 0,
      "outputs": []
    },
    {
      "cell_type": "code",
      "metadata": {
        "id": "MeGax_zFZ5Jx",
        "colab_type": "code",
        "colab": {}
      },
      "source": [
        "pd.DataFrame(test_classes).to_csv(\"Logistic.csv\",index=False)"
      ],
      "execution_count": 0,
      "outputs": []
    },
    {
      "cell_type": "markdown",
      "metadata": {
        "id": "dEoZ8E1F09Tg",
        "colab_type": "text"
      },
      "source": [
        "# Decision Tree"
      ]
    },
    {
      "cell_type": "code",
      "metadata": {
        "id": "Pd9wrS1M3L4i",
        "colab_type": "code",
        "colab": {}
      },
      "source": [
        "from sklearn.tree import DecisionTreeClassifier"
      ],
      "execution_count": 0,
      "outputs": []
    },
    {
      "cell_type": "code",
      "metadata": {
        "id": "wVENBmfwEarS",
        "colab_type": "code",
        "colab": {}
      },
      "source": [
        "clf = DecisionTreeClassifier()"
      ],
      "execution_count": 0,
      "outputs": []
    },
    {
      "cell_type": "code",
      "metadata": {
        "id": "cIB_JFT7E2Hh",
        "colab_type": "code",
        "outputId": "dccdf6eb-4c95-41aa-a310-6306061ef9e2",
        "colab": {
          "base_uri": "https://localhost:8080/",
          "height": 87
        }
      },
      "source": [
        "max_depth = [int(x) for x in np.linspace(10, 50, num = 3)]\n",
        "min_samples_split = [2, 5, 10]\n",
        "min_samples_leaf = [1, 2, 4]\n",
        "\n",
        "random_grid = {\n",
        "    'max_depth': max_depth,\n",
        "    'min_samples_split': min_samples_split,\n",
        "    'min_samples_leaf': min_samples_leaf,\n",
        "    'criterion': [\"gini\", \"entropy\"]\n",
        "}\n",
        "\n",
        "random_grid"
      ],
      "execution_count": 0,
      "outputs": [
        {
          "output_type": "execute_result",
          "data": {
            "text/plain": [
              "{'criterion': ['gini', 'entropy'],\n",
              " 'max_depth': [10, 30, 50],\n",
              " 'min_samples_leaf': [1, 2, 4],\n",
              " 'min_samples_split': [2, 5, 10]}"
            ]
          },
          "metadata": {
            "tags": []
          },
          "execution_count": 38
        }
      ]
    },
    {
      "cell_type": "code",
      "metadata": {
        "id": "-BosW71wEuko",
        "colab_type": "code",
        "colab": {}
      },
      "source": [
        "clf_random = RandomizedSearchCV(estimator = clf, param_distributions = random_grid, n_iter = 10, cv = 5, verbose=2, random_state=42, scoring='roc_auc')"
      ],
      "execution_count": 0,
      "outputs": []
    },
    {
      "cell_type": "code",
      "metadata": {
        "id": "RhMgLXw2GNzc",
        "colab_type": "code",
        "outputId": "2f5a38e6-2bfb-40e7-ccbf-3f8e5595f9c0",
        "colab": {
          "base_uri": "https://localhost:8080/",
          "height": 1000
        }
      },
      "source": [
        "clf_random.fit(X_train, Y_train)"
      ],
      "execution_count": 0,
      "outputs": [
        {
          "output_type": "stream",
          "text": [
            "Fitting 5 folds for each of 10 candidates, totalling 50 fits\n",
            "[CV] min_samples_split=5, min_samples_leaf=1, max_depth=50, criterion=gini \n"
          ],
          "name": "stdout"
        },
        {
          "output_type": "stream",
          "text": [
            "[Parallel(n_jobs=1)]: Using backend SequentialBackend with 1 concurrent workers.\n"
          ],
          "name": "stderr"
        },
        {
          "output_type": "stream",
          "text": [
            "[CV]  min_samples_split=5, min_samples_leaf=1, max_depth=50, criterion=gini, total=   4.0s\n",
            "[CV] min_samples_split=5, min_samples_leaf=1, max_depth=50, criterion=gini \n"
          ],
          "name": "stdout"
        },
        {
          "output_type": "stream",
          "text": [
            "[Parallel(n_jobs=1)]: Done   1 out of   1 | elapsed:    4.0s remaining:    0.0s\n"
          ],
          "name": "stderr"
        },
        {
          "output_type": "stream",
          "text": [
            "[CV]  min_samples_split=5, min_samples_leaf=1, max_depth=50, criterion=gini, total=   3.9s\n",
            "[CV] min_samples_split=5, min_samples_leaf=1, max_depth=50, criterion=gini \n",
            "[CV]  min_samples_split=5, min_samples_leaf=1, max_depth=50, criterion=gini, total=   3.8s\n",
            "[CV] min_samples_split=5, min_samples_leaf=1, max_depth=50, criterion=gini \n",
            "[CV]  min_samples_split=5, min_samples_leaf=1, max_depth=50, criterion=gini, total=   3.9s\n",
            "[CV] min_samples_split=5, min_samples_leaf=1, max_depth=50, criterion=gini \n",
            "[CV]  min_samples_split=5, min_samples_leaf=1, max_depth=50, criterion=gini, total=   3.7s\n",
            "[CV] min_samples_split=5, min_samples_leaf=2, max_depth=50, criterion=entropy \n",
            "[CV]  min_samples_split=5, min_samples_leaf=2, max_depth=50, criterion=entropy, total=   4.3s\n",
            "[CV] min_samples_split=5, min_samples_leaf=2, max_depth=50, criterion=entropy \n",
            "[CV]  min_samples_split=5, min_samples_leaf=2, max_depth=50, criterion=entropy, total=   4.3s\n",
            "[CV] min_samples_split=5, min_samples_leaf=2, max_depth=50, criterion=entropy \n",
            "[CV]  min_samples_split=5, min_samples_leaf=2, max_depth=50, criterion=entropy, total=   4.1s\n",
            "[CV] min_samples_split=5, min_samples_leaf=2, max_depth=50, criterion=entropy \n",
            "[CV]  min_samples_split=5, min_samples_leaf=2, max_depth=50, criterion=entropy, total=   4.1s\n",
            "[CV] min_samples_split=5, min_samples_leaf=2, max_depth=50, criterion=entropy \n",
            "[CV]  min_samples_split=5, min_samples_leaf=2, max_depth=50, criterion=entropy, total=   4.2s\n",
            "[CV] min_samples_split=2, min_samples_leaf=2, max_depth=50, criterion=entropy \n",
            "[CV]  min_samples_split=2, min_samples_leaf=2, max_depth=50, criterion=entropy, total=   4.3s\n",
            "[CV] min_samples_split=2, min_samples_leaf=2, max_depth=50, criterion=entropy \n",
            "[CV]  min_samples_split=2, min_samples_leaf=2, max_depth=50, criterion=entropy, total=   4.6s\n",
            "[CV] min_samples_split=2, min_samples_leaf=2, max_depth=50, criterion=entropy \n",
            "[CV]  min_samples_split=2, min_samples_leaf=2, max_depth=50, criterion=entropy, total=   4.1s\n",
            "[CV] min_samples_split=2, min_samples_leaf=2, max_depth=50, criterion=entropy \n",
            "[CV]  min_samples_split=2, min_samples_leaf=2, max_depth=50, criterion=entropy, total=   4.2s\n",
            "[CV] min_samples_split=2, min_samples_leaf=2, max_depth=50, criterion=entropy \n",
            "[CV]  min_samples_split=2, min_samples_leaf=2, max_depth=50, criterion=entropy, total=   4.2s\n",
            "[CV] min_samples_split=2, min_samples_leaf=2, max_depth=30, criterion=gini \n",
            "[CV]  min_samples_split=2, min_samples_leaf=2, max_depth=30, criterion=gini, total=   3.9s\n",
            "[CV] min_samples_split=2, min_samples_leaf=2, max_depth=30, criterion=gini \n",
            "[CV]  min_samples_split=2, min_samples_leaf=2, max_depth=30, criterion=gini, total=   3.8s\n",
            "[CV] min_samples_split=2, min_samples_leaf=2, max_depth=30, criterion=gini \n",
            "[CV]  min_samples_split=2, min_samples_leaf=2, max_depth=30, criterion=gini, total=   3.8s\n",
            "[CV] min_samples_split=2, min_samples_leaf=2, max_depth=30, criterion=gini \n",
            "[CV]  min_samples_split=2, min_samples_leaf=2, max_depth=30, criterion=gini, total=   3.8s\n",
            "[CV] min_samples_split=2, min_samples_leaf=2, max_depth=30, criterion=gini \n",
            "[CV]  min_samples_split=2, min_samples_leaf=2, max_depth=30, criterion=gini, total=   3.7s\n",
            "[CV] min_samples_split=10, min_samples_leaf=4, max_depth=30, criterion=entropy \n",
            "[CV]  min_samples_split=10, min_samples_leaf=4, max_depth=30, criterion=entropy, total=   4.0s\n",
            "[CV] min_samples_split=10, min_samples_leaf=4, max_depth=30, criterion=entropy \n",
            "[CV]  min_samples_split=10, min_samples_leaf=4, max_depth=30, criterion=entropy, total=   4.0s\n",
            "[CV] min_samples_split=10, min_samples_leaf=4, max_depth=30, criterion=entropy \n",
            "[CV]  min_samples_split=10, min_samples_leaf=4, max_depth=30, criterion=entropy, total=   3.8s\n",
            "[CV] min_samples_split=10, min_samples_leaf=4, max_depth=30, criterion=entropy \n",
            "[CV]  min_samples_split=10, min_samples_leaf=4, max_depth=30, criterion=entropy, total=   3.9s\n",
            "[CV] min_samples_split=10, min_samples_leaf=4, max_depth=30, criterion=entropy \n",
            "[CV]  min_samples_split=10, min_samples_leaf=4, max_depth=30, criterion=entropy, total=   4.0s\n",
            "[CV] min_samples_split=10, min_samples_leaf=2, max_depth=10, criterion=gini \n",
            "[CV]  min_samples_split=10, min_samples_leaf=2, max_depth=10, criterion=gini, total=   2.3s\n",
            "[CV] min_samples_split=10, min_samples_leaf=2, max_depth=10, criterion=gini \n",
            "[CV]  min_samples_split=10, min_samples_leaf=2, max_depth=10, criterion=gini, total=   2.3s\n",
            "[CV] min_samples_split=10, min_samples_leaf=2, max_depth=10, criterion=gini \n",
            "[CV]  min_samples_split=10, min_samples_leaf=2, max_depth=10, criterion=gini, total=   2.2s\n",
            "[CV] min_samples_split=10, min_samples_leaf=2, max_depth=10, criterion=gini \n",
            "[CV]  min_samples_split=10, min_samples_leaf=2, max_depth=10, criterion=gini, total=   2.2s\n",
            "[CV] min_samples_split=10, min_samples_leaf=2, max_depth=10, criterion=gini \n",
            "[CV]  min_samples_split=10, min_samples_leaf=2, max_depth=10, criterion=gini, total=   2.2s\n",
            "[CV] min_samples_split=10, min_samples_leaf=4, max_depth=30, criterion=gini \n",
            "[CV]  min_samples_split=10, min_samples_leaf=4, max_depth=30, criterion=gini, total=   3.7s\n",
            "[CV] min_samples_split=10, min_samples_leaf=4, max_depth=30, criterion=gini \n",
            "[CV]  min_samples_split=10, min_samples_leaf=4, max_depth=30, criterion=gini, total=   3.6s\n",
            "[CV] min_samples_split=10, min_samples_leaf=4, max_depth=30, criterion=gini \n",
            "[CV]  min_samples_split=10, min_samples_leaf=4, max_depth=30, criterion=gini, total=   3.6s\n",
            "[CV] min_samples_split=10, min_samples_leaf=4, max_depth=30, criterion=gini \n",
            "[CV]  min_samples_split=10, min_samples_leaf=4, max_depth=30, criterion=gini, total=   3.7s\n",
            "[CV] min_samples_split=10, min_samples_leaf=4, max_depth=30, criterion=gini \n",
            "[CV]  min_samples_split=10, min_samples_leaf=4, max_depth=30, criterion=gini, total=   3.5s\n",
            "[CV] min_samples_split=5, min_samples_leaf=4, max_depth=50, criterion=entropy \n",
            "[CV]  min_samples_split=5, min_samples_leaf=4, max_depth=50, criterion=entropy, total=   4.0s\n",
            "[CV] min_samples_split=5, min_samples_leaf=4, max_depth=50, criterion=entropy \n",
            "[CV]  min_samples_split=5, min_samples_leaf=4, max_depth=50, criterion=entropy, total=   4.1s\n",
            "[CV] min_samples_split=5, min_samples_leaf=4, max_depth=50, criterion=entropy \n",
            "[CV]  min_samples_split=5, min_samples_leaf=4, max_depth=50, criterion=entropy, total=   3.9s\n",
            "[CV] min_samples_split=5, min_samples_leaf=4, max_depth=50, criterion=entropy \n",
            "[CV]  min_samples_split=5, min_samples_leaf=4, max_depth=50, criterion=entropy, total=   3.9s\n",
            "[CV] min_samples_split=5, min_samples_leaf=4, max_depth=50, criterion=entropy \n",
            "[CV]  min_samples_split=5, min_samples_leaf=4, max_depth=50, criterion=entropy, total=   4.0s\n",
            "[CV] min_samples_split=2, min_samples_leaf=2, max_depth=10, criterion=gini \n",
            "[CV]  min_samples_split=2, min_samples_leaf=2, max_depth=10, criterion=gini, total=   2.3s\n",
            "[CV] min_samples_split=2, min_samples_leaf=2, max_depth=10, criterion=gini \n",
            "[CV]  min_samples_split=2, min_samples_leaf=2, max_depth=10, criterion=gini, total=   2.3s\n",
            "[CV] min_samples_split=2, min_samples_leaf=2, max_depth=10, criterion=gini \n",
            "[CV]  min_samples_split=2, min_samples_leaf=2, max_depth=10, criterion=gini, total=   2.2s\n",
            "[CV] min_samples_split=2, min_samples_leaf=2, max_depth=10, criterion=gini \n",
            "[CV]  min_samples_split=2, min_samples_leaf=2, max_depth=10, criterion=gini, total=   2.3s\n",
            "[CV] min_samples_split=2, min_samples_leaf=2, max_depth=10, criterion=gini \n",
            "[CV]  min_samples_split=2, min_samples_leaf=2, max_depth=10, criterion=gini, total=   2.2s\n",
            "[CV] min_samples_split=10, min_samples_leaf=2, max_depth=10, criterion=entropy \n",
            "[CV]  min_samples_split=10, min_samples_leaf=2, max_depth=10, criterion=entropy, total=   2.2s\n",
            "[CV] min_samples_split=10, min_samples_leaf=2, max_depth=10, criterion=entropy \n",
            "[CV]  min_samples_split=10, min_samples_leaf=2, max_depth=10, criterion=entropy, total=   2.3s\n",
            "[CV] min_samples_split=10, min_samples_leaf=2, max_depth=10, criterion=entropy \n",
            "[CV]  min_samples_split=10, min_samples_leaf=2, max_depth=10, criterion=entropy, total=   2.2s\n",
            "[CV] min_samples_split=10, min_samples_leaf=2, max_depth=10, criterion=entropy \n",
            "[CV]  min_samples_split=10, min_samples_leaf=2, max_depth=10, criterion=entropy, total=   2.2s\n",
            "[CV] min_samples_split=10, min_samples_leaf=2, max_depth=10, criterion=entropy \n",
            "[CV]  min_samples_split=10, min_samples_leaf=2, max_depth=10, criterion=entropy, total=   2.2s\n"
          ],
          "name": "stdout"
        },
        {
          "output_type": "stream",
          "text": [
            "[Parallel(n_jobs=1)]: Done  50 out of  50 | elapsed:  2.9min finished\n"
          ],
          "name": "stderr"
        },
        {
          "output_type": "execute_result",
          "data": {
            "text/plain": [
              "RandomizedSearchCV(cv=5, error_score='raise-deprecating',\n",
              "                   estimator=DecisionTreeClassifier(class_weight=None,\n",
              "                                                    criterion='gini',\n",
              "                                                    max_depth=None,\n",
              "                                                    max_features=None,\n",
              "                                                    max_leaf_nodes=None,\n",
              "                                                    min_impurity_decrease=0.0,\n",
              "                                                    min_impurity_split=None,\n",
              "                                                    min_samples_leaf=1,\n",
              "                                                    min_samples_split=2,\n",
              "                                                    min_weight_fraction_leaf=0.0,\n",
              "                                                    presort=False,\n",
              "                                                    random_state=None,\n",
              "                                                    splitter='best'),\n",
              "                   iid='warn', n_iter=10, n_jobs=None,\n",
              "                   param_distributions={'criterion': ['gini', 'entropy'],\n",
              "                                        'max_depth': [10, 30, 50],\n",
              "                                        'min_samples_leaf': [1, 2, 4],\n",
              "                                        'min_samples_split': [2, 5, 10]},\n",
              "                   pre_dispatch='2*n_jobs', random_state=42, refit=True,\n",
              "                   return_train_score=False, scoring='roc_auc', verbose=2)"
            ]
          },
          "metadata": {
            "tags": []
          },
          "execution_count": 40
        }
      ]
    },
    {
      "cell_type": "code",
      "metadata": {
        "id": "pl8IuoDAwP5U",
        "colab_type": "code",
        "outputId": "a90b0c1e-6b81-4fa0-cc20-0d68bcf04fcc",
        "colab": {
          "base_uri": "https://localhost:8080/",
          "height": 87
        }
      },
      "source": [
        "clf_random.best_params_"
      ],
      "execution_count": 0,
      "outputs": [
        {
          "output_type": "execute_result",
          "data": {
            "text/plain": [
              "{'criterion': 'entropy',\n",
              " 'max_depth': 10,\n",
              " 'min_samples_leaf': 2,\n",
              " 'min_samples_split': 10}"
            ]
          },
          "metadata": {
            "tags": []
          },
          "execution_count": 43
        }
      ]
    },
    {
      "cell_type": "code",
      "metadata": {
        "id": "byvV4eAJwYZS",
        "colab_type": "code",
        "colab": {}
      },
      "source": [
        "def report(results, n_top=3):\n",
        "    for i in range(1, n_top + 1):\n",
        "        candidates = np.flatnonzero(results['rank_test_score'] == i)\n",
        "        for candidate in candidates:\n",
        "            print(\"Model with rank: {0}\".format(i))\n",
        "            print(\"Mean validation score: {0:.3f} (std: {1:.3f})\".format(\n",
        "                  results['mean_test_score'][candidate],\n",
        "                  results['std_test_score'][candidate]))\n",
        "            print(\"Parameters: {0}\".format(results['params'][candidate]))\n",
        "            print(\"\")"
      ],
      "execution_count": 0,
      "outputs": []
    },
    {
      "cell_type": "code",
      "metadata": {
        "id": "Gi2bOF_SL0wm",
        "colab_type": "code",
        "outputId": "a7561fde-c646-44ef-949c-65b4b7295aad",
        "colab": {
          "base_uri": "https://localhost:8080/",
          "height": 372
        }
      },
      "source": [
        "report(clf_random.cv_results_, 5)"
      ],
      "execution_count": 0,
      "outputs": [
        {
          "output_type": "stream",
          "text": [
            "Model with rank: 1\n",
            "Mean validation score: 0.618 (std: 0.002)\n",
            "Parameters: {'min_samples_split': 10, 'min_samples_leaf': 2, 'max_depth': 10, 'criterion': 'entropy'}\n",
            "\n",
            "Model with rank: 2\n",
            "Mean validation score: 0.618 (std: 0.002)\n",
            "Parameters: {'min_samples_split': 2, 'min_samples_leaf': 2, 'max_depth': 10, 'criterion': 'gini'}\n",
            "\n",
            "Model with rank: 3\n",
            "Mean validation score: 0.618 (std: 0.002)\n",
            "Parameters: {'min_samples_split': 10, 'min_samples_leaf': 2, 'max_depth': 10, 'criterion': 'gini'}\n",
            "\n",
            "Model with rank: 4\n",
            "Mean validation score: 0.552 (std: 0.001)\n",
            "Parameters: {'min_samples_split': 10, 'min_samples_leaf': 4, 'max_depth': 30, 'criterion': 'gini'}\n",
            "\n",
            "Model with rank: 5\n",
            "Mean validation score: 0.552 (std: 0.002)\n",
            "Parameters: {'min_samples_split': 10, 'min_samples_leaf': 4, 'max_depth': 30, 'criterion': 'entropy'}\n",
            "\n"
          ],
          "name": "stdout"
        }
      ]
    },
    {
      "cell_type": "code",
      "metadata": {
        "id": "4irw6mGgGQoX",
        "colab_type": "code",
        "colab": {}
      },
      "source": [
        "model = clf_random.best_estimator_"
      ],
      "execution_count": 0,
      "outputs": []
    },
    {
      "cell_type": "code",
      "metadata": {
        "id": "algDIIoEwcjI",
        "colab_type": "code",
        "outputId": "6a85b67c-b2c6-4ff5-abca-68c051b5bca9",
        "colab": {
          "base_uri": "https://localhost:8080/",
          "height": 123
        }
      },
      "source": [
        "model.fit(X_train, Y_train)"
      ],
      "execution_count": 0,
      "outputs": [
        {
          "output_type": "execute_result",
          "data": {
            "text/plain": [
              "DecisionTreeClassifier(class_weight=None, criterion='entropy', max_depth=10,\n",
              "                       max_features=None, max_leaf_nodes=None,\n",
              "                       min_impurity_decrease=0.0, min_impurity_split=None,\n",
              "                       min_samples_leaf=2, min_samples_split=10,\n",
              "                       min_weight_fraction_leaf=0.0, presort=False,\n",
              "                       random_state=None, splitter='best')"
            ]
          },
          "metadata": {
            "tags": []
          },
          "execution_count": 79
        }
      ]
    },
    {
      "cell_type": "code",
      "metadata": {
        "id": "Mu0j2jdSMLna",
        "colab_type": "code",
        "colab": {}
      },
      "source": [
        "pred = model.predict(X_test)"
      ],
      "execution_count": 0,
      "outputs": []
    },
    {
      "cell_type": "code",
      "metadata": {
        "id": "zROnMSTOyGP3",
        "colab_type": "code",
        "outputId": "882d401d-a6cf-4ec8-f1a6-b20facabaf54",
        "colab": {
          "base_uri": "https://localhost:8080/",
          "height": 34
        }
      },
      "source": [
        "clf_random.best_score_"
      ],
      "execution_count": 0,
      "outputs": [
        {
          "output_type": "execute_result",
          "data": {
            "text/plain": [
              "0.6184582733597359"
            ]
          },
          "metadata": {
            "tags": []
          },
          "execution_count": 82
        }
      ]
    },
    {
      "cell_type": "code",
      "metadata": {
        "colab_type": "code",
        "id": "GGE4FQT5hbn0",
        "colab": {}
      },
      "source": [
        "pd.DataFrame(pred).to_csv(\"Decision.csv\",index=False)"
      ],
      "execution_count": 0,
      "outputs": []
    }
  ]
}